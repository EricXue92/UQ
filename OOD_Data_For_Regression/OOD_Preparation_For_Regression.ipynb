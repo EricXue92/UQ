{
 "cells": [
  {
   "cell_type": "code",
   "execution_count": 2,
   "id": "df994f20-3a3d-4ae4-89bc-8c51df7d923f",
   "metadata": {},
   "outputs": [],
   "source": [
    "import os \n",
    "import pandas as pd \n",
    "import numpy as np\n",
    "from sklearn.preprocessing import MinMaxScaler"
   ]
  },
  {
   "cell_type": "code",
   "execution_count": 3,
   "id": "f3f19100-038e-4659-92c2-0a1ae32bd9aa",
   "metadata": {},
   "outputs": [],
   "source": [
    "boston = pd.read_csv('Boston_Housing.csv')\n",
    "boston = boston.iloc[:, :12]\n",
    "scaler = MinMaxScaler()\n",
    "Boston = scaler.fit_transform(boston)\n",
    "# for save\n",
    "Boston = pd.DataFrame(Boston)\n",
    "Boston.to_csv('Boston.csv', index=False)"
   ]
  },
  {
   "cell_type": "markdown",
   "id": "e229402d",
   "metadata": {},
   "source": []
  },
  {
   "cell_type": "code",
   "execution_count": 4,
   "id": "df82726f-402a-4b13-8587-6921146e8b21",
   "metadata": {},
   "outputs": [],
   "source": [
    "naval = pd.read_csv('Naval_Propulsion.csv')\n",
    "naval = naval.iloc[:, :12]\n",
    "scaler = MinMaxScaler()\n",
    "naval = scaler.fit_transform(naval)\n",
    "# for save\n",
    "naval = pd.DataFrame(naval)\n",
    "naval.to_csv('naval.csv', index=False)"
   ]
  }
 ],
 "metadata": {
  "kernelspec": {
   "display_name": "Python 3 (ipykernel)",
   "language": "python",
   "name": "python3"
  },
  "language_info": {
   "codemirror_mode": {
    "name": "ipython",
    "version": 3
   },
   "file_extension": ".py",
   "mimetype": "text/x-python",
   "name": "python",
   "nbconvert_exporter": "python",
   "pygments_lexer": "ipython3",
   "version": "3.10.12"
  },
  "widgets": {
   "application/vnd.jupyter.widget-state+json": {
    "state": {},
    "version_major": 2,
    "version_minor": 0
   }
  }
 },
 "nbformat": 4,
 "nbformat_minor": 5
}
