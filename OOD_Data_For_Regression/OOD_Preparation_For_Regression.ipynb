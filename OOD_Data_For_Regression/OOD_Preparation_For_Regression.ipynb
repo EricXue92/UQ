{
 "cells": [
  {
   "cell_type": "code",
   "execution_count": 2,
   "id": "df994f20-3a3d-4ae4-89bc-8c51df7d923f",
   "metadata": {},
   "outputs": [],
   "source": [
    "import os \n",
    "import pandas as pd \n",
    "import numpy as np\n",
    "from sklearn.preprocessing import StandardScaler"
   ]
  },
  {
   "cell_type": "code",
   "execution_count": 5,
   "id": "f3f19100-038e-4659-92c2-0a1ae32bd9aa",
   "metadata": {},
   "outputs": [],
   "source": [
    "boston = pd.read_csv('Boston_Housing.csv')\n",
    "boston = boston.iloc[:, :11]\n",
    "scaler = StandardScaler()\n",
    "OOD_1 = scaler.fit_transform(boston)\n",
    "# for save\n",
    "OOD_1 = pd.DataFrame(OOD_1)\n",
    "OOD_1.to_csv('OOD_1.csv', index=False)"
   ]
  },
  {
   "cell_type": "code",
   "execution_count": 6,
   "id": "df82726f-402a-4b13-8587-6921146e8b21",
   "metadata": {},
   "outputs": [],
   "source": [
    "naval = pd.read_csv('Naval_Propulsion.csv')\n",
    "naval = naval.iloc[:, :11]\n",
    "scaler = StandardScaler()\n",
    "OOD_2 = scaler.fit_transform(naval)\n",
    "# for save\n",
    "OOD_2 = pd.DataFrame(OOD_2)\n",
    "OOD_2.to_csv('OOD_2.csv', index=False)"
   ]
  }
 ],
 "metadata": {
  "kernelspec": {
   "display_name": "Python 3 (ipykernel)",
   "language": "python",
   "name": "python3"
  },
  "language_info": {
   "codemirror_mode": {
    "name": "ipython",
    "version": 3
   },
   "file_extension": ".py",
   "mimetype": "text/x-python",
   "name": "python",
   "nbconvert_exporter": "python",
   "pygments_lexer": "ipython3",
   "version": "3.10.12"
  },
  "widgets": {
   "application/vnd.jupyter.widget-state+json": {
    "state": {},
    "version_major": 2,
    "version_minor": 0
   }
  }
 },
 "nbformat": 4,
 "nbformat_minor": 5
}
