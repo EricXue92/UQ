{
 "cells": [
  {
   "cell_type": "code",
   "execution_count": 1,
   "id": "df994f20-3a3d-4ae4-89bc-8c51df7d923f",
   "metadata": {},
   "outputs": [],
   "source": [
    "import os \n",
    "import pandas as pd \n",
    "import numpy as np\n",
    "from sklearn.preprocessing import StandardScaler, MinMaxScaler"
   ]
  },
  {
   "cell_type": "code",
   "execution_count": 50,
   "id": "f3f19100-038e-4659-92c2-0a1ae32bd9aa",
   "metadata": {},
   "outputs": [],
   "source": [
    "# g for good and b for bad\n",
    "ionosphere = pd.read_csv('ionosphere_data.csv')\n",
    "ionosphere['column_ai'] = ionosphere['column_ai'].map({'g':0, 'b':1})"
   ]
  },
  {
   "cell_type": "code",
   "execution_count": 51,
   "id": "df82726f-402a-4b13-8587-6921146e8b21",
   "metadata": {},
   "outputs": [],
   "source": [
    "#ionosphere_data['column_ai'].value_counts()\n",
    "#ionosphere_data.dtypes"
   ]
  },
  {
   "cell_type": "code",
   "execution_count": 52,
   "id": "390eafe0-a214-4926-805c-824c868ac580",
   "metadata": {
    "scrolled": true
   },
   "outputs": [],
   "source": [
    "ionosphere_X = ionosphere.iloc[:, 2:16]\n",
    "ionosphere_y = ionosphere['column_ai']\n",
    "\n",
    "scaler = MinMaxScaler()\n",
    "ionosphere_X = scaler.fit_transform(ionosphere_X)\n",
    "\n",
    "# for save\n",
    "ionosphere_X = pd.DataFrame(ionosphere_X)\n",
    "ionosphere_X.to_csv('ionosphere_X.csv', index=False)\n",
    "ionosphere_y.to_csv('ionosphere_y.csv', index=False)"
   ]
  },
  {
   "cell_type": "code",
   "execution_count": 53,
   "id": "0d60a98f-96d1-468f-ab47-7b145b57fd41",
   "metadata": {},
   "outputs": [],
   "source": [
    "sonar = pd.read_csv('sonar.all-data.csv')\n",
    "sonar['R'] = sonar['R'].map({'R':0, 'M':1})"
   ]
  },
  {
   "cell_type": "code",
   "execution_count": 54,
   "id": "7f2b972e-f3d5-4917-b94d-21530d2fadaa",
   "metadata": {},
   "outputs": [],
   "source": [
    "sonar_X = sonar.iloc[:, :14]\n",
    "sonar_y = sonar['R']\n",
    "\n",
    "scaler = MinMaxScaler()\n",
    "sonar_X = scaler.fit_transform(sonar_X)\n",
    "sonar_X = pd.DataFrame(sonar_X)\n",
    "sonar_X.to_csv('sonar_X.csv', index=False)\n",
    "sonar_y.to_csv('sonar_y.csv', index=False)"
   ]
  },
  {
   "cell_type": "code",
   "execution_count": null,
   "id": "02557bc5-1104-4382-ae6e-4cf3da64b677",
   "metadata": {},
   "outputs": [],
   "source": []
  }
 ],
 "metadata": {
  "kernelspec": {
   "display_name": "Python 3 (ipykernel)",
   "language": "python",
   "name": "python3"
  },
  "language_info": {
   "codemirror_mode": {
    "name": "ipython",
    "version": 3
   },
   "file_extension": ".py",
   "mimetype": "text/x-python",
   "name": "python",
   "nbconvert_exporter": "python",
   "pygments_lexer": "ipython3",
   "version": "3.10.12"
  },
  "widgets": {
   "application/vnd.jupyter.widget-state+json": {
    "state": {},
    "version_major": 2,
    "version_minor": 0
   }
  }
 },
 "nbformat": 4,
 "nbformat_minor": 5
}
