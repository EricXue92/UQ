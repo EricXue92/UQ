{
  "cells": [
    {
      "cell_type": "code",
      "execution_count": 1,
      "id": "4850640f-ec60-495c-b839-0dde8a1e255a",
      "metadata": {
        "colab": {
          "base_uri": "https://localhost:8080/",
          "height": 143
        },
        "id": "4850640f-ec60-495c-b839-0dde8a1e255a",
        "outputId": "f35004f8-d9d8-4826-93c8-95d04014d000"
      },
      "outputs": [
        {
          "name": "stderr",
          "output_type": "stream",
          "text": [
            "2024-02-29 21:05:30.706623: I tensorflow/core/util/port.cc:113] oneDNN custom operations are on. You may see slightly different numerical results due to floating-point round-off errors from different computation orders. To turn them off, set the environment variable `TF_ENABLE_ONEDNN_OPTS=0`.\n",
            "2024-02-29 21:05:30.841415: E external/local_xla/xla/stream_executor/cuda/cuda_dnn.cc:9261] Unable to register cuDNN factory: Attempting to register factory for plugin cuDNN when one has already been registered\n",
            "2024-02-29 21:05:30.841488: E external/local_xla/xla/stream_executor/cuda/cuda_fft.cc:607] Unable to register cuFFT factory: Attempting to register factory for plugin cuFFT when one has already been registered\n",
            "2024-02-29 21:05:30.863920: E external/local_xla/xla/stream_executor/cuda/cuda_blas.cc:1515] Unable to register cuBLAS factory: Attempting to register factory for plugin cuBLAS when one has already been registered\n",
            "2024-02-29 21:05:30.912704: I tensorflow/core/platform/cpu_feature_guard.cc:182] This TensorFlow binary is optimized to use available CPU instructions in performance-critical operations.\n",
            "To enable the following instructions: AVX2 AVX_VNNI FMA, in other operations, rebuild TensorFlow with the appropriate compiler flags.\n",
            "2024-02-29 21:05:31.538908: W tensorflow/compiler/tf2tensorrt/utils/py_utils.cc:38] TF-TRT Warning: Could not find TensorRT\n"
          ]
        }
      ],
      "source": [
        "import os\n",
        "import numpy as np\n",
        "import pandas as pd\n",
        "from datetime import datetime\n",
        "from sklearn.model_selection import train_test_split\n",
        "from sklearn.preprocessing import MinMaxScaler\n",
        "from sklearn.metrics import accuracy_score\n",
        "import seaborn as sns\n",
        "import matplotlib.pyplot as plt\n",
        "\n",
        "os.environ['TF_GPU_ALLOCATOR'] = 'cuda_malloc_async'\n",
        "\n",
        "pd.set_option('display.max_rows', None)\n",
        "pd.set_option('display.max_columns', None)\n",
        "\n",
        "import tensorflow as tf\n",
        "import official.nlp.modeling.layers as nlp_layers\n",
        "\n",
        "tf.keras.utils.set_random_seed(12)\n",
        "tf.config.experimental.enable_op_determinism()"
      ]
    },
    {
      "cell_type": "code",
      "execution_count": 2,
      "id": "0b600a59-adee-4edd-be23-4b4b8f57dcaf",
      "metadata": {
        "colab": {
          "base_uri": "https://localhost:8080/"
        },
        "id": "0b600a59-adee-4edd-be23-4b4b8f57dcaf",
        "outputId": "a4e6e535-7c53-450f-fd3d-3ed80219b82a"
      },
      "outputs": [],
      "source": [
        "seed = 12\n",
        "\n",
        "# X_train = pd.read_csv('Diabetes-Data-Shift/X_train.csv')\n",
        "# y_train = pd.read_csv('Diabetes-Data-Shift/y_train.csv')\n",
        "# # train: (872306, 142)  val: (96923, 142)\n",
        "# X_train, X_val, y_train, y_val = train_test_split(X_train, y_train, test_size = 0.1, random_state = seed)\n",
        "# # (121154, 142)\n",
        "# X_test = pd.read_csv('Diabetes-Data-Shift/X_id_test.csv')\n",
        "# y_test = pd.read_csv('Diabetes-Data-Shift/y_id_test.csv')\n",
        "# # (209375, 142)\n",
        "# X_shift = pd.read_csv('Diabetes-Data-Shift/X_ood_test.csv')\n",
        "# y_shift = pd.read_csv('Diabetes-Data-Shift/y_ood_test.csv')\n",
        "# OOD = pd.read_csv(\"heart_attack.csv\")\n",
        "\n",
        "X_train = pd.read_csv('Diabetes-Data-Shift/X_train.csv').sample(frac = 0.1, random_state=2)\n",
        "y_train = pd.read_csv('Diabetes-Data-Shift/y_train.csv').sample(frac = 0.1, random_state=2)\n",
        "# train: (872306, 142)  val: (96923, 142)\n",
        "X_train, X_val, y_train, y_val = train_test_split(X_train, y_train, test_size = 0.1, random_state = seed)\n",
        "# (121154, 142)\n",
        "X_test = pd.read_csv('Diabetes-Data-Shift/X_id_test.csv').sample(frac = 0.1, random_state=1)\n",
        "y_test = pd.read_csv('Diabetes-Data-Shift/y_id_test.csv').sample(frac = 0.1, random_state=1)\n",
        "# (209375, 142)\n",
        "X_shift = pd.read_csv('Diabetes-Data-Shift/X_ood_test.csv').sample(frac = 0.1, random_state=3)\n",
        "y_shift = pd.read_csv('Diabetes-Data-Shift/y_ood_test.csv').sample(frac = 0.1, random_state=3)\n",
        "OOD = pd.read_csv(\"heart_attack.csv\")\n",
        "\n",
        "# Scale all data \n",
        "scaler = MinMaxScaler()\n",
        "X_train = scaler.fit_transform(X_train.values)\n",
        "\n",
        "X_val = scaler.transform(X_val.values)\n",
        "X_test = scaler.transform(X_test.values)\n",
        "X_shift =  scaler.transform(X_shift.values)\n",
        "\n",
        "OOD = MinMaxScaler().fit_transform(OOD.values)\n"
      ]
    },
    {
      "cell_type": "code",
      "execution_count": 3,
      "id": "3d43d7c2",
      "metadata": {},
      "outputs": [],
      "source": [
        "# class Linear(keras.layers.Layer):\n",
        "#     def __init__(self, units=32, input_dim=32):\n",
        "#         super().__init__()\n",
        "#         self.w = self.add_weight(\n",
        "#             shape=(input_dim, units),\n",
        "#             initializer=\"random_normal\",\n",
        "#             trainable=True,\n",
        "#         )\n",
        "#         self.b = self.add_weight(shape=(units,), initializer=\"zeros\", trainable=True)\n",
        "\n",
        "#     def call(self, inputs):\n",
        "#         return ops.matmul(inputs, self.w) + self.b\n",
        "\n",
        "# x = ops.ones((2, 2))\n",
        "# linear_layer = Linear(4, 2)\n",
        "# y = linear_layer(x)\n",
        "# print(y)\n",
        "\n",
        "# [[ 0.085416   -0.06821361 -0.00741937 -0.03429271]\n",
        "#  [ 0.085416   -0.06821361 -0.00741937 -0.03429271]]\n",
        "\n",
        "# assert linear_layer.weights == [linear_layer.w, linear_layer.b]"
      ]
    },
    {
      "cell_type": "code",
      "execution_count": 4,
      "id": "c4572ee0",
      "metadata": {},
      "outputs": [],
      "source": [
        "# Best practice: deferring weight creation until the shape of the inputs is known\n",
        "\n",
        "# class Linear(keras.layers.Layer):\n",
        "#     def __init__(self, units=32):\n",
        "#         super().__init__()\n",
        "#         self.units = units\n",
        "\n",
        "#     def build(self, input_shape):\n",
        "#         self.w = self.add_weight(\n",
        "#             shape=(input_shape[-1], self.units),\n",
        "#             initializer=\"random_normal\",\n",
        "#             trainable=True,\n",
        "#         )\n",
        "#         self.b = self.add_weight(\n",
        "#             shape=(self.units,), initializer=\"random_normal\", trainable=True\n",
        "#         )\n",
        "\n",
        "#     def call(self, inputs):\n",
        "#         return ops.matmul(inputs, self.w) + self.b\n",
        "\n",
        "# # At instantiation, we don't know on what inputs this is going to get called\n",
        "# linear_layer = Linear(32)\n",
        "\n",
        "# # The layer's weights are created dynamically the first time the layer is called\n",
        "# y = linear_layer(x)"
      ]
    },
    {
      "cell_type": "code",
      "execution_count": 5,
      "id": "sChybeczlG7F",
      "metadata": {
        "id": "sChybeczlG7F"
      },
      "outputs": [],
      "source": [
        "class DeepResNet(tf.keras.Model):\n",
        "  \"\"\"Defines a multi-layer residual network.\"\"\"\n",
        "  def __init__(self, num_classes, num_layers = 3, num_hidden = 128,\n",
        "               dropout_rate=0.1, **classifier_kwargs):\n",
        "    \n",
        "    super().__init__()\n",
        "    # Defines class meta data.\n",
        "    self.num_hidden = num_hidden\n",
        "    self.num_layers = num_layers\n",
        "    self.dropout_rate = dropout_rate\n",
        "    self.classifier_kwargs = classifier_kwargs\n",
        "\n",
        "    # Defines the hidden layers.\n",
        "    self.input_layer = tf.keras.layers.Dense(self.num_hidden, trainable=False)\n",
        "    self.dense_layers = [ self.make_dense_layer() for _ in range(num_layers) ]\n",
        "\n",
        "    # Defines the output layer.\n",
        "    self.classifier = self.make_output_layer(num_classes)\n",
        " \n",
        "# This method should not be called directly. \n",
        "# It is only meant to be overridden when subclassing tf.keras.Model. \n",
        "# To call a model on an input, always use the __call__() method, \n",
        "# i.e. model(inputs), which relies on the underlying call() method.\n",
        " \n",
        "  def call(self, inputs, return_hidden = False):  # , return_hidden = False\n",
        "    # Projects the 2d input data to high dimension.\n",
        "    hidden = self.input_layer(inputs)\n",
        "    # Computes the ResNet hidden representations.\n",
        "    for i in range(self.num_layers):\n",
        "      resid = self.dense_layers[i](hidden)\n",
        "      resid = tf.keras.layers.Dropout(self.dropout_rate)(resid)\n",
        "      hidden += resid\n",
        "    if return_hidden:\n",
        "      return hidden, self.classifier(hidden)\n",
        "    else:\n",
        "      return self.classifier(hidden)\n",
        "\n",
        "  def make_dense_layer(self):\n",
        "    \"\"\"Uses the Dense layer as the hidden layer.\"\"\"\n",
        "    return tf.keras.layers.Dense(self.num_hidden, activation=\"relu\")\n",
        "\n",
        "  def make_output_layer(self, num_classes):\n",
        "    \"\"\"Uses the Dense layer as the output layer.\"\"\"\n",
        "    return tf.keras.layers.Dense(\n",
        "        num_classes, **self.classifier_kwargs)"
      ]
    },
    {
      "cell_type": "code",
      "execution_count": 6,
      "id": "fLp49uvslG9n",
      "metadata": {
        "colab": {
          "base_uri": "https://localhost:8080/"
        },
        "id": "fLp49uvslG9n",
        "outputId": "fc50c931-f09e-49dd-c9fb-1ad818b0cd39"
      },
      "outputs": [
        {
          "name": "stdout",
          "output_type": "stream",
          "text": [
            "Model: \"deep_res_net\"\n",
            "_________________________________________________________________\n",
            " Layer (type)                Output Shape              Param #   \n",
            "=================================================================\n",
            " dense (Dense)               multiple                  18304     \n",
            "                                                                 \n",
            " dense_1 (Dense)             multiple                  16512     \n",
            "                                                                 \n",
            " dense_2 (Dense)             multiple                  16512     \n",
            "                                                                 \n",
            " dense_3 (Dense)             multiple                  16512     \n",
            "                                                                 \n",
            " dense_4 (Dense)             multiple                  258       \n",
            "                                                                 \n",
            "=================================================================\n",
            "Total params: 68098 (266.01 KB)\n",
            "Trainable params: 49794 (194.51 KB)\n",
            "Non-trainable params: 18304 (71.50 KB)\n",
            "_________________________________________________________________\n"
          ]
        },
        {
          "name": "stderr",
          "output_type": "stream",
          "text": [
            "2024-02-29 21:05:35.612972: I external/local_xla/xla/stream_executor/cuda/cuda_executor.cc:901] successful NUMA node read from SysFS had negative value (-1), but there must be at least one NUMA node, so returning NUMA node zero. See more at https://github.com/torvalds/linux/blob/v6.0/Documentation/ABI/testing/sysfs-bus-pci#L344-L355\n",
            "2024-02-29 21:05:35.674686: I external/local_xla/xla/stream_executor/cuda/cuda_executor.cc:901] successful NUMA node read from SysFS had negative value (-1), but there must be at least one NUMA node, so returning NUMA node zero. See more at https://github.com/torvalds/linux/blob/v6.0/Documentation/ABI/testing/sysfs-bus-pci#L344-L355\n",
            "2024-02-29 21:05:35.674839: I external/local_xla/xla/stream_executor/cuda/cuda_executor.cc:901] successful NUMA node read from SysFS had negative value (-1), but there must be at least one NUMA node, so returning NUMA node zero. See more at https://github.com/torvalds/linux/blob/v6.0/Documentation/ABI/testing/sysfs-bus-pci#L344-L355\n",
            "2024-02-29 21:05:35.677808: I external/local_xla/xla/stream_executor/cuda/cuda_executor.cc:901] successful NUMA node read from SysFS had negative value (-1), but there must be at least one NUMA node, so returning NUMA node zero. See more at https://github.com/torvalds/linux/blob/v6.0/Documentation/ABI/testing/sysfs-bus-pci#L344-L355\n",
            "2024-02-29 21:05:35.677949: I external/local_xla/xla/stream_executor/cuda/cuda_executor.cc:901] successful NUMA node read from SysFS had negative value (-1), but there must be at least one NUMA node, so returning NUMA node zero. See more at https://github.com/torvalds/linux/blob/v6.0/Documentation/ABI/testing/sysfs-bus-pci#L344-L355\n",
            "2024-02-29 21:05:35.678035: I external/local_xla/xla/stream_executor/cuda/cuda_executor.cc:901] successful NUMA node read from SysFS had negative value (-1), but there must be at least one NUMA node, so returning NUMA node zero. See more at https://github.com/torvalds/linux/blob/v6.0/Documentation/ABI/testing/sysfs-bus-pci#L344-L355\n",
            "2024-02-29 21:05:35.741862: I external/local_xla/xla/stream_executor/cuda/cuda_executor.cc:901] successful NUMA node read from SysFS had negative value (-1), but there must be at least one NUMA node, so returning NUMA node zero. See more at https://github.com/torvalds/linux/blob/v6.0/Documentation/ABI/testing/sysfs-bus-pci#L344-L355\n",
            "2024-02-29 21:05:35.741929: I external/local_xla/xla/stream_executor/cuda/cuda_executor.cc:901] successful NUMA node read from SysFS had negative value (-1), but there must be at least one NUMA node, so returning NUMA node zero. See more at https://github.com/torvalds/linux/blob/v6.0/Documentation/ABI/testing/sysfs-bus-pci#L344-L355\n",
            "2024-02-29 21:05:35.741962: I tensorflow/core/common_runtime/gpu/gpu_process_state.cc:236] Using CUDA malloc Async allocator for GPU: 0\n",
            "2024-02-29 21:05:35.742005: I external/local_xla/xla/stream_executor/cuda/cuda_executor.cc:901] successful NUMA node read from SysFS had negative value (-1), but there must be at least one NUMA node, so returning NUMA node zero. See more at https://github.com/torvalds/linux/blob/v6.0/Documentation/ABI/testing/sysfs-bus-pci#L344-L355\n",
            "2024-02-29 21:05:35.742041: I tensorflow/core/common_runtime/gpu/gpu_device.cc:1929] Created device /job:localhost/replica:0/task:0/device:GPU:0 with 21982 MB memory:  -> device: 0, name: NVIDIA GeForce RTX 4090, pci bus id: 0000:01:00.0, compute capability: 8.9\n"
          ]
        }
      ],
      "source": [
        "resnet_config = dict(num_classes = 2, num_layers= 3, num_hidden = 128) # 512\n",
        "\n",
        "resnet_model = DeepResNet(**resnet_config)\n",
        "\n",
        "# Weights are initialized \n",
        "resnet_model.build( (None, 142) )\n",
        "resnet_model.summary()"
      ]
    },
    {
      "cell_type": "code",
      "execution_count": 7,
      "id": "zjqvk2fUlHFr",
      "metadata": {
        "id": "zjqvk2fUlHFr"
      },
      "outputs": [],
      "source": [
        "loss = tf.keras.losses.SparseCategoricalCrossentropy(from_logits=True)\n",
        "metrics = tf.keras.metrics.SparseCategoricalAccuracy()\n",
        "optimizer = tf.keras.optimizers.legacy.Adam(learning_rate=1e-4)\n",
        "\n",
        "train_config = dict(loss=loss, metrics=metrics, optimizer=optimizer)\n",
        "callback = tf.keras.callbacks.EarlyStopping(monitor='val_loss', patience = 1,\n",
        "                                            restore_best_weights = True)"
      ]
    },
    {
      "cell_type": "code",
      "execution_count": 8,
      "id": "lEgDNUB7KDxc",
      "metadata": {
        "id": "lEgDNUB7KDxc"
      },
      "outputs": [
        {
          "name": "stdout",
          "output_type": "stream",
          "text": [
            "Epoch 1/5\n"
          ]
        },
        {
          "name": "stderr",
          "output_type": "stream",
          "text": [
            "2024-02-29 21:05:37.051494: I external/local_tsl/tsl/platform/default/subprocess.cc:304] Start cannot spawn child process: No such file or directory\n"
          ]
        },
        {
          "name": "stdout",
          "output_type": "stream",
          "text": [
            "171/171 [==============================] - 2s 6ms/step - loss: 0.3478 - sparse_categorical_accuracy: 0.8715 - val_loss: 0.3170 - val_sparse_categorical_accuracy: 0.8715\n",
            "Epoch 2/5\n",
            "171/171 [==============================] - 1s 5ms/step - loss: 0.3163 - sparse_categorical_accuracy: 0.8733 - val_loss: 0.3118 - val_sparse_categorical_accuracy: 0.8733\n",
            "Epoch 3/5\n",
            "171/171 [==============================] - 1s 5ms/step - loss: 0.3115 - sparse_categorical_accuracy: 0.8736 - val_loss: 0.3095 - val_sparse_categorical_accuracy: 0.8747\n",
            "Epoch 4/5\n",
            "171/171 [==============================] - 1s 4ms/step - loss: 0.3094 - sparse_categorical_accuracy: 0.8741 - val_loss: 0.3084 - val_sparse_categorical_accuracy: 0.8759\n",
            "Epoch 5/5\n",
            "171/171 [==============================] - 1s 4ms/step - loss: 0.3076 - sparse_categorical_accuracy: 0.8752 - val_loss: 0.3080 - val_sparse_categorical_accuracy: 0.8745\n"
          ]
        }
      ],
      "source": [
        "fit_config = dict(batch_size = 512, epochs= 5,\n",
        "            validation_data = (X_val, y_val), callbacks=[callback] )\n",
        "\n",
        "resnet_model.compile(**train_config)\n",
        "\n",
        "history = resnet_model.fit(X_train, y_train, **fit_config)"
      ]
    },
    {
      "cell_type": "code",
      "execution_count": 9,
      "id": "ewO1AkEGqhSo",
      "metadata": {
        "colab": {
          "base_uri": "https://localhost:8080/",
          "height": 858
        },
        "id": "ewO1AkEGqhSo",
        "outputId": "66a89647-7f12-4720-b409-fa81d958baa4"
      },
      "outputs": [
        {
          "data": {
            "text/plain": [
              "<Axes: >"
            ]
          },
          "execution_count": 9,
          "metadata": {},
          "output_type": "execute_result"
        },
        {
          "data": {
            "image/png": "[encoded data removed]",
            "text/plain": [
              "<Figure size 640x480 with 1 Axes>"
            ]
          },
          "metadata": {},
          "output_type": "display_data"
        },
        {
          "data": {
            "image/png": "[encoded data removed]",
            "text/plain": [
              "<Figure size 640x480 with 1 Axes>"
            ]
          },
          "metadata": {},
          "output_type": "display_data"
        }
      ],
      "source": [
        "history_df = pd.DataFrame(history.history)\n",
        "history_df.loc[:, ['loss','val_loss']].plot()\n",
        "\n",
        "history_df.loc[:, ['sparse_categorical_accuracy','val_sparse_categorical_accuracy']].plot()"
      ]
    },
    {
      "cell_type": "code",
      "execution_count": 10,
      "metadata": {},
      "outputs": [],
      "source": [
        "# Return the training hidden space in Standard NN \n",
        "hidden_train_NN, NN_train_logits = resnet_model(X_train, return_hidden = True )\n",
        "hidden_test_NN, NN_train_logits = resnet_model(X_test, return_hidden = True )\n",
        "hidden_shift_NN, NN_shift_logits = resnet_model(X_shift, return_hidden = True)\n",
        "hidden_OOD_NN, NN_OOD_logits = resnet_model(OOD, return_hidden = True)"
      ]
    },
    {
      "cell_type": "code",
      "execution_count": 11,
      "id": "14c491c2",
      "metadata": {},
      "outputs": [],
      "source": [
        "# Compute Stanrdard NN accuray "
      ]
    },
    {
      "cell_type": "code",
      "execution_count": 12,
      "metadata": {},
      "outputs": [
        {
          "name": "stdout",
          "output_type": "stream",
          "text": [
            "379/379 [==============================] - 0s 349us/step\n",
            "accuracy -- 0.8737102765167148\n",
            "655/655 [==============================] - 0s 416us/step\n",
            "accuracy -- 0.8329353328875728\n"
          ]
        }
      ],
      "source": [
        "def NN_accuracy(X, y):\n",
        "    # hidden, logits = resnet_model.predict(X)\n",
        "    logits = resnet_model.predict(X)\n",
        "    predictions = tf.nn.softmax(logits, axis=-1)[:, 0]\n",
        "    probs = np.where( predictions > 0.5 , 0, 1)\n",
        "    accuracy = accuracy_score(y, probs)\n",
        "    print(f'accuracy -- {accuracy}')\n",
        "    return accuracy\n",
        "\n",
        "NN_accuracy_test = NN_accuracy(X_test, y_test)\n",
        "NN_accuracy_shift = NN_accuracy(X_shift, y_shift)"
      ]
    },
    {
      "cell_type": "code",
      "execution_count": 13,
      "metadata": {},
      "outputs": [],
      "source": [
        "# Save the model\n",
        "# import keras \n",
        "# resnet_model.save('Standard_model',save_format='tf')\n",
        "# # Recreate the exact same model purely from the file\n",
        "# resnet_model = keras.models.load_model('Standard_model')"
      ]
    },
    {
      "cell_type": "code",
      "execution_count": 14,
      "metadata": {},
      "outputs": [],
      "source": [
        "# resnet_model = tf.keras.models.load_model('resnet_model.h5')\n",
        "# #resnet_model = tf.keras.models.load_model('resnet_model.keras')"
      ]
    },
    {
      "cell_type": "code",
      "execution_count": 15,
      "metadata": {},
      "outputs": [],
      "source": [
        "# SNGP "
      ]
    },
    {
      "cell_type": "code",
      "execution_count": 16,
      "metadata": {},
      "outputs": [],
      "source": [
        "class DeepResNetSNGP(DeepResNet):\n",
        "  def __init__( self, spec_norm_bound = 0.9, **kwargs ):\n",
        "    self.spec_norm_bound = spec_norm_bound\n",
        "    super().__init__(**kwargs)\n",
        "\n",
        "  # Override the father class's method\n",
        "  def make_dense_layer(self):\n",
        "    \"\"\"Applies spectral normalization to the hidden layer.\"\"\"\n",
        "    dense_layer = super().make_dense_layer()\n",
        "    return nlp_layers.SpectralNormalization(\n",
        "        dense_layer, norm_multiplier = self.spec_norm_bound)\n",
        "\n",
        "  # Override the father class's method\n",
        "  def make_output_layer(self, num_classes):\n",
        "    \"\"\"Uses Gaussian process as the output layer.\"\"\"\n",
        "    return nlp_layers.RandomFeatureGaussianProcess(\n",
        "        num_classes,\n",
        "        gp_kernel_scale = 10.0,\n",
        "        gp_cov_momentum = -1,\n",
        "        **self.classifier_kwargs)\n",
        "  \n",
        "  def call(self, inputs, training=False, return_covmat = False, return_hidden = False): #, return_hidden=True\n",
        "    # Gets logits and a covariance matrix from the GP layer.\n",
        "    \n",
        "    # super().cal() -- call the parents' call()\n",
        "    if return_hidden:\n",
        "      hidden, (logits, covmat) = super().call(inputs, return_hidden) #, return_hidden=True\n",
        "    else:\n",
        "      logits, covmat = super().call(inputs) #, return_hidden=True\n",
        "    \n",
        "    # Returns only logits during training.\n",
        "    if not training and return_covmat and return_hidden: # and return_hidden\n",
        "      return hidden, (logits, covmat)\n",
        "\n",
        "    return logits"
      ]
    },
    {
      "cell_type": "code",
      "execution_count": 17,
      "metadata": {},
      "outputs": [],
      "source": [
        "class ResetCovarianceCallback(tf.keras.callbacks.Callback):\n",
        "  def on_epoch_begin(self, epoch, logs = None):\n",
        "    \"\"\"Resets covariance matrix at the beginning of the epoch.\"\"\"\n",
        "    if epoch > 0:\n",
        "      self.model.classifier.reset_covariance_matrix()"
      ]
    },
    {
      "cell_type": "code",
      "execution_count": 18,
      "metadata": {},
      "outputs": [],
      "source": [
        "class DeepResNetSNGPWithCovReset(DeepResNetSNGP):\n",
        "  def fit(self, *args, **kwargs):\n",
        "    \"\"\"Adds ResetCovarianceCallback to model callbacks.\"\"\"\n",
        "    kwargs[\"callbacks\"] = list(kwargs.get(\"callbacks\", []))\n",
        "    kwargs[\"callbacks\"].append(ResetCovarianceCallback())\n",
        "    return super().fit(*args, **kwargs)"
      ]
    },
    {
      "cell_type": "code",
      "execution_count": 19,
      "metadata": {},
      "outputs": [],
      "source": [
        "# This mean-field method is implemented as a built-in function layers.gaussian_process.mean_field_logits:\n",
        "def compute_posterior_mean_probability(logits, covmat, lambda_param=np.pi / 8.):\n",
        "  logits_adjusted = nlp_layers.gaussian_process.mean_field_logits(\n",
        "      logits, covmat, mean_field_factor=lambda_param)\n",
        "  return tf.nn.softmax(logits_adjusted, axis=-1)[:,0]"
      ]
    },
    {
      "cell_type": "code",
      "execution_count": 20,
      "metadata": {},
      "outputs": [
        {
          "name": "stdout",
          "output_type": "stream",
          "text": [
            "Epoch 1/5\n",
            "171/171 [==============================] - 2s 7ms/step - loss: 0.4207 - sparse_categorical_accuracy: 0.8621 - val_loss: 0.3384 - val_sparse_categorical_accuracy: 0.8741\n",
            "Epoch 2/5\n",
            "171/171 [==============================] - 1s 6ms/step - loss: 0.3284 - sparse_categorical_accuracy: 0.8751 - val_loss: 0.3200 - val_sparse_categorical_accuracy: 0.8767\n",
            "Epoch 3/5\n",
            "171/171 [==============================] - 1s 7ms/step - loss: 0.3155 - sparse_categorical_accuracy: 0.8760 - val_loss: 0.3143 - val_sparse_categorical_accuracy: 0.8760\n",
            "Epoch 4/5\n",
            "171/171 [==============================] - 1s 7ms/step - loss: 0.3103 - sparse_categorical_accuracy: 0.8766 - val_loss: 0.3116 - val_sparse_categorical_accuracy: 0.8756\n",
            "Epoch 5/5\n",
            "171/171 [==============================] - 1s 6ms/step - loss: 0.3072 - sparse_categorical_accuracy: 0.8768 - val_loss: 0.3116 - val_sparse_categorical_accuracy: 0.8762\n"
          ]
        }
      ],
      "source": [
        "sngp_model = DeepResNetSNGPWithCovReset(**resnet_config)\n",
        "sngp_model.compile(**train_config)\n",
        "history = sngp_model.fit(X_train, y_train, **fit_config)"
      ]
    },
    {
      "cell_type": "code",
      "execution_count": 21,
      "metadata": {},
      "outputs": [
        {
          "data": {
            "text/plain": [
              "<Axes: >"
            ]
          },
          "execution_count": 21,
          "metadata": {},
          "output_type": "execute_result"
        },
        {
          "data": {
            "image/png": "[encoded data removed]",
            "text/plain": [
              "<Figure size 640x480 with 1 Axes>"
            ]
          },
          "metadata": {},
          "output_type": "display_data"
        },
        {
          "data": {
            "image/png": "[encoded data removed]",
            "text/plain": [
              "<Figure size 640x480 with 1 Axes>"
            ]
          },
          "metadata": {},
          "output_type": "display_data"
        }
      ],
      "source": [
        "history_df = pd.DataFrame(history.history)\n",
        "history_df.loc[:, ['loss','val_loss']].plot()\n",
        "history_df.loc[:, ['sparse_categorical_accuracy','val_sparse_categorical_accuracy']].plot()"
      ]
    },
    {
      "cell_type": "code",
      "execution_count": 22,
      "metadata": {},
      "outputs": [],
      "source": [
        "# resnet_model.save('SNGP_model',save_format='tf')\n",
        "# # Recreate the exact same model purely from the file\n",
        "# resnet_model = keras.models.load_model('SNGP_model')"
      ]
    },
    {
      "cell_type": "code",
      "execution_count": 23,
      "id": "a8c5413f",
      "metadata": {},
      "outputs": [
        {
          "name": "stderr",
          "output_type": "stream",
          "text": [
            "2024-02-29 21:05:50.136650: I tensorflow/core/util/cuda_solvers.cc:179] Creating GpuSolver handles for stream 0x1fee8c20\n"
          ]
        },
        {
          "name": "stdout",
          "output_type": "stream",
          "text": [
            "Mean variance -- 0.0067395975592103195\n",
            "Mean variance -- 0.006759975091811751\n",
            "Mean variance -- 0.007890871469549175\n",
            "Mean variance -- 0.05969940880055258\n"
          ]
        }
      ],
      "source": [
        "# For computation simplicity\n",
        "def compute_variance(x, flag = False):\n",
        "    \n",
        "    chunk_size = 1000\n",
        "    batches = int( (x.shape[0] / chunk_size) )\n",
        "    # Units in the NN\n",
        "    num_hidden = 128\n",
        "    # Binary classes \n",
        "    classes = 2 \n",
        "    \n",
        "    hidden = np.zeros((x.shape[0], num_hidden))\n",
        "    vars = np.zeros((x.shape[0], 1))\n",
        "    logits = np.zeros((x.shape[0], classes))\n",
        "    # For accuray computation and need only test and shift \n",
        "    \n",
        "    if flag:\n",
        "        covmat = np.zeros((x.shape[0], x.shape[0]))\n",
        "    for i in range(batches+1):\n",
        "        if i != batches:\n",
        "            s = i * chunk_size\n",
        "            t = (i + 1) * chunk_size\n",
        "            hidden_temp, (sngp_logits_temp, sngp_covmat_temp) = sngp_model(x[s:t, :], return_covmat = True, return_hidden = True)\n",
        "            sngp_covmat_temp = tf.linalg.diag_part(sngp_covmat_temp)[:, None]\n",
        "            if flag:\n",
        "                covmat[s:t, :] = sngp_covmat_temp\n",
        "            hidden[s:t, :] = hidden_temp\n",
        "            vars[s:t, :] = sngp_covmat_temp\n",
        "            logits[s:t, :] = sngp_logits_temp\n",
        "        else:\n",
        "            s = i * chunk_size\n",
        "            t = x.shape[0]\n",
        "            hidden_temp, (sngp_logits_temp, sngp_covmat_temp) = sngp_model(x[s:t, :], return_covmat = True, return_hidden = True)\n",
        "            sngp_covmat_temp = tf.linalg.diag_part(sngp_covmat_temp)[:, None]\n",
        "            if flag:\n",
        "                covmat[s:t, :] = sngp_covmat_temp\n",
        "            hidden[s:t, :] = hidden_temp\n",
        "            vars[s:t, :] = sngp_covmat_temp\n",
        "            logits[s:t, :] = sngp_logits_temp\n",
        "    \n",
        "    mean_var = np.mean(vars)\n",
        "    print(f'Mean variance -- {mean_var}')\n",
        "    if flag:\n",
        "        return hidden, logits, vars, covmat\n",
        "    else:\n",
        "        return hidden, logits, vars\n",
        "        \n",
        "train_hidden_sngp, train_logits, train_var_sngp = compute_variance(X_train)\n",
        "test_hidden_sngp, test_logits, test_var_sngp, test_covmat = compute_variance(X_test, True)\n",
        "shift_hidden_sngp, shift_logits, shift_var_sngp, shift_covmat = compute_variance(X_shift, True)\n",
        "OOD_hidden_sngp, OOD_logits, OOD_var_sngp = compute_variance(OOD)\n",
        "\n",
        "train_var_sngp = train_var_sngp.ravel()\n",
        "test_var_sngp = test_var_sngp.ravel()\n",
        "shift_var_sngp = shift_var_sngp.ravel()\n",
        "OOD_var_sngp = OOD_var_sngp.ravel()"
      ]
    },
    {
      "cell_type": "code",
      "execution_count": 24,
      "id": "3fb6e571",
      "metadata": {},
      "outputs": [
        {
          "ename": "TypeError",
          "evalue": "Cannot convert 0.39269908169872414 to EagerTensor of dtype uint8",
          "output_type": "error",
          "traceback": [
            "\u001b[0;31m---------------------------------------------------------------------------\u001b[0m",
            "\u001b[0;31mTypeError\u001b[0m                                 Traceback (most recent call last)",
            "\u001b[0;32m/tmp/ipykernel_684760/587361217.py\u001b[0m in \u001b[0;36m?\u001b[0;34m()\u001b[0m\n\u001b[0;32m----> 1\u001b[0;31m \u001b[0msngp_probs_test\u001b[0m \u001b[0;34m=\u001b[0m \u001b[0mcompute_posterior_mean_probability\u001b[0m\u001b[0;34m(\u001b[0m\u001b[0mtest_logits\u001b[0m\u001b[0;34m,\u001b[0m \u001b[0mtest_covmat\u001b[0m\u001b[0;34m)\u001b[0m\u001b[0;34m\u001b[0m\u001b[0;34m\u001b[0m\u001b[0m\n\u001b[0m\u001b[1;32m      2\u001b[0m \u001b[0mprobs_test\u001b[0m \u001b[0;34m=\u001b[0m \u001b[0mnp\u001b[0m\u001b[0;34m.\u001b[0m\u001b[0mwhere\u001b[0m\u001b[0;34m(\u001b[0m \u001b[0msngp_probs_test\u001b[0m \u001b[0;34m>\u001b[0m \u001b[0;36m0.5\u001b[0m \u001b[0;34m,\u001b[0m \u001b[0;36m0\u001b[0m\u001b[0;34m,\u001b[0m \u001b[0;36m1\u001b[0m\u001b[0;34m)\u001b[0m\u001b[0;34m\u001b[0m\u001b[0;34m\u001b[0m\u001b[0m\n\u001b[1;32m      3\u001b[0m \u001b[0mtest_accuracy\u001b[0m \u001b[0;34m=\u001b[0m \u001b[0maccuracy_score\u001b[0m\u001b[0;34m(\u001b[0m\u001b[0my_test\u001b[0m\u001b[0;34m,\u001b[0m \u001b[0mprobs_test\u001b[0m\u001b[0;34m)\u001b[0m\u001b[0;34m\u001b[0m\u001b[0;34m\u001b[0m\u001b[0m\n\u001b[1;32m      4\u001b[0m \u001b[0mprint\u001b[0m\u001b[0;34m(\u001b[0m\u001b[0;34mf'SNGP Test Accuracy --{test_accuracy}'\u001b[0m\u001b[0;34m)\u001b[0m\u001b[0;34m\u001b[0m\u001b[0;34m\u001b[0m\u001b[0m\n",
            "\u001b[0;32m/tmp/ipykernel_684760/3836249593.py\u001b[0m in \u001b[0;36m?\u001b[0;34m(logits, covmat, lambda_param)\u001b[0m\n\u001b[1;32m      2\u001b[0m \u001b[0;32mdef\u001b[0m \u001b[0mcompute_posterior_mean_probability\u001b[0m\u001b[0;34m(\u001b[0m\u001b[0mlogits\u001b[0m\u001b[0;34m,\u001b[0m \u001b[0mcovmat\u001b[0m\u001b[0;34m,\u001b[0m \u001b[0mlambda_param\u001b[0m\u001b[0;34m=\u001b[0m\u001b[0mnp\u001b[0m\u001b[0;34m.\u001b[0m\u001b[0mpi\u001b[0m \u001b[0;34m/\u001b[0m \u001b[0;36m8.\u001b[0m\u001b[0;34m)\u001b[0m\u001b[0;34m:\u001b[0m\u001b[0;34m\u001b[0m\u001b[0;34m\u001b[0m\u001b[0m\n\u001b[0;32m----> 3\u001b[0;31m   logits_adjusted = nlp_layers.gaussian_process.mean_field_logits(\n\u001b[0m\u001b[1;32m      4\u001b[0m       logits, covmat, mean_field_factor=lambda_param)\n\u001b[1;32m      5\u001b[0m   \u001b[0;32mreturn\u001b[0m \u001b[0mtf\u001b[0m\u001b[0;34m.\u001b[0m\u001b[0mnn\u001b[0m\u001b[0;34m.\u001b[0m\u001b[0msoftmax\u001b[0m\u001b[0;34m(\u001b[0m\u001b[0mlogits_adjusted\u001b[0m\u001b[0;34m,\u001b[0m \u001b[0maxis\u001b[0m\u001b[0;34m=\u001b[0m\u001b[0;34m-\u001b[0m\u001b[0;36m1\u001b[0m\u001b[0;34m)\u001b[0m\u001b[0;34m[\u001b[0m\u001b[0;34m:\u001b[0m\u001b[0;34m,\u001b[0m\u001b[0;36m0\u001b[0m\u001b[0;34m]\u001b[0m\u001b[0;34m\u001b[0m\u001b[0;34m\u001b[0m\u001b[0m\n",
            "\u001b[0;32m~/.conda/envs/xuelong-tf/lib/python3.11/site-packages/official/nlp/modeling/layers/gaussian_process.py\u001b[0m in \u001b[0;36m?\u001b[0;34m(logits, covariance_matrix, mean_field_factor)\u001b[0m\n\u001b[1;32m    484\u001b[0m   \u001b[0;32melse\u001b[0m\u001b[0;34m:\u001b[0m\u001b[0;34m\u001b[0m\u001b[0;34m\u001b[0m\u001b[0m\n\u001b[1;32m    485\u001b[0m     \u001b[0mvariances\u001b[0m \u001b[0;34m=\u001b[0m \u001b[0mtf\u001b[0m\u001b[0;34m.\u001b[0m\u001b[0mlinalg\u001b[0m\u001b[0;34m.\u001b[0m\u001b[0mdiag_part\u001b[0m\u001b[0;34m(\u001b[0m\u001b[0mcovariance_matrix\u001b[0m\u001b[0;34m)\u001b[0m\u001b[0;34m\u001b[0m\u001b[0;34m\u001b[0m\u001b[0m\n\u001b[1;32m    486\u001b[0m \u001b[0;34m\u001b[0m\u001b[0m\n\u001b[1;32m    487\u001b[0m   \u001b[0;31m# Compute scaling coefficient for mean-field approximation.\u001b[0m\u001b[0;34m\u001b[0m\u001b[0;34m\u001b[0m\u001b[0m\n\u001b[0;32m--> 488\u001b[0;31m   \u001b[0mlogits_scale\u001b[0m \u001b[0;34m=\u001b[0m \u001b[0mtf\u001b[0m\u001b[0;34m.\u001b[0m\u001b[0msqrt\u001b[0m\u001b[0;34m(\u001b[0m\u001b[0;36m1.\u001b[0m \u001b[0;34m+\u001b[0m \u001b[0mvariances\u001b[0m \u001b[0;34m*\u001b[0m \u001b[0mmean_field_factor\u001b[0m\u001b[0;34m)\u001b[0m\u001b[0;34m\u001b[0m\u001b[0;34m\u001b[0m\u001b[0m\n\u001b[0m\u001b[1;32m    489\u001b[0m \u001b[0;34m\u001b[0m\u001b[0m\n\u001b[1;32m    490\u001b[0m   \u001b[0;32mif\u001b[0m \u001b[0mlen\u001b[0m\u001b[0;34m(\u001b[0m\u001b[0mlogits\u001b[0m\u001b[0;34m.\u001b[0m\u001b[0mshape\u001b[0m\u001b[0;34m)\u001b[0m \u001b[0;34m>\u001b[0m \u001b[0;36m1\u001b[0m\u001b[0;34m:\u001b[0m\u001b[0;34m\u001b[0m\u001b[0;34m\u001b[0m\u001b[0m\n\u001b[1;32m    491\u001b[0m     \u001b[0;31m# Cast logits_scale to compatible dimension.\u001b[0m\u001b[0;34m\u001b[0m\u001b[0;34m\u001b[0m\u001b[0m\n",
            "\u001b[0;32m~/.conda/envs/xuelong-tf/lib/python3.11/site-packages/tensorflow/python/util/traceback_utils.py\u001b[0m in \u001b[0;36m?\u001b[0;34m(*args, **kwargs)\u001b[0m\n\u001b[1;32m    151\u001b[0m     \u001b[0;32mexcept\u001b[0m \u001b[0mException\u001b[0m \u001b[0;32mas\u001b[0m \u001b[0me\u001b[0m\u001b[0;34m:\u001b[0m\u001b[0;34m\u001b[0m\u001b[0;34m\u001b[0m\u001b[0m\n\u001b[1;32m    152\u001b[0m       \u001b[0mfiltered_tb\u001b[0m \u001b[0;34m=\u001b[0m \u001b[0m_process_traceback_frames\u001b[0m\u001b[0;34m(\u001b[0m\u001b[0me\u001b[0m\u001b[0;34m.\u001b[0m\u001b[0m__traceback__\u001b[0m\u001b[0;34m)\u001b[0m\u001b[0;34m\u001b[0m\u001b[0;34m\u001b[0m\u001b[0m\n\u001b[1;32m    153\u001b[0m       \u001b[0;32mraise\u001b[0m \u001b[0me\u001b[0m\u001b[0;34m.\u001b[0m\u001b[0mwith_traceback\u001b[0m\u001b[0;34m(\u001b[0m\u001b[0mfiltered_tb\u001b[0m\u001b[0;34m)\u001b[0m \u001b[0;32mfrom\u001b[0m \u001b[0;32mNone\u001b[0m\u001b[0;34m\u001b[0m\u001b[0;34m\u001b[0m\u001b[0m\n\u001b[1;32m    154\u001b[0m     \u001b[0;32mfinally\u001b[0m\u001b[0;34m:\u001b[0m\u001b[0;34m\u001b[0m\u001b[0;34m\u001b[0m\u001b[0m\n\u001b[0;32m--> 155\u001b[0;31m       \u001b[0;32mdel\u001b[0m \u001b[0mfiltered_tb\u001b[0m\u001b[0;34m\u001b[0m\u001b[0;34m\u001b[0m\u001b[0m\n\u001b[0m",
            "\u001b[0;32m~/.conda/envs/xuelong-tf/lib/python3.11/site-packages/tensorflow/python/ops/gen_math_ops.py\u001b[0m in \u001b[0;36m?\u001b[0;34m(x, y, name)\u001b[0m\n\u001b[1;32m   6752\u001b[0m         _ctx, \"Mul\", name, x, y)\n\u001b[1;32m   6753\u001b[0m       \u001b[0;32mreturn\u001b[0m \u001b[0m_result\u001b[0m\u001b[0;34m\u001b[0m\u001b[0;34m\u001b[0m\u001b[0m\n\u001b[1;32m   6754\u001b[0m     \u001b[0;32mexcept\u001b[0m \u001b[0m_core\u001b[0m\u001b[0;34m.\u001b[0m\u001b[0m_NotOkStatusException\u001b[0m \u001b[0;32mas\u001b[0m \u001b[0me\u001b[0m\u001b[0;34m:\u001b[0m\u001b[0;34m\u001b[0m\u001b[0;34m\u001b[0m\u001b[0m\n\u001b[1;32m   6755\u001b[0m       \u001b[0m_ops\u001b[0m\u001b[0;34m.\u001b[0m\u001b[0mraise_from_not_ok_status\u001b[0m\u001b[0;34m(\u001b[0m\u001b[0me\u001b[0m\u001b[0;34m,\u001b[0m \u001b[0mname\u001b[0m\u001b[0;34m)\u001b[0m\u001b[0;34m\u001b[0m\u001b[0;34m\u001b[0m\u001b[0m\n\u001b[0;32m-> 6756\u001b[0;31m     \u001b[0;32mexcept\u001b[0m \u001b[0m_core\u001b[0m\u001b[0;34m.\u001b[0m\u001b[0m_FallbackException\u001b[0m\u001b[0;34m:\u001b[0m\u001b[0;34m\u001b[0m\u001b[0;34m\u001b[0m\u001b[0m\n\u001b[0m\u001b[1;32m   6757\u001b[0m       \u001b[0;32mpass\u001b[0m\u001b[0;34m\u001b[0m\u001b[0;34m\u001b[0m\u001b[0m\n\u001b[1;32m   6758\u001b[0m     \u001b[0;32mtry\u001b[0m\u001b[0;34m:\u001b[0m\u001b[0;34m\u001b[0m\u001b[0;34m\u001b[0m\u001b[0m\n\u001b[1;32m   6759\u001b[0m       return mul_eager_fallback(\n",
            "\u001b[0;31mTypeError\u001b[0m: Cannot convert 0.39269908169872414 to EagerTensor of dtype uint8"
          ]
        }
      ],
      "source": [
        "sngp_probs_test = compute_posterior_mean_probability(test_logits, test_covmat)\n",
        "probs_test = np.where( sngp_probs_test > 0.5 , 0, 1)\n",
        "test_accuracy = accuracy_score(y_test, probs_test)\n",
        "print(f'SNGP Test Accuracy --{test_accuracy}')\n",
        "\n",
        "sngp_probs_shift = compute_posterior_mean_probability(shift_logits, shift_covmat)\n",
        "probs_shift = np.where( sngp_probs_shift > 0.5 , 0, 1)\n",
        "shift_accuracy = accuracy_score(y_shift, probs_shift)\n",
        "print(f'SNGP Shift Accuracy --{shift_accuracy}')\n",
        "\n",
        "# sngp_probs = compute_posterior_mean_probability(test_logits, test_covmat)\n",
        "# probs = np.where( sngp_probs > 0.5 , 0, 1)\n",
        "# accuracy = accuracy_score(y_test, probs)\n",
        "# print(f'SNGP accuracy --{accuracy}')\n",
        "# compute_accuracy(sngp_model, X_test, y_test)\n",
        "# compute_accuracy(sngp_model, X_shift, y_shift)"
      ]
    },
    {
      "cell_type": "code",
      "execution_count": null,
      "metadata": {},
      "outputs": [],
      "source": [
        "# def compute_variance(x):\n",
        "#     hidden, (sngp_logits, sngp_covmat) = sngp_model(x, return_covmat = True, return_hidden = True)\n",
        "#     # print(sngp_covmat.shape)\n",
        "#     sngp_variance = tf.linalg.diag_part(sngp_covmat)[:, None]\n",
        "#     mean_var = np.mean(sngp_variance)\n",
        "#     print(f'Mean variance -- {mean_var}')\n",
        "#     # print(sngp_logits.shape)\n",
        "#     # print(hidden.shape)\n",
        "#     # print(sngp_variance.shape)\n",
        "#     return hidden, sngp_variance\n",
        "\n",
        "# train_hidden_sngp, train_var_sngp = compute_variance(X_train)\n",
        "# test_hidden_sngp, test_var_sngp = compute_variance(X_test)\n",
        "# shift_hidden_sngp, shift_var_sngp = compute_variance(X_shift)\n",
        "# OOD_hidden_sngp, OOD_var_sngp = compute_variance(OOD)\n",
        "\n",
        "# train_var_sngp = train_var_sngp.numpy().ravel()\n",
        "# test_var_sngp = test_var_sngp.numpy().ravel()\n",
        "# shift_var_sngp = shift_var_sngp.numpy().ravel()\n",
        "# OOD_var_sngp = OOD_var_sngp.numpy().ravel()\n",
        "\n",
        "# Mean variance -- 0.015748901292681694\n",
        "# Mean variance -- 0.0159283597022295\n",
        "# Mean variance -- 0.018162647262215614\n",
        "# Mean variance -- 0.1431225836277008"
      ]
    },
    {
      "cell_type": "code",
      "execution_count": null,
      "metadata": {},
      "outputs": [],
      "source": [
        "# def compute_accuracy(model, X, y):\n",
        "#   hidden, (sngp_logits, sngp_covmat)= model(X, return_covmat=True, return_hidden = True)\n",
        "#   sngp_probs = compute_posterior_mean_probability(sngp_logits, sngp_covmat)\n",
        "#   probs = np.where( sngp_probs > 0.5 , 0, 1)\n",
        "#   accuracy = accuracy_score(y, probs)\n",
        "#   print(f'SNGP accuracy --{accuracy}')\n",
        "#   return\n",
        "# compute_accuracy(sngp_model, X_test, y_test)\n",
        "# compute_accuracy(sngp_model, X_shift, y_shift)"
      ]
    },
    {
      "cell_type": "code",
      "execution_count": null,
      "id": "8cf4af05",
      "metadata": {},
      "outputs": [],
      "source": [
        "# train_hidden = tf.constant([[1, 2], [3, 4], [5, 6]], dtype=tf.float32)\n",
        "# test_hidden = tf.constant([[7, 8], [9, 10], [11, 12]], dtype=tf.float32)\n",
        "\n",
        "# # Compute distances\n",
        "# distances\n",
        "# [[ 8.485281  5.656854  2.828427]\n",
        "#  [11.313708  8.485281  5.656854]\n",
        "#  [14.142136 11.313708  8.485281]], shape=(3, 3), dtype=float32)\n",
        "\n",
        "# - topk_distances\n",
        "# K_Distances: tf.Tensor(\n",
        "# [[ 2.828427  5.656854]\n",
        "#  [ 5.656854  8.485281]\n",
        "#  [ 8.485281 11.313708]], shape=(3, 2), dtype=float32)\n",
        "\n",
        "# topk_indices\n",
        "# Indices: tf.Tensor(\n",
        "# [[2 1]\n",
        "#  [2 1]\n",
        "#  [2 1]], shape=(3, 2), dtype=int32)"
      ]
    },
    {
      "cell_type": "code",
      "execution_count": null,
      "metadata": {},
      "outputs": [],
      "source": [
        "# 对于每一个测试数据，从训练数据中选取离其最近的10个点, return--> ( test_hidden.shape[0], 10)\n",
        "def compute_distance(train_hidden, test_hidden, k = 10):\n",
        "    distances = tf.norm(tf.expand_dims(test_hidden, axis=1) - tf.expand_dims(train_hidden, axis=0), axis=-1)\n",
        "    topk_distances, topk_indices = tf.math.top_k(-distances, k=k)  # Use negative distances for smallest k distances\n",
        "    return - topk_distances"
      ]
    },
    {
      "cell_type": "code",
      "execution_count": null,
      "id": "dcb68597",
      "metadata": {},
      "outputs": [],
      "source": [
        "# Compute input distance \n",
        "def distance_helper(x1, x2, k = 10):\n",
        "    Dist = np.zeros((x2.shape[0], k))\n",
        "    chunk_size = 100\n",
        "    \n",
        "    batches = int( (x2.shape[0] / chunk_size) )\n",
        "    for i in range(batches + 1):\n",
        "        if i !=  batches:\n",
        "            s = i * chunk_size\n",
        "            t = (i + 1) * chunk_size\n",
        "        else:\n",
        "            s = i * chunk_size\n",
        "            t = x2.shape[0] \n",
        "        temp = compute_distance(x1, x2[s:t, :])\n",
        "        Dist[s:t, :] = temp\n",
        "    return Dist"
      ]
    },
    {
      "cell_type": "code",
      "execution_count": null,
      "metadata": {},
      "outputs": [],
      "source": [
        "test_distance = distance_helper(X_train, X_test)\n",
        "shift_distance = distance_helper(X_train, X_shift)\n",
        "OOD_distance = distance_helper(X_train, OOD)"
      ]
    },
    {
      "cell_type": "code",
      "execution_count": null,
      "id": "fdea959e",
      "metadata": {},
      "outputs": [],
      "source": [
        "# # Compute mean along axis = 1 (rows)\n",
        "test_mean_inp = tf.reduce_mean(test_distance, axis=1).numpy()\n",
        "shift_mean_inp = tf.reduce_mean(shift_distance, axis=1).numpy()\n",
        "OOD_mean_inp = tf.reduce_mean(OOD_distance, axis=1).numpy()"
      ]
    },
    {
      "cell_type": "code",
      "execution_count": null,
      "metadata": {},
      "outputs": [],
      "source": [
        "# Hidden distance space in SNGP"
      ]
    },
    {
      "cell_type": "code",
      "execution_count": null,
      "metadata": {},
      "outputs": [],
      "source": [
        "test_distance_sngp = distance_helper(train_hidden_sngp, test_hidden_sngp)\n",
        "shift_distance_sngp = distance_helper(train_hidden_sngp, shift_hidden_sngp)\n",
        "OOD_distance_sngp = distance_helper(train_hidden_sngp, OOD_hidden_sngp)\n",
        "\n",
        "# Compute mean along axis 1 (rows)\n",
        "test_mean_sngp = tf.reduce_mean(test_distance_sngp, axis=1).numpy()\n",
        "shift_mean_sngp = tf.reduce_mean(shift_distance_sngp, axis=1).numpy()\n",
        "OOD_mean_sngp = tf.reduce_mean(OOD_distance_sngp, axis=1).numpy()"
      ]
    },
    {
      "cell_type": "markdown",
      "id": "budWKZO0Jg-F",
      "metadata": {
        "id": "budWKZO0Jg-F"
      },
      "source": []
    },
    {
      "cell_type": "code",
      "execution_count": null,
      "id": "ZOAQs-zbp0bo",
      "metadata": {
        "id": "ZOAQs-zbp0bo"
      },
      "outputs": [],
      "source": [
        "# MC Dropout"
      ]
    },
    {
      "cell_type": "code",
      "execution_count": null,
      "id": "ZPvYrxByYfYW",
      "metadata": {
        "id": "ZPvYrxByYfYW"
      },
      "outputs": [],
      "source": [
        "num_ensemble = 10"
      ]
    },
    {
      "cell_type": "code",
      "execution_count": null,
      "id": "9gCaSiXNxLbS",
      "metadata": {
        "id": "9gCaSiXNxLbS"
      },
      "outputs": [],
      "source": [
        "def mc_dropout_sampling(test_examples):\n",
        "  # Enable dropout during inference.\n",
        "  hidden, logits = resnet_model(test_examples, training = True, return_hidden = True)\n",
        "  return hidden, logits"
      ]
    },
    {
      "cell_type": "code",
      "execution_count": null,
      "id": "IMaczDsIjEin",
      "metadata": {
        "colab": {
          "base_uri": "https://localhost:8080/"
        },
        "id": "IMaczDsIjEin",
        "outputId": "9cdbf402-9e98-412c-f824-3e2687b31a23"
      },
      "outputs": [],
      "source": [
        "# Monte Carlo dropout inference.\n",
        "def Compute_MC(model, X, y):\n",
        "  \n",
        "  hidden = model(X)[0]\n",
        "  dropout_logit_samples = [ model(X)[1] for _ in range(num_ensemble) ]\n",
        "\n",
        "  dropout_prob_samples = [ tf.nn.softmax(dropout_logits, axis=-1)[:, 0] for dropout_logits in dropout_logit_samples]\n",
        "  vars = np.var(dropout_prob_samples, axis=0)\n",
        "\n",
        "  dropout_probs = tf.reduce_mean(dropout_prob_samples, axis=0)\n",
        "  probs = np.where( dropout_probs > 0.5 , 0, 1)\n",
        "  accuracy = accuracy_score(y, probs)\n",
        "\n",
        "  #uncertainty = (dropout_probs)*(1-dropout_probs)\n",
        "  print(f'Accuracy: {accuracy} -- Mean variance:{np.mean(vars)}')\n",
        "  return hidden, vars\n",
        "\n",
        "train_hidden_mc, var_mc = Compute_MC(mc_dropout_sampling, X_train, y_train)\n",
        "test_hidden_mc, test_var_mc = Compute_MC(mc_dropout_sampling, X_test, y_test)\n",
        "shift_hidden_mc, shift_var_mc = Compute_MC(mc_dropout_sampling, X_shift, y_shift)"
      ]
    },
    {
      "cell_type": "code",
      "execution_count": null,
      "metadata": {},
      "outputs": [],
      "source": [
        "# OOD\n",
        "def Compute_MC_OOD(model, X):\n",
        "  hidden = model(X)[0] \n",
        "  dropout_logit_samples = [ model(X)[1] for _ in range(num_ensemble) ]\n",
        "  \n",
        "  dropout_prob_samples = [ tf.nn.softmax(dropout_logits, axis=-1)[:, 0] for dropout_logits in dropout_logit_samples]\n",
        "  vars = np.var(dropout_prob_samples, axis=0)\n",
        "  \n",
        "  print(f'Mean Variance --{np.mean(vars)}')\n",
        "  \n",
        "  print(hidden.shape)\n",
        "  return hidden, vars\n",
        "\n",
        "OOD_hidden_mc, OOD_var_mc = Compute_MC_OOD(mc_dropout_sampling, OOD)"
      ]
    },
    {
      "cell_type": "code",
      "execution_count": null,
      "metadata": {},
      "outputs": [],
      "source": [
        "test_distance_mc = distance_helper(train_hidden_mc, test_hidden_mc)\n",
        "shift_distance_mc = distance_helper(train_hidden_mc, shift_hidden_mc)\n",
        "OOD_distance_mc = distance_helper(train_hidden_mc, OOD_hidden_mc)\n",
        "\n",
        "# compute mean along axis 1 (rows)\n",
        "test_mean_mc = tf.reduce_mean(test_distance_mc, axis=1).numpy()\n",
        "shift_mean_mc = tf.reduce_mean(shift_distance_mc, axis=1).numpy()\n",
        "OOD_mean_mc = tf.reduce_mean(OOD_distance_mc, axis=1).numpy()"
      ]
    },
    {
      "cell_type": "code",
      "execution_count": null,
      "metadata": {},
      "outputs": [],
      "source": [
        "# plot_hidden_distance_hist(test_mean_mc , shift_mean_mc, OOD_mean_mc, 'Hidden_Dist_Hist_mc.pdf' )\n",
        "# scatter_var_dist(test_mean_mc, shift_mean_mc, OOD_mean_mc, test_var_mc, shift_var_mc, OOD_var_mc, 'Dist_Var_MC.pdf')\n",
        "# plot_variance_hist(test_var_mc, shift_var_mc, OOD_var_mc, 'MC_Var.pdf') # np.finfo(float).eps"
      ]
    },
    {
      "cell_type": "code",
      "execution_count": null,
      "id": "hmpe-kmdUIgl",
      "metadata": {
        "id": "hmpe-kmdUIgl"
      },
      "outputs": [],
      "source": [
        "# Deep ensemble training"
      ]
    },
    {
      "cell_type": "code",
      "execution_count": null,
      "id": "jZJzGddB9b28",
      "metadata": {
        "id": "jZJzGddB9b28"
      },
      "outputs": [],
      "source": [
        "resnet_ensemble = []\n",
        "for _ in range(num_ensemble):\n",
        "  resnet_model = DeepResNet(**resnet_config)\n",
        "  resnet_model.compile(optimizer=optimizer, loss=loss, metrics=metrics)\n",
        "  resnet_model.fit(X_train, y_train, verbose=0, **fit_config)\n",
        "\n",
        "  resnet_ensemble.append(resnet_model)"
      ]
    },
    {
      "cell_type": "code",
      "execution_count": null,
      "id": "-Qq5oKHKULJU",
      "metadata": {
        "id": "-Qq5oKHKULJU"
      },
      "outputs": [],
      "source": [
        "def Compute_Deep(model_list, X, y):\n",
        "\n",
        "  hidden = [model(X, return_hidden = True)[0] for model in model_list]\n",
        "  hidden = tf.reduce_mean(hidden, axis = 0)\n",
        "\n",
        "  ensemble_logit_samples = [model(X, return_hidden = True)[1] for model in model_list]\n",
        "  ensemble_prob_samples = [tf.nn.softmax(logits, axis=-1)[:, 0] for logits in ensemble_logit_samples]\n",
        "  ensemble_probs = tf.reduce_mean(ensemble_prob_samples, axis=0)\n",
        "\n",
        "  vars = np.var(ensemble_prob_samples, axis = 0)\n",
        "  probs = np.where( ensemble_probs > 0.5 , 0, 1)\n",
        "  \n",
        "  accuracy = accuracy_score(y, probs)\n",
        "\n",
        "  #uncertainty = ensemble_probs * (1 - ensemble_probs)\n",
        "  #uncertainty = np.mean(uncertainty)\n",
        "  print(f'Accuracy: {accuracy} -- Mean Variance:{np.mean(vars)}')\n",
        "  return hidden, vars\n",
        "\n",
        "train_hidden_deep, var = Compute_Deep(resnet_ensemble, X_train, y_train)\n",
        "test_hidden_deep, test_var_deep = Compute_Deep(resnet_ensemble, X_test, y_test)\n",
        "shift_hidden_deep, shift_var_deep = Compute_Deep(resnet_ensemble, X_shift, y_shift)"
      ]
    },
    {
      "cell_type": "code",
      "execution_count": null,
      "id": "ECagYjs6U2sc",
      "metadata": {
        "id": "ECagYjs6U2sc"
      },
      "outputs": [],
      "source": [
        "def Compute_Deep_OOD(model_list, X):\n",
        "  hidden = [ model(X, return_hidden = True)[0] for model in model_list]\n",
        "  hidden = tf.reduce_mean(hidden, axis = 0)\n",
        "\n",
        "  ensemble_logit_samples = [model(X, return_hidden = True)[1] for model in model_list]\n",
        "  #print(ensemble_logit_samples)\n",
        "  \n",
        "  ensemble_prob_samples = [tf.nn.softmax(logits, axis=-1)[:, 0] for logits in ensemble_logit_samples]\n",
        "  vars = np.var(ensemble_prob_samples, axis = 0)\n",
        "  \n",
        "  # predictions = [tf.nn.softmax(logits)[:,0] for logits in ensemble_logit_samples]\n",
        "  #print(ensemble_prob_samples)\n",
        "  # vars = np.var(predictions, axis = 0)\n",
        "  print(f'Mean Variance--{np.mean(vars)}')\n",
        "\n",
        "  return hidden, vars\n",
        "\n",
        "OOD_hidden_deep, OOD_var_deep = Compute_Deep_OOD(resnet_ensemble, OOD)"
      ]
    },
    {
      "cell_type": "code",
      "execution_count": null,
      "metadata": {},
      "outputs": [],
      "source": [
        "test_distance_deep = distance_helper(train_hidden_deep, test_hidden_deep)\n",
        "shift_distance_deep = distance_helper(train_hidden_deep, shift_hidden_deep)\n",
        "OOD_distance_deep = distance_helper(train_hidden_deep, OOD_hidden_deep)\n",
        "\n",
        "# compute mean along axis 1 (rows)\n",
        "test_mean_deep = tf.reduce_mean(test_distance_deep, axis=1).numpy()\n",
        "shift_mean_deep = tf.reduce_mean(shift_distance_deep, axis=1).numpy()\n",
        "OOD_mean_deep = tf.reduce_mean(OOD_distance_deep, axis=1).numpy()"
      ]
    },
    {
      "cell_type": "code",
      "execution_count": null,
      "metadata": {},
      "outputs": [],
      "source": [
        "sns.set(style=\"whitegrid\", font_scale = 1.5 )\n",
        "\n",
        "fig, (ax1, ax2, ax3) = plt.subplots( 1, 3, figsize=(12, 4.5), layout='constrained' ) # 11.69,8.27\n",
        "\n",
        "ax1.scatter(test_mean_sngp,  test_var_sngp,  alpha= 0.5, rasterized=True,  label = 'Normal') #color = 'blue',color = 'orange',color = 'green',  \n",
        "ax1.scatter(shift_mean_sngp, shift_var_sngp, alpha= 0.5, rasterized=True,label = 'Shift')\n",
        "ax1.scatter(OOD_mean_sngp,   OOD_var_sngp,   alpha= 0.5, rasterized=True,label = 'OOD')\n",
        "\n",
        "\n",
        "ax1.legend(fontsize=14)\n",
        "ax1.set_xlabel('Distance in the hidden space', fontsize = 16)\n",
        "ax1.set_ylabel('Variance', fontsize = 16)\n",
        "ax1.set_title('(a) Proposed method', fontweight=\"bold\")\n",
        "\n",
        "\n",
        "ax2.scatter(test_mean_mc,  test_var_mc,  alpha= 0.5,  rasterized=True, label = 'Normal') #color = 'blue',color = 'orange',color = 'green',  \n",
        "ax2.scatter(shift_mean_mc, shift_var_mc, alpha= 0.5, rasterized=True, label = 'Shift')\n",
        "ax2.scatter(OOD_mean_mc,   OOD_var_mc,   alpha= 0.5, rasterized=True, label = 'OOD')\n",
        "\n",
        "ax2.legend(fontsize=14)\n",
        "ax2.set_xlabel('Distance in the hidden space', fontsize = 16)\n",
        "ax2.set_ylabel('Variance', fontsize = 16)\n",
        "ax2.set_title('(b) MC dropout', fontweight=\"bold\")\n",
        "\n",
        "\n",
        "ax3.scatter(test_mean_deep,  test_var_deep,  alpha= 0.5, rasterized=True,  label = 'Normal') #color = 'blue',color = 'orange',color = 'green',  \n",
        "ax3.scatter(shift_mean_deep, shift_var_deep, alpha= 0.5, rasterized=True,label = 'Shift')\n",
        "ax3.scatter(OOD_mean_deep,   OOD_var_deep,   alpha= 0.5, rasterized=True, label = 'OOD')\n",
        "ax3.legend(fontsize=14)\n",
        "ax3.set_xlabel('Distance in the hidden space', fontsize = 16)\n",
        "ax3.set_ylabel('Variance', fontsize = 16)\n",
        "ax3.set_title('(c) Deep ensemble', fontweight=\"bold\")\n",
        "\n",
        "plt.tight_layout() \n",
        "plt.savefig('Dist-Var-comb.pdf')\n",
        "plt.show()"
      ]
    },
    {
      "cell_type": "code",
      "execution_count": null,
      "metadata": {},
      "outputs": [],
      "source": [
        "# https://stackoverflow.com/questions/45897003/python-numpy-corrcoef-runtimewarning-invalid-value-encountered-in-true-divide\n",
        "def cal_correlation(x1, x2):\n",
        "    correlation_matrix = np.corrcoef(x1, x2)\n",
        "    correlation_coefficient = correlation_matrix[0, 1]\n",
        "    return correlation_coefficient\n",
        "\n",
        "def concat_data(x1, x2, x3):\n",
        "    return np.concatenate((x1, x2, x3), axis = 0)\n",
        "\n",
        "sngp_dist = concat_data(test_mean_sngp, shift_mean_sngp, OOD_mean_sngp)\n",
        "sngp_var =  concat_data(test_var_sngp,  shift_var_sngp,  OOD_var_sngp)\n",
        "\n",
        "print('SNGP:')\n",
        "print(cal_correlation(sngp_dist, sngp_var))\n",
        "\n",
        "print(cal_correlation(test_mean_sngp,  test_var_sngp))\n",
        "print(cal_correlation(shift_mean_sngp, shift_var_sngp))\n",
        "print(cal_correlation(OOD_mean_sngp,   OOD_var_sngp))\n",
        "\n",
        "\n",
        "mc_dist = concat_data(test_mean_mc, shift_mean_mc, OOD_mean_mc)\n",
        "mc_var =  concat_data(test_var_mc,  shift_var_mc, OOD_var_mc)\n",
        "\n",
        "print('MC dropout:')\n",
        "print(cal_correlation(mc_dist, mc_var))\n",
        "print(cal_correlation(test_mean_mc,  test_var_mc))\n",
        "print(cal_correlation(shift_mean_mc, shift_var_mc))\n",
        "print(cal_correlation(OOD_mean_mc,   OOD_var_mc))\n",
        "\n",
        "\n",
        "deep_dist = concat_data(test_mean_deep, shift_mean_deep, OOD_mean_deep)\n",
        "deep_var =  concat_data(test_var_deep.ravel(), shift_var_deep.ravel(), OOD_var_deep.ravel())\n",
        "\n",
        "print('Deep ensemble:')\n",
        "print(cal_correlation(deep_dist, deep_var))\n",
        "print(cal_correlation(test_mean_deep,  test_var_deep))\n",
        "print(cal_correlation(shift_mean_deep, shift_var_deep))\n",
        "print(cal_correlation(OOD_mean_deep,   OOD_var_deep))"
      ]
    },
    {
      "cell_type": "code",
      "execution_count": null,
      "metadata": {},
      "outputs": [],
      "source": [
        "sns.set(style=\"whitegrid\", font_scale = 1.5)\n",
        "fig, (ax1, ax2, ax3, ax4) = plt.subplots(1, 4, figsize=(16, 4.5), layout='constrained' ) # 11.69,8.27\n",
        "\n",
        "ax1.hist(test_mean_inp, bins = 20, alpha= 0.5, label = 'Normal') # density=True,\n",
        "ax1.hist(shift_mean_inp, bins = 20, alpha= 0.5, label = 'Shift')\n",
        "ax1.hist(OOD_mean_inp, alpha= 0.5, label = 'OOD')\n",
        "# ax1.set_xscale('log', base=10)\n",
        "ax1.set_yscale('log', base=10)\n",
        "ax1.legend(fontsize=14)\n",
        "ax1.set_xlabel('Distance in the input space', fontsize = 16)\n",
        "ax1.set_ylabel('Frequency', fontsize = 16)\n",
        "ax1.set_title('(a) Histogram of distance', fontweight=\"bold\")\n",
        "\n",
        "# ax2.set_xscale('log', base=10)\n",
        "ax2.set_yscale('log', base=10)\n",
        "ax2.hist(test_mean_sngp,  bins = 20, alpha= 0.5,  label = 'Normal') #color = 'blue',color = 'orange',color = 'green',\n",
        "ax2.hist(shift_mean_sngp, bins = 20, alpha= 0.5, label = 'Shift')\n",
        "ax2.hist(OOD_mean_sngp,   bins = 20, alpha= 0.5,  label = 'OOD')\n",
        "ax2.legend(fontsize=14)\n",
        "ax2.set_xlabel('Distance in the hidden space', fontsize = 16)\n",
        "ax2.set_ylabel('Frequency', fontsize = 16)\n",
        "ax2.set_title('(b) Proposed method', fontweight=\"bold\")\n",
        "\n",
        "# ax3.set_xscale('log', base=10)\n",
        "ax3.set_yscale('log', base=10)\n",
        "ax3.hist(test_mean_mc,  bins = 20, alpha= 0.5,  label = 'Normal') #color = 'blue',color = 'orange',color = 'green',\n",
        "ax3.hist(shift_mean_mc, bins = 20, alpha= 0.5, label = 'Shift')\n",
        "ax3.hist(OOD_mean_mc,   bins = 20, alpha= 0.5,  label = 'OOD')\n",
        "ax3.legend(fontsize=14)\n",
        "ax3.set_xlabel('Distance in the hidden space', fontsize = 16)\n",
        "ax3.set_ylabel('Frequency', fontsize = 16)\n",
        "ax3.set_title('(c) MC dropout', fontweight=\"bold\")\n",
        "\n",
        "# ax4.set_xscale('log', base=10)\n",
        "ax4.set_yscale('log', base=10)\n",
        "ax4.hist(test_mean_deep,  bins = 20, alpha= 0.5,  label = 'Normal') #color = 'blue',color = 'orange',color = 'green',\n",
        "ax4.hist(shift_mean_deep, bins = 20, alpha= 0.5,  label = 'Shift')\n",
        "ax4.hist(OOD_mean_deep,   bins = 20, alpha= 0.5, label = 'OOD')\n",
        "ax4.legend(fontsize=14)\n",
        "ax4.set_xlabel('Distance in the hidden space', fontsize = 16)\n",
        "ax4.set_ylabel('Frequency', fontsize = 16)\n",
        "ax4.set_title('(d) Deep ensemble', fontweight=\"bold\")\n",
        "\n",
        "#plt.tight_layout()\n",
        "plt.savefig('Hidden-Distance-comb.pdf')\n",
        "plt.show()"
      ]
    },
    {
      "cell_type": "code",
      "execution_count": null,
      "metadata": {},
      "outputs": [],
      "source": [
        "sns.set(style=\"whitegrid\", font_scale = 1.5)\n",
        "fig, (ax1, ax2, ax3) = plt.subplots(1, 3, figsize=(12, 4.5), layout='constrained' )\n",
        "\n",
        "ax1.hist(test_var_sngp,  bins = 20, alpha= 0.5, label = 'Normal') \n",
        "ax1.hist(shift_var_sngp, bins = 20, alpha= 0.5, label = 'Shift')\n",
        "ax1.hist(OOD_var_sngp,   bins = 20, alpha= 0.5,  label = 'OOD')\n",
        "\n",
        "# ax1.set_xscale('log', base= 10)\n",
        "ax1.set_yscale('log', base=10)\n",
        "ax1.legend(fontsize=14)\n",
        "ax1.set_xlabel('Variance', fontsize = 16)\n",
        "ax1.set_ylabel('Frequency', fontsize = 16)\n",
        "ax1.set_title('(a) Proposed method', fontweight=\"bold\")\n",
        "\n",
        "ax2.hist(test_var_mc,  bins = 20, alpha= 0.5,  label = 'Normal') \n",
        "ax2.hist(shift_var_mc, bins = 20, alpha= 0.5,  label = 'Shift')\n",
        "ax2.hist(OOD_var_mc,   bins = 20, alpha= 0.5,  label = 'OOD')\n",
        "# ax2.set_xscale('log', base=10)\n",
        "ax2.set_yscale('log', base=10)\n",
        "ax2.legend(fontsize=14)\n",
        "ax2.set_xlabel('Variance', fontsize = 16)\n",
        "ax2.set_ylabel('Frequency', fontsize = 16)\n",
        "ax2.set_title('(b) MC dropout', fontweight=\"bold\")\n",
        "\n",
        "ax3.hist(test_var_deep,  bins = 20, alpha= 0.5, label = 'Normal') \n",
        "ax3.hist(shift_var_deep, bins = 20, alpha= 0.5,  label = 'Shift')\n",
        "ax3.hist(OOD_var_deep,   bins = 20, alpha= 0.5,  label = 'OOD')\n",
        "# ax3.set_xscale('log', base=10)\n",
        "ax3.set_yscale('log', base=10)\n",
        "ax3.legend(fontsize=14)\n",
        "ax3.set_xlabel('Variance', fontsize = 16)\n",
        "ax3.set_ylabel('Frequency', fontsize = 16)\n",
        "ax3.set_title('(c) Deep ensemble', fontweight=\"bold\")\n",
        "#plt.tight_layout()\n",
        "plt.savefig('Var-hist-comb.pdf')\n",
        "plt.show()"
      ]
    },
    {
      "cell_type": "code",
      "execution_count": null,
      "metadata": {},
      "outputs": [],
      "source": [
        "sns.set(style=\"whitegrid\", font_scale = 1.5)\n",
        "fig, (ax1) = plt.subplots(1,1, figsize=(10, 6), layout='constrained' )\n",
        "\n",
        "ax1.hist(test_var_sngp,  bins = 20, alpha= 0.5,  label = 'Normal') \n",
        "plt.axvline(x= test_var_sngp.max(), color = 'blue', lw = 2, ls = '--' )\n",
        "print(test_var_sngp.max())\n",
        "ax1.hist(shift_var_sngp, bins = 20, alpha= 0.5,  label = 'Shift')\n",
        "plt.axvline(x= OOD_var_sngp.min(), color = 'red', lw = 2, ls = '--')\n",
        "print(OOD_var_sngp.min())\n",
        "ax1.hist(OOD_var_sngp,   bins = 20, alpha= 0.5,  label = 'OOD')\n",
        "\n",
        "# ax1.set_xscale('log', base=10)\n",
        "# ax1.set_yscale('log', base=10)\n",
        "\n",
        "ax1.legend(fontsize=14)\n",
        "ax1.set_xlabel('Predictive uncertainty', fontsize = 16)\n",
        "ax1.set_ylabel('Frequency', fontsize = 16)\n",
        "# ax1.set_title('Proposed method', fontweight=\"bold\")\n",
        "# plt.tight_layout()\n",
        "plt.savefig('var_risk.pdf')"
      ]
    },
    {
      "cell_type": "code",
      "execution_count": null,
      "metadata": {},
      "outputs": [],
      "source": []
    }
  ],
  "metadata": {
    "colab": {
      "provenance": []
    },
    "kernelspec": {
      "display_name": "Python 3 (ipykernel)",
      "language": "python",
      "name": "python3"
    },
    "language_info": {
      "codemirror_mode": {
        "name": "ipython",
        "version": 3
      },
      "file_extension": ".py",
      "mimetype": "text/x-python",
      "name": "python",
      "nbconvert_exporter": "python",
      "pygments_lexer": "ipython3",
      "version": "3.11.7"
    }
  },
  "nbformat": 4,
  "nbformat_minor": 5
}
