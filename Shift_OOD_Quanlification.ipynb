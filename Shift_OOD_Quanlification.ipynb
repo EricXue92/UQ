{
 "cells": [
  {
   "cell_type": "code",
   "execution_count": 171,
   "id": "ed8acb13-3475-4eb2-988d-c688a32e9bde",
   "metadata": {},
   "outputs": [],
   "source": [
    "import os\n",
    "import nannyml as nml\n",
    "import pandas as pd\n",
    "from IPython.display import display\n",
    "from sklearn.model_selection import train_test_split\n",
    "from sklearn.preprocessing import StandardScaler, MinMaxScaler"
   ]
  },
  {
   "cell_type": "code",
   "execution_count": 172,
   "id": "93ee0608-0176-4971-8701-d863a1bba511",
   "metadata": {},
   "outputs": [],
   "source": [
    "def data_processing(data , half_chapter):\n",
    "    df = pd.read_csv(data,  index_col=0)\n",
    "    df = df.dropna(axis=1, how='all')\n",
    "    df = df[ df['nchapters'] >= half_chapter ]\n",
    "    # Delete unrelated columns\n",
    "    df = df.drop(columns= ['course_id','userid_DI','registered','viewed','explored',\n",
    "                           'start_time_DI','last_event_DI','incomplete_flag','final_cc_cname_DI'] , axis = 1)\n",
    "    df = df.dropna( how='any', axis=0)\n",
    "    df = df[ df['grade']!= \" \" ]\n",
    "    df['grade'] = pd.to_numeric(df['grade'])\n",
    "    if data == \"HarvardX_CB22x_2013_Spring.csv\" or data == \"HarvardX_ER22x_2013_Spring.csv\":\n",
    "      df.loc[:,'nplay_video'] = 0\n",
    "    #print( y.value_counts() )\n",
    "    df = pd.get_dummies(df, dtype=float)\n",
    "    df = df.reset_index(drop=True)\n",
    "    return df"
   ]
  },
  {
   "cell_type": "code",
   "execution_count": 173,
   "id": "edd9348c-4564-4c6a-a579-9d66975f7beb",
   "metadata": {},
   "outputs": [
    {
     "data": {
      "text/plain": [
       "(558, 15)"
      ]
     },
     "execution_count": 173,
     "metadata": {},
     "output_type": "execute_result"
    }
   ],
   "source": [
    "# OOD data\n",
    "ionosphere_X = pd.read_csv('ionosphere_X.csv')\n",
    "ionosphere_y = pd.read_csv('ionosphere_y.csv')\n",
    "ionosphere = pd.concat([ionosphere_X , ionosphere_y], axis = 1)\n",
    "ionosphere.columns = [ str(i) for i in range(ionosphere.shape[1]) ]\n",
    "\n",
    "sonar_X = pd.read_csv('sonar_X.csv')\n",
    "sonar_y = pd.read_csv('sonar_y.csv')\n",
    "sonar = pd.concat([sonar_X, sonar_y], axis = 1)\n",
    "sonar.columns = [ str(i) for i in range(sonar.shape[1]) ]\n",
    "\n",
    "OOD = pd.concat([sonar, ionosphere])\n",
    "OOD.shape"
   ]
  },
  {
   "cell_type": "code",
   "execution_count": 174,
   "id": "c84f711a-c3d7-4532-9ea3-c5cffbff0cbe",
   "metadata": {},
   "outputs": [
    {
     "data": {
      "text/plain": [
       "(5756, 15)"
      ]
     },
     "execution_count": 174,
     "metadata": {},
     "output_type": "execute_result"
    }
   ],
   "source": [
    "def Normalization(data):\n",
    "    scaler = MinMaxScaler()\n",
    "    data = pd.DataFrame( scaler.fit_transform(data) )\n",
    "    data.columns= [ str(i) for i in range(data.shape[1]) ]\n",
    "    return data\n",
    "    \n",
    "df_train =  data_processing(data = 'MITx_6.00x_2012_Fall.csv', half_chapter = 9)\n",
    "df_samll_shift = data_processing(data = 'MITx_6.00x_2013_Spring.csv', half_chapter = 9)\n",
    "df_large_shift = data_processing(data = 'HarvardX_ER22x_2013_Spring.csv', half_chapter = 17 )\n",
    "df_large_shift_2 = data_processing(data = 'HarvardX_CB22x_2013_Spring.csv', half_chapter = 17 )\n",
    "\n",
    "df_train = Normalization(df_train)\n",
    "df_samll_shift = Normalization(df_samll_shift)\n",
    "df_large_shift = Normalization(df_large_shift)\n",
    "df_large_shift_2 = Normalization(df_large_shift_2)\n",
    "\n",
    "reference = df_train\n",
    "\n",
    "analysis = pd.concat( [df_samll_shift, df_large_shift, OOD], axis = 0)\n",
    "analysis.shape"
   ]
  },
  {
   "cell_type": "code",
   "execution_count": 175,
   "id": "0d7829fe-8946-4b42-918b-bd8ad6ba0743",
   "metadata": {},
   "outputs": [
    {
     "name": "stderr",
     "output_type": "stream",
     "text": [
      "/Users/eric/miniforge3/envs/my_env/lib/python3.10/site-packages/nannyml/chunk.py:181: UserWarning:\n",
      "\n",
      "The resulting number of chunks is too low. Please consider splitting your data in a different way or continue at your own risk.\n",
      "\n",
      "/Users/eric/miniforge3/envs/my_env/lib/python3.10/site-packages/nannyml/chunk.py:181: UserWarning:\n",
      "\n",
      "The resulting number of chunks is too low. Please consider splitting your data in a different way or continue at your own risk.\n",
      "\n",
      "/Users/eric/miniforge3/envs/my_env/lib/python3.10/site-packages/nannyml/chunk.py:181: UserWarning:\n",
      "\n",
      "The resulting number of chunks is too low. Please consider splitting your data in a different way or continue at your own risk.\n",
      "\n"
     ]
    }
   ],
   "source": [
    "features_name = [ col for col in reference.columns ]\n",
    "\n",
    "calc = nml.DataReconstructionDriftCalculator(\n",
    "    column_names = features_name,\n",
    "    chunk_size = 1420\n",
    ")\n",
    "\n",
    "calc.fit(reference)\n",
    "results = calc.calculate(analysis)"
   ]
  },
  {
   "cell_type": "code",
   "execution_count": 176,
   "id": "12d5bdf4-4f33-456f-803d-b30ef7e07c34",
   "metadata": {},
   "outputs": [],
   "source": [
    "figure = results.plot(plot_reference=True)\n",
    "figure.write_image(\"reconstruction_error_classification.jpg\")"
   ]
  },
  {
   "cell_type": "code",
   "execution_count": 177,
   "id": "8bdaea69-c3c5-471f-83d4-85c9c7640693",
   "metadata": {
    "scrolled": true
   },
   "outputs": [
    {
     "data": {
      "text/html": [
       "<div>\n",
       "<style scoped>\n",
       "    .dataframe tbody tr th:only-of-type {\n",
       "        vertical-align: middle;\n",
       "    }\n",
       "\n",
       "    .dataframe tbody tr th {\n",
       "        vertical-align: top;\n",
       "    }\n",
       "\n",
       "    .dataframe thead tr th {\n",
       "        text-align: left;\n",
       "    }\n",
       "</style>\n",
       "<table border=\"1\" class=\"dataframe\">\n",
       "  <thead>\n",
       "    <tr>\n",
       "      <th></th>\n",
       "      <th colspan=\"7\" halign=\"left\">chunk</th>\n",
       "      <th colspan=\"7\" halign=\"left\">reconstruction_error</th>\n",
       "    </tr>\n",
       "    <tr>\n",
       "      <th></th>\n",
       "      <th>key</th>\n",
       "      <th>chunk_index</th>\n",
       "      <th>start_index</th>\n",
       "      <th>end_index</th>\n",
       "      <th>start_date</th>\n",
       "      <th>end_date</th>\n",
       "      <th>period</th>\n",
       "      <th>sampling_error</th>\n",
       "      <th>value</th>\n",
       "      <th>upper_confidence_boundary</th>\n",
       "      <th>lower_confidence_boundary</th>\n",
       "      <th>upper_threshold</th>\n",
       "      <th>lower_threshold</th>\n",
       "      <th>alert</th>\n",
       "    </tr>\n",
       "  </thead>\n",
       "  <tbody>\n",
       "    <tr>\n",
       "      <th>0</th>\n",
       "      <td>[0:1419]</td>\n",
       "      <td>0</td>\n",
       "      <td>0</td>\n",
       "      <td>1419</td>\n",
       "      <td>None</td>\n",
       "      <td>None</td>\n",
       "      <td>reference</td>\n",
       "      <td>0.031300</td>\n",
       "      <td>1.803962</td>\n",
       "      <td>1.897862</td>\n",
       "      <td>1.710062</td>\n",
       "      <td>1.821613</td>\n",
       "      <td>1.768659</td>\n",
       "      <td>False</td>\n",
       "    </tr>\n",
       "    <tr>\n",
       "      <th>1</th>\n",
       "      <td>[1420:2840]</td>\n",
       "      <td>1</td>\n",
       "      <td>1420</td>\n",
       "      <td>2840</td>\n",
       "      <td>None</td>\n",
       "      <td>None</td>\n",
       "      <td>reference</td>\n",
       "      <td>0.031289</td>\n",
       "      <td>1.786311</td>\n",
       "      <td>1.880177</td>\n",
       "      <td>1.692444</td>\n",
       "      <td>1.821613</td>\n",
       "      <td>1.768659</td>\n",
       "      <td>False</td>\n",
       "    </tr>\n",
       "  </tbody>\n",
       "</table>\n",
       "</div>"
      ],
      "text/plain": [
       "         chunk                                                        \\\n",
       "           key chunk_index start_index end_index start_date end_date   \n",
       "0     [0:1419]           0           0      1419       None     None   \n",
       "1  [1420:2840]           1        1420      2840       None     None   \n",
       "\n",
       "             reconstruction_error                                      \\\n",
       "      period       sampling_error     value upper_confidence_boundary   \n",
       "0  reference             0.031300  1.803962                  1.897862   \n",
       "1  reference             0.031289  1.786311                  1.880177   \n",
       "\n",
       "                                                                    \n",
       "  lower_confidence_boundary upper_threshold lower_threshold  alert  \n",
       "0                  1.710062        1.821613        1.768659  False  \n",
       "1                  1.692444        1.821613        1.768659  False  "
      ]
     },
     "metadata": {},
     "output_type": "display_data"
    },
    {
     "data": {
      "text/html": [
       "<div>\n",
       "<style scoped>\n",
       "    .dataframe tbody tr th:only-of-type {\n",
       "        vertical-align: middle;\n",
       "    }\n",
       "\n",
       "    .dataframe tbody tr th {\n",
       "        vertical-align: top;\n",
       "    }\n",
       "\n",
       "    .dataframe thead tr th {\n",
       "        text-align: left;\n",
       "    }\n",
       "</style>\n",
       "<table border=\"1\" class=\"dataframe\">\n",
       "  <thead>\n",
       "    <tr>\n",
       "      <th></th>\n",
       "      <th colspan=\"7\" halign=\"left\">chunk</th>\n",
       "      <th colspan=\"7\" halign=\"left\">reconstruction_error</th>\n",
       "    </tr>\n",
       "    <tr>\n",
       "      <th></th>\n",
       "      <th>key</th>\n",
       "      <th>chunk_index</th>\n",
       "      <th>start_index</th>\n",
       "      <th>end_index</th>\n",
       "      <th>start_date</th>\n",
       "      <th>end_date</th>\n",
       "      <th>period</th>\n",
       "      <th>sampling_error</th>\n",
       "      <th>value</th>\n",
       "      <th>upper_confidence_boundary</th>\n",
       "      <th>lower_confidence_boundary</th>\n",
       "      <th>upper_threshold</th>\n",
       "      <th>lower_threshold</th>\n",
       "      <th>alert</th>\n",
       "    </tr>\n",
       "  </thead>\n",
       "  <tbody>\n",
       "    <tr>\n",
       "      <th>0</th>\n",
       "      <td>[0:1419]</td>\n",
       "      <td>0</td>\n",
       "      <td>0</td>\n",
       "      <td>1419</td>\n",
       "      <td>None</td>\n",
       "      <td>None</td>\n",
       "      <td>analysis</td>\n",
       "      <td>0.031300</td>\n",
       "      <td>2.197192</td>\n",
       "      <td>2.291091</td>\n",
       "      <td>2.103292</td>\n",
       "      <td>1.821613</td>\n",
       "      <td>1.768659</td>\n",
       "      <td>True</td>\n",
       "    </tr>\n",
       "    <tr>\n",
       "      <th>1</th>\n",
       "      <td>[1420:2839]</td>\n",
       "      <td>1</td>\n",
       "      <td>1420</td>\n",
       "      <td>2839</td>\n",
       "      <td>None</td>\n",
       "      <td>None</td>\n",
       "      <td>analysis</td>\n",
       "      <td>0.031300</td>\n",
       "      <td>4.349523</td>\n",
       "      <td>4.443423</td>\n",
       "      <td>4.255623</td>\n",
       "      <td>1.821613</td>\n",
       "      <td>1.768659</td>\n",
       "      <td>True</td>\n",
       "    </tr>\n",
       "    <tr>\n",
       "      <th>2</th>\n",
       "      <td>[2840:4259]</td>\n",
       "      <td>2</td>\n",
       "      <td>2840</td>\n",
       "      <td>4259</td>\n",
       "      <td>None</td>\n",
       "      <td>None</td>\n",
       "      <td>analysis</td>\n",
       "      <td>0.031300</td>\n",
       "      <td>8.507829</td>\n",
       "      <td>8.601728</td>\n",
       "      <td>8.413929</td>\n",
       "      <td>1.821613</td>\n",
       "      <td>1.768659</td>\n",
       "      <td>True</td>\n",
       "    </tr>\n",
       "    <tr>\n",
       "      <th>3</th>\n",
       "      <td>[4260:5755]</td>\n",
       "      <td>3</td>\n",
       "      <td>4260</td>\n",
       "      <td>5755</td>\n",
       "      <td>None</td>\n",
       "      <td>None</td>\n",
       "      <td>analysis</td>\n",
       "      <td>0.030494</td>\n",
       "      <td>8.922728</td>\n",
       "      <td>9.014212</td>\n",
       "      <td>8.831245</td>\n",
       "      <td>1.821613</td>\n",
       "      <td>1.768659</td>\n",
       "      <td>True</td>\n",
       "    </tr>\n",
       "  </tbody>\n",
       "</table>\n",
       "</div>"
      ],
      "text/plain": [
       "         chunk                                                        \\\n",
       "           key chunk_index start_index end_index start_date end_date   \n",
       "0     [0:1419]           0           0      1419       None     None   \n",
       "1  [1420:2839]           1        1420      2839       None     None   \n",
       "2  [2840:4259]           2        2840      4259       None     None   \n",
       "3  [4260:5755]           3        4260      5755       None     None   \n",
       "\n",
       "            reconstruction_error                                      \\\n",
       "     period       sampling_error     value upper_confidence_boundary   \n",
       "0  analysis             0.031300  2.197192                  2.291091   \n",
       "1  analysis             0.031300  4.349523                  4.443423   \n",
       "2  analysis             0.031300  8.507829                  8.601728   \n",
       "3  analysis             0.030494  8.922728                  9.014212   \n",
       "\n",
       "                                                                   \n",
       "  lower_confidence_boundary upper_threshold lower_threshold alert  \n",
       "0                  2.103292        1.821613        1.768659  True  \n",
       "1                  4.255623        1.821613        1.768659  True  \n",
       "2                  8.413929        1.821613        1.768659  True  \n",
       "3                  8.831245        1.821613        1.768659  True  "
      ]
     },
     "metadata": {},
     "output_type": "display_data"
    },
    {
     "data": {
      "application/vnd.plotly.v1+json": {
       "config": {
        "plotlyServerURL": "https://plot.ly"
       },
       "data": [
        {
         "hoverinfo": "skip",
         "legendgroup": "metric_reference",
         "line": {
          "color": "#00c8e5",
          "shape": "hv",
          "width": 2
         },
         "mode": "lines",
         "name": "Metric",
         "showlegend": true,
         "type": "scatter",
         "x": [
          0,
          1,
          2
         ],
         "y": [
          1.8039619944793717,
          1.7863107038020207,
          1.7863107038020207
         ]
        },
        {
         "customdata": [
          [
           "Data reconstruction drift",
           "<b style=\"color:#00c8e5;line-height:60px\">Reference</b>",
           "",
           "[0:1419]",
           "Chunk index: <b>0</b>",
           1.804,
           0.0939
          ],
          [
           "Data reconstruction drift",
           "<b style=\"color:#00c8e5;line-height:60px\">Reference</b>",
           "",
           "[1420:2840]",
           "Chunk index: <b>1</b>",
           1.7863,
           0.0939
          ]
         ],
         "hovertemplate": "%{customdata[1]} &nbsp; &nbsp; %{customdata[2]} <br />Chunk: <b>%{customdata[3]}</b> &nbsp; &nbsp; %{customdata[4]} <br />%{customdata[0]}: <b>%{customdata[5]}</b><br />Confidence band: +/- <b>%{customdata[6]}</b><br /><extra></extra>",
         "legendgroup": "metric_reference",
         "marker": {
          "color": "#00c8e5",
          "size": 5,
          "symbol": "circle"
         },
         "mode": "markers",
         "name": "Metric",
         "showlegend": false,
         "type": "scatter",
         "x": [
          0.5,
          1.5
         ],
         "y": [
          1.8039619944793717,
          1.7863107038020207,
          1.7863107038020207
         ]
        },
        {
         "hoverinfo": "skip",
         "legendgroup": "metric_analysis",
         "line": {
          "color": "#00c8e5",
          "shape": "hv",
          "width": 2
         },
         "mode": "lines",
         "name": "Metric",
         "showlegend": false,
         "type": "scatter",
         "x": [
          2,
          3,
          4,
          5,
          6
         ],
         "y": [
          2.197191598903246,
          4.349522887827489,
          8.507828542961844,
          8.922728414740755,
          8.922728414740755
         ]
        },
        {
         "customdata": [
          [
           "Data reconstruction drift",
           "<b style=\"color:#3b0280;line-height:60px\">Analysis</b>",
           "<span style=\"color:#AD0000\">⚠ <b>Drift detected</b></span>",
           "[0:1419]",
           "Chunk index: <b>0</b>",
           2.1972,
           0.0939
          ],
          [
           "Data reconstruction drift",
           "<b style=\"color:#3b0280;line-height:60px\">Analysis</b>",
           "<span style=\"color:#AD0000\">⚠ <b>Drift detected</b></span>",
           "[1420:2839]",
           "Chunk index: <b>1</b>",
           4.3495,
           0.0939
          ],
          [
           "Data reconstruction drift",
           "<b style=\"color:#3b0280;line-height:60px\">Analysis</b>",
           "<span style=\"color:#AD0000\">⚠ <b>Drift detected</b></span>",
           "[2840:4259]",
           "Chunk index: <b>2</b>",
           8.5078,
           0.0939
          ],
          [
           "Data reconstruction drift",
           "<b style=\"color:#3b0280;line-height:60px\">Analysis</b>",
           "<span style=\"color:#AD0000\">⚠ <b>Drift detected</b></span>",
           "[4260:5755]",
           "Chunk index: <b>3</b>",
           8.9227,
           0.0915
          ]
         ],
         "hovertemplate": "%{customdata[1]} &nbsp; &nbsp; %{customdata[2]} <br />Chunk: <b>%{customdata[3]}</b> &nbsp; &nbsp; %{customdata[4]} <br />%{customdata[0]}: <b>%{customdata[5]}</b><br />Confidence band: +/- <b>%{customdata[6]}</b><br /><extra></extra>",
         "legendgroup": "metric_analysis",
         "marker": {
          "color": "#00c8e5",
          "size": 5,
          "symbol": "circle"
         },
         "mode": "markers",
         "name": "Metric",
         "showlegend": false,
         "type": "scatter",
         "x": [
          2.5,
          3.5,
          4.5,
          5.5
         ],
         "y": [
          2.197191598903246,
          4.349522887827489,
          8.507828542961844,
          8.922728414740755,
          8.922728414740755
         ]
        },
        {
         "hoverinfo": "skip",
         "legendgroup": "alert",
         "marker": {
          "color": "#DD4040",
          "size": 8,
          "symbol": "diamond"
         },
         "mode": "markers",
         "name": "Alert",
         "showlegend": true,
         "type": "scatter",
         "x": [
          2.5,
          3.5,
          4.5,
          5.5
         ],
         "y": [
          2.197191598903246,
          4.349522887827489,
          8.507828542961844,
          8.922728414740755
         ]
        },
        {
         "hoverinfo": "skip",
         "legendgroup": "thresh",
         "line": {
          "color": "#DD4040",
          "dash": "dash",
          "width": 2
         },
         "mode": "lines",
         "name": "Threshold",
         "showlegend": false,
         "type": "scatter",
         "x": [
          0,
          1,
          2
         ],
         "y": [
          1.8216132851567226,
          1.8216132851567226,
          1.8216132851567226
         ]
        },
        {
         "hoverinfo": "skip",
         "legendgroup": "thresh",
         "line": {
          "color": "#DD4040",
          "dash": "dash",
          "width": 2
         },
         "mode": "lines",
         "name": "Threshold",
         "showlegend": false,
         "type": "scatter",
         "x": [
          0,
          1,
          2
         ],
         "y": [
          1.7686594131246698,
          1.7686594131246698,
          1.7686594131246698
         ]
        },
        {
         "hoverinfo": "skip",
         "legendgroup": "thresh",
         "line": {
          "color": "#DD4040",
          "dash": "dash",
          "width": 2
         },
         "mode": "lines",
         "name": "Threshold",
         "showlegend": false,
         "type": "scatter",
         "x": [
          2,
          3,
          4,
          5,
          6
         ],
         "y": [
          1.8216132851567226,
          1.8216132851567226,
          1.8216132851567226,
          1.8216132851567226,
          1.8216132851567226
         ]
        },
        {
         "hoverinfo": "skip",
         "legendgroup": "thresh",
         "line": {
          "color": "#DD4040",
          "dash": "dash",
          "width": 2
         },
         "mode": "lines",
         "name": "Threshold",
         "showlegend": false,
         "type": "scatter",
         "x": [
          2,
          3,
          4,
          5,
          6
         ],
         "y": [
          1.7686594131246698,
          1.7686594131246698,
          1.7686594131246698,
          1.7686594131246698,
          1.7686594131246698
         ]
        },
        {
         "hoverinfo": "skip",
         "line": {
          "color": "rgba(0, 0, 0, 0)",
          "shape": "hv"
         },
         "mode": "lines",
         "name": "Confidence band",
         "showlegend": false,
         "type": "scatter",
         "x": [
          0,
          1,
          2
         ],
         "y": [
          1.897861719127431,
          1.880177382619513,
          1.880177382619513
         ]
        },
        {
         "fill": "tonexty",
         "fillcolor": "rgba(0, 200, 229, 0.2)",
         "hoverinfo": "skip",
         "line": {
          "color": "rgba(0, 0, 0, 0)",
          "shape": "hv"
         },
         "mode": "lines",
         "name": "Confidence band",
         "showlegend": true,
         "type": "scatter",
         "x": [
          0,
          1,
          2
         ],
         "y": [
          1.7100622698313124,
          1.6924440249845285,
          1.6924440249845285
         ]
        },
        {
         "hoverinfo": "skip",
         "line": {
          "color": "rgba(0, 0, 0, 0)",
          "shape": "hv"
         },
         "mode": "lines",
         "name": "Confidence band",
         "showlegend": false,
         "type": "scatter",
         "x": [
          2,
          3,
          4,
          5,
          6
         ],
         "y": [
          2.291091323551305,
          4.4434226124755485,
          8.601728267609904,
          9.014211898428629,
          9.014211898428629
         ]
        },
        {
         "fill": "tonexty",
         "fillcolor": "rgba(0, 200, 229, 0.2)",
         "hoverinfo": "skip",
         "line": {
          "color": "rgba(0, 0, 0, 0)",
          "shape": "hv"
         },
         "mode": "lines",
         "name": "Confidence band",
         "showlegend": false,
         "type": "scatter",
         "x": [
          2,
          3,
          4,
          5,
          6
         ],
         "y": [
          2.1032918742551865,
          4.25562316317943,
          8.413928818313785,
          8.83124493105288,
          8.83124493105288
         ]
        }
       ],
       "layout": {
        "annotations": [
         {
          "showarrow": false,
          "text": "Reference",
          "x": 0.5,
          "xshift": 10,
          "y": 1.01,
          "yref": "y domain"
         },
         {
          "showarrow": false,
          "text": "Analysis",
          "x": 3.5,
          "xshift": 15,
          "y": 1.01,
          "yref": "y domain"
         }
        ],
        "autosize": true,
        "hoverlabel": {
         "bgcolor": "white",
         "font": {
          "size": 14
         }
        },
        "legend": {
         "itemclick": false,
         "itemdoubleclick": false,
         "traceorder": "grouped"
        },
        "paper_bgcolor": "rgba(255,255,255,1)",
        "plot_bgcolor": "rgba(255,255,255,1)",
        "shapes": [
         {
          "layer": "below",
          "line": {
           "color": "#666666",
           "width": 1
          },
          "type": "line",
          "x0": 2,
          "x1": 2,
          "xref": "x",
          "y0": 0,
          "y1": 1,
          "yref": "y domain"
         }
        ],
        "template": {
         "data": {
          "bar": [
           {
            "error_x": {
             "color": "#2a3f5f"
            },
            "error_y": {
             "color": "#2a3f5f"
            },
            "marker": {
             "line": {
              "color": "#E5ECF6",
              "width": 0.5
             },
             "pattern": {
              "fillmode": "overlay",
              "size": 10,
              "solidity": 0.2
             }
            },
            "type": "bar"
           }
          ],
          "barpolar": [
           {
            "marker": {
             "line": {
              "color": "#E5ECF6",
              "width": 0.5
             },
             "pattern": {
              "fillmode": "overlay",
              "size": 10,
              "solidity": 0.2
             }
            },
            "type": "barpolar"
           }
          ],
          "carpet": [
           {
            "aaxis": {
             "endlinecolor": "#2a3f5f",
             "gridcolor": "white",
             "linecolor": "white",
             "minorgridcolor": "white",
             "startlinecolor": "#2a3f5f"
            },
            "baxis": {
             "endlinecolor": "#2a3f5f",
             "gridcolor": "white",
             "linecolor": "white",
             "minorgridcolor": "white",
             "startlinecolor": "#2a3f5f"
            },
            "type": "carpet"
           }
          ],
          "choropleth": [
           {
            "colorbar": {
             "outlinewidth": 0,
             "ticks": ""
            },
            "type": "choropleth"
           }
          ],
          "contour": [
           {
            "colorbar": {
             "outlinewidth": 0,
             "ticks": ""
            },
            "colorscale": [
             [
              0,
              "#0d0887"
             ],
             [
              0.1111111111111111,
              "#46039f"
             ],
             [
              0.2222222222222222,
              "#7201a8"
             ],
             [
              0.3333333333333333,
              "#9c179e"
             ],
             [
              0.4444444444444444,
              "#bd3786"
             ],
             [
              0.5555555555555556,
              "#d8576b"
             ],
             [
              0.6666666666666666,
              "#ed7953"
             ],
             [
              0.7777777777777778,
              "#fb9f3a"
             ],
             [
              0.8888888888888888,
              "#fdca26"
             ],
             [
              1,
              "#f0f921"
             ]
            ],
            "type": "contour"
           }
          ],
          "contourcarpet": [
           {
            "colorbar": {
             "outlinewidth": 0,
             "ticks": ""
            },
            "type": "contourcarpet"
           }
          ],
          "heatmap": [
           {
            "colorbar": {
             "outlinewidth": 0,
             "ticks": ""
            },
            "colorscale": [
             [
              0,
              "#0d0887"
             ],
             [
              0.1111111111111111,
              "#46039f"
             ],
             [
              0.2222222222222222,
              "#7201a8"
             ],
             [
              0.3333333333333333,
              "#9c179e"
             ],
             [
              0.4444444444444444,
              "#bd3786"
             ],
             [
              0.5555555555555556,
              "#d8576b"
             ],
             [
              0.6666666666666666,
              "#ed7953"
             ],
             [
              0.7777777777777778,
              "#fb9f3a"
             ],
             [
              0.8888888888888888,
              "#fdca26"
             ],
             [
              1,
              "#f0f921"
             ]
            ],
            "type": "heatmap"
           }
          ],
          "heatmapgl": [
           {
            "colorbar": {
             "outlinewidth": 0,
             "ticks": ""
            },
            "colorscale": [
             [
              0,
              "#0d0887"
             ],
             [
              0.1111111111111111,
              "#46039f"
             ],
             [
              0.2222222222222222,
              "#7201a8"
             ],
             [
              0.3333333333333333,
              "#9c179e"
             ],
             [
              0.4444444444444444,
              "#bd3786"
             ],
             [
              0.5555555555555556,
              "#d8576b"
             ],
             [
              0.6666666666666666,
              "#ed7953"
             ],
             [
              0.7777777777777778,
              "#fb9f3a"
             ],
             [
              0.8888888888888888,
              "#fdca26"
             ],
             [
              1,
              "#f0f921"
             ]
            ],
            "type": "heatmapgl"
           }
          ],
          "histogram": [
           {
            "marker": {
             "pattern": {
              "fillmode": "overlay",
              "size": 10,
              "solidity": 0.2
             }
            },
            "type": "histogram"
           }
          ],
          "histogram2d": [
           {
            "colorbar": {
             "outlinewidth": 0,
             "ticks": ""
            },
            "colorscale": [
             [
              0,
              "#0d0887"
             ],
             [
              0.1111111111111111,
              "#46039f"
             ],
             [
              0.2222222222222222,
              "#7201a8"
             ],
             [
              0.3333333333333333,
              "#9c179e"
             ],
             [
              0.4444444444444444,
              "#bd3786"
             ],
             [
              0.5555555555555556,
              "#d8576b"
             ],
             [
              0.6666666666666666,
              "#ed7953"
             ],
             [
              0.7777777777777778,
              "#fb9f3a"
             ],
             [
              0.8888888888888888,
              "#fdca26"
             ],
             [
              1,
              "#f0f921"
             ]
            ],
            "type": "histogram2d"
           }
          ],
          "histogram2dcontour": [
           {
            "colorbar": {
             "outlinewidth": 0,
             "ticks": ""
            },
            "colorscale": [
             [
              0,
              "#0d0887"
             ],
             [
              0.1111111111111111,
              "#46039f"
             ],
             [
              0.2222222222222222,
              "#7201a8"
             ],
             [
              0.3333333333333333,
              "#9c179e"
             ],
             [
              0.4444444444444444,
              "#bd3786"
             ],
             [
              0.5555555555555556,
              "#d8576b"
             ],
             [
              0.6666666666666666,
              "#ed7953"
             ],
             [
              0.7777777777777778,
              "#fb9f3a"
             ],
             [
              0.8888888888888888,
              "#fdca26"
             ],
             [
              1,
              "#f0f921"
             ]
            ],
            "type": "histogram2dcontour"
           }
          ],
          "mesh3d": [
           {
            "colorbar": {
             "outlinewidth": 0,
             "ticks": ""
            },
            "type": "mesh3d"
           }
          ],
          "parcoords": [
           {
            "line": {
             "colorbar": {
              "outlinewidth": 0,
              "ticks": ""
             }
            },
            "type": "parcoords"
           }
          ],
          "pie": [
           {
            "automargin": true,
            "type": "pie"
           }
          ],
          "scatter": [
           {
            "fillpattern": {
             "fillmode": "overlay",
             "size": 10,
             "solidity": 0.2
            },
            "type": "scatter"
           }
          ],
          "scatter3d": [
           {
            "line": {
             "colorbar": {
              "outlinewidth": 0,
              "ticks": ""
             }
            },
            "marker": {
             "colorbar": {
              "outlinewidth": 0,
              "ticks": ""
             }
            },
            "type": "scatter3d"
           }
          ],
          "scattercarpet": [
           {
            "marker": {
             "colorbar": {
              "outlinewidth": 0,
              "ticks": ""
             }
            },
            "type": "scattercarpet"
           }
          ],
          "scattergeo": [
           {
            "marker": {
             "colorbar": {
              "outlinewidth": 0,
              "ticks": ""
             }
            },
            "type": "scattergeo"
           }
          ],
          "scattergl": [
           {
            "marker": {
             "colorbar": {
              "outlinewidth": 0,
              "ticks": ""
             }
            },
            "type": "scattergl"
           }
          ],
          "scattermapbox": [
           {
            "marker": {
             "colorbar": {
              "outlinewidth": 0,
              "ticks": ""
             }
            },
            "type": "scattermapbox"
           }
          ],
          "scatterpolar": [
           {
            "marker": {
             "colorbar": {
              "outlinewidth": 0,
              "ticks": ""
             }
            },
            "type": "scatterpolar"
           }
          ],
          "scatterpolargl": [
           {
            "marker": {
             "colorbar": {
              "outlinewidth": 0,
              "ticks": ""
             }
            },
            "type": "scatterpolargl"
           }
          ],
          "scatterternary": [
           {
            "marker": {
             "colorbar": {
              "outlinewidth": 0,
              "ticks": ""
             }
            },
            "type": "scatterternary"
           }
          ],
          "surface": [
           {
            "colorbar": {
             "outlinewidth": 0,
             "ticks": ""
            },
            "colorscale": [
             [
              0,
              "#0d0887"
             ],
             [
              0.1111111111111111,
              "#46039f"
             ],
             [
              0.2222222222222222,
              "#7201a8"
             ],
             [
              0.3333333333333333,
              "#9c179e"
             ],
             [
              0.4444444444444444,
              "#bd3786"
             ],
             [
              0.5555555555555556,
              "#d8576b"
             ],
             [
              0.6666666666666666,
              "#ed7953"
             ],
             [
              0.7777777777777778,
              "#fb9f3a"
             ],
             [
              0.8888888888888888,
              "#fdca26"
             ],
             [
              1,
              "#f0f921"
             ]
            ],
            "type": "surface"
           }
          ],
          "table": [
           {
            "cells": {
             "fill": {
              "color": "#EBF0F8"
             },
             "line": {
              "color": "white"
             }
            },
            "header": {
             "fill": {
              "color": "#C8D4E3"
             },
             "line": {
              "color": "white"
             }
            },
            "type": "table"
           }
          ]
         },
         "layout": {
          "annotationdefaults": {
           "arrowcolor": "#2a3f5f",
           "arrowhead": 0,
           "arrowwidth": 1
          },
          "autotypenumbers": "strict",
          "coloraxis": {
           "colorbar": {
            "outlinewidth": 0,
            "ticks": ""
           }
          },
          "colorscale": {
           "diverging": [
            [
             0,
             "#8e0152"
            ],
            [
             0.1,
             "#c51b7d"
            ],
            [
             0.2,
             "#de77ae"
            ],
            [
             0.3,
             "#f1b6da"
            ],
            [
             0.4,
             "#fde0ef"
            ],
            [
             0.5,
             "#f7f7f7"
            ],
            [
             0.6,
             "#e6f5d0"
            ],
            [
             0.7,
             "#b8e186"
            ],
            [
             0.8,
             "#7fbc41"
            ],
            [
             0.9,
             "#4d9221"
            ],
            [
             1,
             "#276419"
            ]
           ],
           "sequential": [
            [
             0,
             "#0d0887"
            ],
            [
             0.1111111111111111,
             "#46039f"
            ],
            [
             0.2222222222222222,
             "#7201a8"
            ],
            [
             0.3333333333333333,
             "#9c179e"
            ],
            [
             0.4444444444444444,
             "#bd3786"
            ],
            [
             0.5555555555555556,
             "#d8576b"
            ],
            [
             0.6666666666666666,
             "#ed7953"
            ],
            [
             0.7777777777777778,
             "#fb9f3a"
            ],
            [
             0.8888888888888888,
             "#fdca26"
            ],
            [
             1,
             "#f0f921"
            ]
           ],
           "sequentialminus": [
            [
             0,
             "#0d0887"
            ],
            [
             0.1111111111111111,
             "#46039f"
            ],
            [
             0.2222222222222222,
             "#7201a8"
            ],
            [
             0.3333333333333333,
             "#9c179e"
            ],
            [
             0.4444444444444444,
             "#bd3786"
            ],
            [
             0.5555555555555556,
             "#d8576b"
            ],
            [
             0.6666666666666666,
             "#ed7953"
            ],
            [
             0.7777777777777778,
             "#fb9f3a"
            ],
            [
             0.8888888888888888,
             "#fdca26"
            ],
            [
             1,
             "#f0f921"
            ]
           ]
          },
          "colorway": [
           "#636efa",
           "#EF553B",
           "#00cc96",
           "#ab63fa",
           "#FFA15A",
           "#19d3f3",
           "#FF6692",
           "#B6E880",
           "#FF97FF",
           "#FECB52"
          ],
          "font": {
           "color": "#2a3f5f"
          },
          "geo": {
           "bgcolor": "white",
           "lakecolor": "white",
           "landcolor": "#E5ECF6",
           "showlakes": true,
           "showland": true,
           "subunitcolor": "white"
          },
          "hoverlabel": {
           "align": "left"
          },
          "hovermode": "closest",
          "mapbox": {
           "style": "light"
          },
          "paper_bgcolor": "white",
          "plot_bgcolor": "#E5ECF6",
          "polar": {
           "angularaxis": {
            "gridcolor": "white",
            "linecolor": "white",
            "ticks": ""
           },
           "bgcolor": "#E5ECF6",
           "radialaxis": {
            "gridcolor": "white",
            "linecolor": "white",
            "ticks": ""
           }
          },
          "scene": {
           "xaxis": {
            "backgroundcolor": "#E5ECF6",
            "gridcolor": "white",
            "gridwidth": 2,
            "linecolor": "white",
            "showbackground": true,
            "ticks": "",
            "zerolinecolor": "white"
           },
           "yaxis": {
            "backgroundcolor": "#E5ECF6",
            "gridcolor": "white",
            "gridwidth": 2,
            "linecolor": "white",
            "showbackground": true,
            "ticks": "",
            "zerolinecolor": "white"
           },
           "zaxis": {
            "backgroundcolor": "#E5ECF6",
            "gridcolor": "white",
            "gridwidth": 2,
            "linecolor": "white",
            "showbackground": true,
            "ticks": "",
            "zerolinecolor": "white"
           }
          },
          "shapedefaults": {
           "line": {
            "color": "#2a3f5f"
           }
          },
          "ternary": {
           "aaxis": {
            "gridcolor": "white",
            "linecolor": "white",
            "ticks": ""
           },
           "baxis": {
            "gridcolor": "white",
            "linecolor": "white",
            "ticks": ""
           },
           "bgcolor": "#E5ECF6",
           "caxis": {
            "gridcolor": "white",
            "linecolor": "white",
            "ticks": ""
           }
          },
          "title": {
           "x": 0.05
          },
          "xaxis": {
           "automargin": true,
           "gridcolor": "white",
           "linecolor": "white",
           "ticks": "",
           "title": {
            "standoff": 15
           },
           "zerolinecolor": "white",
           "zerolinewidth": 2
          },
          "yaxis": {
           "automargin": true,
           "gridcolor": "white",
           "linecolor": "white",
           "ticks": "",
           "title": {
            "standoff": 15
           },
           "zerolinecolor": "white",
           "zerolinewidth": 2
          }
         }
        },
        "title": {
         "text": "Multivariate drift (PCA reconstruction error)"
        },
        "xaxis": {
         "autorange": true,
         "linecolor": "#3b0280",
         "matches": "x",
         "mirror": true,
         "range": [
          0,
          6
         ],
         "showgrid": false,
         "title": {
          "text": "Chunk"
         },
         "type": "linear",
         "zeroline": false
        },
        "yaxis": {
         "autorange": true,
         "linecolor": "#3b0280",
         "mirror": true,
         "range": [
          1.2239772204867834,
          9.572020684135667
         ],
         "showgrid": false,
         "title": {
          "text": "Data reconstruction drift"
         },
         "type": "linear",
         "zeroline": false
        }
       }
      },
      "image/png": "[encoded data removed]",
      "text/html": [
       "<div>                            <div id=\"10a45d51-9776-439b-aa33-22b43dfed461\" class=\"plotly-graph-div\" style=\"height:525px; width:100%;\"></div>            <script type=\"text/javascript\">                require([\"plotly\"], function(Plotly) {                    window.PLOTLYENV=window.PLOTLYENV || {};                                    if (document.getElementById(\"10a45d51-9776-439b-aa33-22b43dfed461\")) {                    Plotly.newPlot(                        \"10a45d51-9776-439b-aa33-22b43dfed461\",                        [{\"hoverinfo\":\"skip\",\"legendgroup\":\"metric_reference\",\"line\":{\"color\":\"#00c8e5\",\"shape\":\"hv\",\"width\":2},\"mode\":\"lines\",\"name\":\"Metric\",\"showlegend\":true,\"x\":[0,1,2],\"y\":[1.8039619944793717,1.7863107038020207,1.7863107038020207],\"type\":\"scatter\"},{\"customdata\":[[\"Data reconstruction drift\",\"\\u003cb style=\\\"color:#00c8e5;line-height:60px\\\"\\u003eReference\\u003c\\u002fb\\u003e\",\"\",\"[0:1419]\",\"Chunk index: \\u003cb\\u003e0\\u003c\\u002fb\\u003e\",1.804,0.0939],[\"Data reconstruction drift\",\"\\u003cb style=\\\"color:#00c8e5;line-height:60px\\\"\\u003eReference\\u003c\\u002fb\\u003e\",\"\",\"[1420:2840]\",\"Chunk index: \\u003cb\\u003e1\\u003c\\u002fb\\u003e\",1.7863,0.0939]],\"hovertemplate\":\"%{customdata[1]} &nbsp; &nbsp; %{customdata[2]} \\u003cbr \\u002f\\u003eChunk: \\u003cb\\u003e%{customdata[3]}\\u003c\\u002fb\\u003e &nbsp; &nbsp; %{customdata[4]} \\u003cbr \\u002f\\u003e%{customdata[0]}: \\u003cb\\u003e%{customdata[5]}\\u003c\\u002fb\\u003e\\u003cbr \\u002f\\u003eConfidence band: +\\u002f- \\u003cb\\u003e%{customdata[6]}\\u003c\\u002fb\\u003e\\u003cbr \\u002f\\u003e\\u003cextra\\u003e\\u003c\\u002fextra\\u003e\",\"legendgroup\":\"metric_reference\",\"marker\":{\"color\":\"#00c8e5\",\"size\":5,\"symbol\":\"circle\"},\"mode\":\"markers\",\"name\":\"Metric\",\"showlegend\":false,\"x\":[0.5,1.5],\"y\":[1.8039619944793717,1.7863107038020207,1.7863107038020207],\"type\":\"scatter\"},{\"hoverinfo\":\"skip\",\"legendgroup\":\"metric_analysis\",\"line\":{\"color\":\"#00c8e5\",\"shape\":\"hv\",\"width\":2},\"mode\":\"lines\",\"name\":\"Metric\",\"showlegend\":false,\"x\":[2,3,4,5,6],\"y\":[2.197191598903246,4.349522887827489,8.507828542961844,8.922728414740755,8.922728414740755],\"type\":\"scatter\"},{\"customdata\":[[\"Data reconstruction drift\",\"\\u003cb style=\\\"color:#3b0280;line-height:60px\\\"\\u003eAnalysis\\u003c\\u002fb\\u003e\",\"\\u003cspan style=\\\"color:#AD0000\\\"\\u003e\\u26a0 \\u003cb\\u003eDrift detected\\u003c\\u002fb\\u003e\\u003c\\u002fspan\\u003e\",\"[0:1419]\",\"Chunk index: \\u003cb\\u003e0\\u003c\\u002fb\\u003e\",2.1972,0.0939],[\"Data reconstruction drift\",\"\\u003cb style=\\\"color:#3b0280;line-height:60px\\\"\\u003eAnalysis\\u003c\\u002fb\\u003e\",\"\\u003cspan style=\\\"color:#AD0000\\\"\\u003e\\u26a0 \\u003cb\\u003eDrift detected\\u003c\\u002fb\\u003e\\u003c\\u002fspan\\u003e\",\"[1420:2839]\",\"Chunk index: \\u003cb\\u003e1\\u003c\\u002fb\\u003e\",4.3495,0.0939],[\"Data reconstruction drift\",\"\\u003cb style=\\\"color:#3b0280;line-height:60px\\\"\\u003eAnalysis\\u003c\\u002fb\\u003e\",\"\\u003cspan style=\\\"color:#AD0000\\\"\\u003e\\u26a0 \\u003cb\\u003eDrift detected\\u003c\\u002fb\\u003e\\u003c\\u002fspan\\u003e\",\"[2840:4259]\",\"Chunk index: \\u003cb\\u003e2\\u003c\\u002fb\\u003e\",8.5078,0.0939],[\"Data reconstruction drift\",\"\\u003cb style=\\\"color:#3b0280;line-height:60px\\\"\\u003eAnalysis\\u003c\\u002fb\\u003e\",\"\\u003cspan style=\\\"color:#AD0000\\\"\\u003e\\u26a0 \\u003cb\\u003eDrift detected\\u003c\\u002fb\\u003e\\u003c\\u002fspan\\u003e\",\"[4260:5755]\",\"Chunk index: \\u003cb\\u003e3\\u003c\\u002fb\\u003e\",8.9227,0.0915]],\"hovertemplate\":\"%{customdata[1]} &nbsp; &nbsp; %{customdata[2]} \\u003cbr \\u002f\\u003eChunk: \\u003cb\\u003e%{customdata[3]}\\u003c\\u002fb\\u003e &nbsp; &nbsp; %{customdata[4]} \\u003cbr \\u002f\\u003e%{customdata[0]}: \\u003cb\\u003e%{customdata[5]}\\u003c\\u002fb\\u003e\\u003cbr \\u002f\\u003eConfidence band: +\\u002f- \\u003cb\\u003e%{customdata[6]}\\u003c\\u002fb\\u003e\\u003cbr \\u002f\\u003e\\u003cextra\\u003e\\u003c\\u002fextra\\u003e\",\"legendgroup\":\"metric_analysis\",\"marker\":{\"color\":\"#00c8e5\",\"size\":5,\"symbol\":\"circle\"},\"mode\":\"markers\",\"name\":\"Metric\",\"showlegend\":false,\"x\":[2.5,3.5,4.5,5.5],\"y\":[2.197191598903246,4.349522887827489,8.507828542961844,8.922728414740755,8.922728414740755],\"type\":\"scatter\"},{\"hoverinfo\":\"skip\",\"legendgroup\":\"alert\",\"marker\":{\"color\":\"#DD4040\",\"size\":8,\"symbol\":\"diamond\"},\"mode\":\"markers\",\"name\":\"Alert\",\"showlegend\":true,\"x\":[2.5,3.5,4.5,5.5],\"y\":[2.197191598903246,4.349522887827489,8.507828542961844,8.922728414740755],\"type\":\"scatter\"},{\"hoverinfo\":\"skip\",\"legendgroup\":\"thresh\",\"line\":{\"color\":\"#DD4040\",\"dash\":\"dash\",\"width\":2},\"mode\":\"lines\",\"name\":\"Threshold\",\"showlegend\":false,\"x\":[0,1,2],\"y\":[1.8216132851567226,1.8216132851567226,1.8216132851567226],\"type\":\"scatter\"},{\"hoverinfo\":\"skip\",\"legendgroup\":\"thresh\",\"line\":{\"color\":\"#DD4040\",\"dash\":\"dash\",\"width\":2},\"mode\":\"lines\",\"name\":\"Threshold\",\"showlegend\":false,\"x\":[0,1,2],\"y\":[1.7686594131246698,1.7686594131246698,1.7686594131246698],\"type\":\"scatter\"},{\"hoverinfo\":\"skip\",\"legendgroup\":\"thresh\",\"line\":{\"color\":\"#DD4040\",\"dash\":\"dash\",\"width\":2},\"mode\":\"lines\",\"name\":\"Threshold\",\"showlegend\":false,\"x\":[2,3,4,5,6],\"y\":[1.8216132851567226,1.8216132851567226,1.8216132851567226,1.8216132851567226,1.8216132851567226],\"type\":\"scatter\"},{\"hoverinfo\":\"skip\",\"legendgroup\":\"thresh\",\"line\":{\"color\":\"#DD4040\",\"dash\":\"dash\",\"width\":2},\"mode\":\"lines\",\"name\":\"Threshold\",\"showlegend\":false,\"x\":[2,3,4,5,6],\"y\":[1.7686594131246698,1.7686594131246698,1.7686594131246698,1.7686594131246698,1.7686594131246698],\"type\":\"scatter\"},{\"hoverinfo\":\"skip\",\"line\":{\"color\":\"rgba(0,0,0,0)\",\"shape\":\"hv\"},\"mode\":\"lines\",\"name\":\"Confidence band\",\"showlegend\":false,\"x\":[0,1,2],\"y\":[1.897861719127431,1.880177382619513,1.880177382619513],\"type\":\"scatter\"},{\"fill\":\"tonexty\",\"fillcolor\":\"rgba(0.0, 0.7843137254901961, 0.8980392156862745, 0.2)\",\"hoverinfo\":\"skip\",\"line\":{\"color\":\"rgba(0,0,0,0)\",\"shape\":\"hv\"},\"mode\":\"lines\",\"name\":\"Confidence band\",\"showlegend\":true,\"x\":[0,1,2],\"y\":[1.7100622698313124,1.6924440249845285,1.6924440249845285],\"type\":\"scatter\"},{\"hoverinfo\":\"skip\",\"line\":{\"color\":\"rgba(0,0,0,0)\",\"shape\":\"hv\"},\"mode\":\"lines\",\"name\":\"Confidence band\",\"showlegend\":false,\"x\":[2,3,4,5,6],\"y\":[2.291091323551305,4.4434226124755485,8.601728267609904,9.014211898428629,9.014211898428629],\"type\":\"scatter\"},{\"fill\":\"tonexty\",\"fillcolor\":\"rgba(0.0, 0.7843137254901961, 0.8980392156862745, 0.2)\",\"hoverinfo\":\"skip\",\"line\":{\"color\":\"rgba(0,0,0,0)\",\"shape\":\"hv\"},\"mode\":\"lines\",\"name\":\"Confidence band\",\"showlegend\":false,\"x\":[2,3,4,5,6],\"y\":[2.1032918742551865,4.25562316317943,8.413928818313785,8.83124493105288,8.83124493105288],\"type\":\"scatter\"}],                        {\"hoverlabel\":{\"bgcolor\":\"white\",\"font\":{\"size\":14}},\"legend\":{\"itemclick\":false,\"itemdoubleclick\":false,\"traceorder\":\"grouped\"},\"paper_bgcolor\":\"rgba(255,255,255,1)\",\"plot_bgcolor\":\"rgba(255,255,255,1)\",\"title\":{\"text\":\"Multivariate drift (PCA reconstruction error)\"},\"xaxis\":{\"linecolor\":\"#3b0280\",\"mirror\":true,\"showgrid\":false,\"title\":{\"text\":\"Chunk\"},\"zeroline\":false,\"matches\":\"x\"},\"yaxis\":{\"linecolor\":\"#3b0280\",\"mirror\":true,\"showgrid\":false,\"title\":{\"text\":\"Data reconstruction drift\"},\"zeroline\":false},\"template\":{\"data\":{\"histogram2dcontour\":[{\"type\":\"histogram2dcontour\",\"colorbar\":{\"outlinewidth\":0,\"ticks\":\"\"},\"colorscale\":[[0.0,\"#0d0887\"],[0.1111111111111111,\"#46039f\"],[0.2222222222222222,\"#7201a8\"],[0.3333333333333333,\"#9c179e\"],[0.4444444444444444,\"#bd3786\"],[0.5555555555555556,\"#d8576b\"],[0.6666666666666666,\"#ed7953\"],[0.7777777777777778,\"#fb9f3a\"],[0.8888888888888888,\"#fdca26\"],[1.0,\"#f0f921\"]]}],\"choropleth\":[{\"type\":\"choropleth\",\"colorbar\":{\"outlinewidth\":0,\"ticks\":\"\"}}],\"histogram2d\":[{\"type\":\"histogram2d\",\"colorbar\":{\"outlinewidth\":0,\"ticks\":\"\"},\"colorscale\":[[0.0,\"#0d0887\"],[0.1111111111111111,\"#46039f\"],[0.2222222222222222,\"#7201a8\"],[0.3333333333333333,\"#9c179e\"],[0.4444444444444444,\"#bd3786\"],[0.5555555555555556,\"#d8576b\"],[0.6666666666666666,\"#ed7953\"],[0.7777777777777778,\"#fb9f3a\"],[0.8888888888888888,\"#fdca26\"],[1.0,\"#f0f921\"]]}],\"heatmap\":[{\"type\":\"heatmap\",\"colorbar\":{\"outlinewidth\":0,\"ticks\":\"\"},\"colorscale\":[[0.0,\"#0d0887\"],[0.1111111111111111,\"#46039f\"],[0.2222222222222222,\"#7201a8\"],[0.3333333333333333,\"#9c179e\"],[0.4444444444444444,\"#bd3786\"],[0.5555555555555556,\"#d8576b\"],[0.6666666666666666,\"#ed7953\"],[0.7777777777777778,\"#fb9f3a\"],[0.8888888888888888,\"#fdca26\"],[1.0,\"#f0f921\"]]}],\"heatmapgl\":[{\"type\":\"heatmapgl\",\"colorbar\":{\"outlinewidth\":0,\"ticks\":\"\"},\"colorscale\":[[0.0,\"#0d0887\"],[0.1111111111111111,\"#46039f\"],[0.2222222222222222,\"#7201a8\"],[0.3333333333333333,\"#9c179e\"],[0.4444444444444444,\"#bd3786\"],[0.5555555555555556,\"#d8576b\"],[0.6666666666666666,\"#ed7953\"],[0.7777777777777778,\"#fb9f3a\"],[0.8888888888888888,\"#fdca26\"],[1.0,\"#f0f921\"]]}],\"contourcarpet\":[{\"type\":\"contourcarpet\",\"colorbar\":{\"outlinewidth\":0,\"ticks\":\"\"}}],\"contour\":[{\"type\":\"contour\",\"colorbar\":{\"outlinewidth\":0,\"ticks\":\"\"},\"colorscale\":[[0.0,\"#0d0887\"],[0.1111111111111111,\"#46039f\"],[0.2222222222222222,\"#7201a8\"],[0.3333333333333333,\"#9c179e\"],[0.4444444444444444,\"#bd3786\"],[0.5555555555555556,\"#d8576b\"],[0.6666666666666666,\"#ed7953\"],[0.7777777777777778,\"#fb9f3a\"],[0.8888888888888888,\"#fdca26\"],[1.0,\"#f0f921\"]]}],\"surface\":[{\"type\":\"surface\",\"colorbar\":{\"outlinewidth\":0,\"ticks\":\"\"},\"colorscale\":[[0.0,\"#0d0887\"],[0.1111111111111111,\"#46039f\"],[0.2222222222222222,\"#7201a8\"],[0.3333333333333333,\"#9c179e\"],[0.4444444444444444,\"#bd3786\"],[0.5555555555555556,\"#d8576b\"],[0.6666666666666666,\"#ed7953\"],[0.7777777777777778,\"#fb9f3a\"],[0.8888888888888888,\"#fdca26\"],[1.0,\"#f0f921\"]]}],\"mesh3d\":[{\"type\":\"mesh3d\",\"colorbar\":{\"outlinewidth\":0,\"ticks\":\"\"}}],\"scatter\":[{\"fillpattern\":{\"fillmode\":\"overlay\",\"size\":10,\"solidity\":0.2},\"type\":\"scatter\"}],\"parcoords\":[{\"type\":\"parcoords\",\"line\":{\"colorbar\":{\"outlinewidth\":0,\"ticks\":\"\"}}}],\"scatterpolargl\":[{\"type\":\"scatterpolargl\",\"marker\":{\"colorbar\":{\"outlinewidth\":0,\"ticks\":\"\"}}}],\"bar\":[{\"error_x\":{\"color\":\"#2a3f5f\"},\"error_y\":{\"color\":\"#2a3f5f\"},\"marker\":{\"line\":{\"color\":\"#E5ECF6\",\"width\":0.5},\"pattern\":{\"fillmode\":\"overlay\",\"size\":10,\"solidity\":0.2}},\"type\":\"bar\"}],\"scattergeo\":[{\"type\":\"scattergeo\",\"marker\":{\"colorbar\":{\"outlinewidth\":0,\"ticks\":\"\"}}}],\"scatterpolar\":[{\"type\":\"scatterpolar\",\"marker\":{\"colorbar\":{\"outlinewidth\":0,\"ticks\":\"\"}}}],\"histogram\":[{\"marker\":{\"pattern\":{\"fillmode\":\"overlay\",\"size\":10,\"solidity\":0.2}},\"type\":\"histogram\"}],\"scattergl\":[{\"type\":\"scattergl\",\"marker\":{\"colorbar\":{\"outlinewidth\":0,\"ticks\":\"\"}}}],\"scatter3d\":[{\"type\":\"scatter3d\",\"line\":{\"colorbar\":{\"outlinewidth\":0,\"ticks\":\"\"}},\"marker\":{\"colorbar\":{\"outlinewidth\":0,\"ticks\":\"\"}}}],\"scattermapbox\":[{\"type\":\"scattermapbox\",\"marker\":{\"colorbar\":{\"outlinewidth\":0,\"ticks\":\"\"}}}],\"scatterternary\":[{\"type\":\"scatterternary\",\"marker\":{\"colorbar\":{\"outlinewidth\":0,\"ticks\":\"\"}}}],\"scattercarpet\":[{\"type\":\"scattercarpet\",\"marker\":{\"colorbar\":{\"outlinewidth\":0,\"ticks\":\"\"}}}],\"carpet\":[{\"aaxis\":{\"endlinecolor\":\"#2a3f5f\",\"gridcolor\":\"white\",\"linecolor\":\"white\",\"minorgridcolor\":\"white\",\"startlinecolor\":\"#2a3f5f\"},\"baxis\":{\"endlinecolor\":\"#2a3f5f\",\"gridcolor\":\"white\",\"linecolor\":\"white\",\"minorgridcolor\":\"white\",\"startlinecolor\":\"#2a3f5f\"},\"type\":\"carpet\"}],\"table\":[{\"cells\":{\"fill\":{\"color\":\"#EBF0F8\"},\"line\":{\"color\":\"white\"}},\"header\":{\"fill\":{\"color\":\"#C8D4E3\"},\"line\":{\"color\":\"white\"}},\"type\":\"table\"}],\"barpolar\":[{\"marker\":{\"line\":{\"color\":\"#E5ECF6\",\"width\":0.5},\"pattern\":{\"fillmode\":\"overlay\",\"size\":10,\"solidity\":0.2}},\"type\":\"barpolar\"}],\"pie\":[{\"automargin\":true,\"type\":\"pie\"}]},\"layout\":{\"autotypenumbers\":\"strict\",\"colorway\":[\"#636efa\",\"#EF553B\",\"#00cc96\",\"#ab63fa\",\"#FFA15A\",\"#19d3f3\",\"#FF6692\",\"#B6E880\",\"#FF97FF\",\"#FECB52\"],\"font\":{\"color\":\"#2a3f5f\"},\"hovermode\":\"closest\",\"hoverlabel\":{\"align\":\"left\"},\"paper_bgcolor\":\"white\",\"plot_bgcolor\":\"#E5ECF6\",\"polar\":{\"bgcolor\":\"#E5ECF6\",\"angularaxis\":{\"gridcolor\":\"white\",\"linecolor\":\"white\",\"ticks\":\"\"},\"radialaxis\":{\"gridcolor\":\"white\",\"linecolor\":\"white\",\"ticks\":\"\"}},\"ternary\":{\"bgcolor\":\"#E5ECF6\",\"aaxis\":{\"gridcolor\":\"white\",\"linecolor\":\"white\",\"ticks\":\"\"},\"baxis\":{\"gridcolor\":\"white\",\"linecolor\":\"white\",\"ticks\":\"\"},\"caxis\":{\"gridcolor\":\"white\",\"linecolor\":\"white\",\"ticks\":\"\"}},\"coloraxis\":{\"colorbar\":{\"outlinewidth\":0,\"ticks\":\"\"}},\"colorscale\":{\"sequential\":[[0.0,\"#0d0887\"],[0.1111111111111111,\"#46039f\"],[0.2222222222222222,\"#7201a8\"],[0.3333333333333333,\"#9c179e\"],[0.4444444444444444,\"#bd3786\"],[0.5555555555555556,\"#d8576b\"],[0.6666666666666666,\"#ed7953\"],[0.7777777777777778,\"#fb9f3a\"],[0.8888888888888888,\"#fdca26\"],[1.0,\"#f0f921\"]],\"sequentialminus\":[[0.0,\"#0d0887\"],[0.1111111111111111,\"#46039f\"],[0.2222222222222222,\"#7201a8\"],[0.3333333333333333,\"#9c179e\"],[0.4444444444444444,\"#bd3786\"],[0.5555555555555556,\"#d8576b\"],[0.6666666666666666,\"#ed7953\"],[0.7777777777777778,\"#fb9f3a\"],[0.8888888888888888,\"#fdca26\"],[1.0,\"#f0f921\"]],\"diverging\":[[0,\"#8e0152\"],[0.1,\"#c51b7d\"],[0.2,\"#de77ae\"],[0.3,\"#f1b6da\"],[0.4,\"#fde0ef\"],[0.5,\"#f7f7f7\"],[0.6,\"#e6f5d0\"],[0.7,\"#b8e186\"],[0.8,\"#7fbc41\"],[0.9,\"#4d9221\"],[1,\"#276419\"]]},\"xaxis\":{\"gridcolor\":\"white\",\"linecolor\":\"white\",\"ticks\":\"\",\"title\":{\"standoff\":15},\"zerolinecolor\":\"white\",\"automargin\":true,\"zerolinewidth\":2},\"yaxis\":{\"gridcolor\":\"white\",\"linecolor\":\"white\",\"ticks\":\"\",\"title\":{\"standoff\":15},\"zerolinecolor\":\"white\",\"automargin\":true,\"zerolinewidth\":2},\"scene\":{\"xaxis\":{\"backgroundcolor\":\"#E5ECF6\",\"gridcolor\":\"white\",\"linecolor\":\"white\",\"showbackground\":true,\"ticks\":\"\",\"zerolinecolor\":\"white\",\"gridwidth\":2},\"yaxis\":{\"backgroundcolor\":\"#E5ECF6\",\"gridcolor\":\"white\",\"linecolor\":\"white\",\"showbackground\":true,\"ticks\":\"\",\"zerolinecolor\":\"white\",\"gridwidth\":2},\"zaxis\":{\"backgroundcolor\":\"#E5ECF6\",\"gridcolor\":\"white\",\"linecolor\":\"white\",\"showbackground\":true,\"ticks\":\"\",\"zerolinecolor\":\"white\",\"gridwidth\":2}},\"shapedefaults\":{\"line\":{\"color\":\"#2a3f5f\"}},\"annotationdefaults\":{\"arrowcolor\":\"#2a3f5f\",\"arrowhead\":0,\"arrowwidth\":1},\"geo\":{\"bgcolor\":\"white\",\"landcolor\":\"#E5ECF6\",\"subunitcolor\":\"white\",\"showland\":true,\"showlakes\":true,\"lakecolor\":\"white\"},\"title\":{\"x\":0.05},\"mapbox\":{\"style\":\"light\"}}},\"shapes\":[{\"layer\":\"below\",\"line\":{\"color\":\"#666666\",\"width\":1},\"type\":\"line\",\"x0\":2,\"x1\":2,\"xref\":\"x\",\"y0\":0,\"y1\":1,\"yref\":\"y domain\"}],\"annotations\":[{\"showarrow\":false,\"text\":\"Reference\",\"x\":0.5,\"xshift\":10,\"y\":1.01,\"yref\":\"y domain\"},{\"showarrow\":false,\"text\":\"Analysis\",\"x\":3.5,\"xshift\":15,\"y\":1.01,\"yref\":\"y domain\"}]},                        {\"responsive\": true}                    ).then(function(){\n",
       "                            \n",
       "var gd = document.getElementById('10a45d51-9776-439b-aa33-22b43dfed461');\n",
       "var x = new MutationObserver(function (mutations, observer) {{\n",
       "        var display = window.getComputedStyle(gd).display;\n",
       "        if (!display || display === 'none') {{\n",
       "            console.log([gd, 'removed!']);\n",
       "            Plotly.purge(gd);\n",
       "            observer.disconnect();\n",
       "        }}\n",
       "}});\n",
       "\n",
       "// Listen for the removal of the full notebook cells\n",
       "var notebookContainer = gd.closest('#notebook-container');\n",
       "if (notebookContainer) {{\n",
       "    x.observe(notebookContainer, {childList: true});\n",
       "}}\n",
       "\n",
       "// Listen for the clearing of the current output cell\n",
       "var outputEl = gd.closest('.output');\n",
       "if (outputEl) {{\n",
       "    x.observe(outputEl, {childList: true});\n",
       "}}\n",
       "\n",
       "                        })                };                });            </script>        </div>"
      ]
     },
     "metadata": {},
     "output_type": "display_data"
    }
   ],
   "source": [
    "display(results.filter(period='reference').to_df())\n",
    "display(results.filter(period='analysis').to_df())\n",
    "\n",
    "figure = results.plot()\n",
    "figure.show()"
   ]
  },
  {
   "cell_type": "code",
   "execution_count": null,
   "id": "c815a039-fd95-4639-b916-c69667c6620a",
   "metadata": {},
   "outputs": [],
   "source": [
    "# Regression "
   ]
  },
  {
   "cell_type": "code",
   "execution_count": 200,
   "id": "39ab74d1-ab69-4c71-b339-f1cba009817f",
   "metadata": {},
   "outputs": [
    {
     "data": {
      "text/plain": [
       "(12440, 12)"
      ]
     },
     "execution_count": 200,
     "metadata": {},
     "output_type": "execute_result"
    }
   ],
   "source": [
    "Boston = pd.read_csv('Boston.csv')\n",
    "\n",
    "naval = pd.read_csv('naval.csv')\n",
    "\n",
    "OOD = pd.concat([Boston, naval], axis = 0)\n",
    "OOD.shape"
   ]
  },
  {
   "cell_type": "code",
   "execution_count": 198,
   "id": "64fa6b6b-d094-48f5-96df-65b2d20d7fa3",
   "metadata": {},
   "outputs": [
    {
     "name": "stdout",
     "output_type": "stream",
     "text": [
      "(530706, 12)\n",
      "(18368, 12)\n",
      "(18368, 12)\n"
     ]
    }
   ],
   "source": [
    "train = pd.read_csv('train.csv')\n",
    "small_shift = pd.read_csv('dev_in.csv')\n",
    "large_shift = pd.read_csv('dev_out.csv')\n",
    "\n",
    "train = Normalization(train)\n",
    "print(train.shape)\n",
    "\n",
    "small_shift = Normalization(small_shift)\n",
    "print(small_shift.shape)\n",
    "\n",
    "large_shift = Normalization(large_shift)\n",
    "print(large_shift.shape)\n"
   ]
  },
  {
   "cell_type": "code",
   "execution_count": 199,
   "id": "4c6e2b43-c7fa-4d42-8581-455595829d59",
   "metadata": {},
   "outputs": [
    {
     "data": {
      "text/plain": [
       "(49176, 12)"
      ]
     },
     "execution_count": 199,
     "metadata": {},
     "output_type": "execute_result"
    }
   ],
   "source": [
    "reference = train\n",
    "analysis = pd.concat( [small_shift, large_shift, OOD], axis = 0)\n",
    "analysis.shape"
   ]
  },
  {
   "cell_type": "code",
   "execution_count": 201,
   "id": "3c7c0ca7-a07d-428d-bccb-150953a36eac",
   "metadata": {},
   "outputs": [
    {
     "name": "stderr",
     "output_type": "stream",
     "text": [
      "/Users/eric/miniforge3/envs/my_env/lib/python3.10/site-packages/nannyml/chunk.py:181: UserWarning:\n",
      "\n",
      "The resulting number of chunks is too low. Please consider splitting your data in a different way or continue at your own risk.\n",
      "\n"
     ]
    }
   ],
   "source": [
    "features_name = [ col for col in reference.columns ]\n",
    "\n",
    "calc = nml.DataReconstructionDriftCalculator(\n",
    "    column_names = features_name,\n",
    "    chunk_size = 9000\n",
    ")\n",
    "\n",
    "calc.fit(reference)\n",
    "results = calc.calculate(analysis)"
   ]
  },
  {
   "cell_type": "code",
   "execution_count": 202,
   "id": "0e354d92-9d4e-443a-af3e-90f2dc25d330",
   "metadata": {
    "scrolled": true
   },
   "outputs": [
    {
     "data": {
      "text/html": [
       "<div>\n",
       "<style scoped>\n",
       "    .dataframe tbody tr th:only-of-type {\n",
       "        vertical-align: middle;\n",
       "    }\n",
       "\n",
       "    .dataframe tbody tr th {\n",
       "        vertical-align: top;\n",
       "    }\n",
       "\n",
       "    .dataframe thead tr th {\n",
       "        text-align: left;\n",
       "    }\n",
       "</style>\n",
       "<table border=\"1\" class=\"dataframe\">\n",
       "  <thead>\n",
       "    <tr>\n",
       "      <th></th>\n",
       "      <th colspan=\"7\" halign=\"left\">chunk</th>\n",
       "      <th colspan=\"7\" halign=\"left\">reconstruction_error</th>\n",
       "    </tr>\n",
       "    <tr>\n",
       "      <th></th>\n",
       "      <th>key</th>\n",
       "      <th>chunk_index</th>\n",
       "      <th>start_index</th>\n",
       "      <th>end_index</th>\n",
       "      <th>start_date</th>\n",
       "      <th>end_date</th>\n",
       "      <th>period</th>\n",
       "      <th>sampling_error</th>\n",
       "      <th>value</th>\n",
       "      <th>upper_confidence_boundary</th>\n",
       "      <th>lower_confidence_boundary</th>\n",
       "      <th>upper_threshold</th>\n",
       "      <th>lower_threshold</th>\n",
       "      <th>alert</th>\n",
       "    </tr>\n",
       "  </thead>\n",
       "  <tbody>\n",
       "    <tr>\n",
       "      <th>0</th>\n",
       "      <td>[0:8999]</td>\n",
       "      <td>0</td>\n",
       "      <td>0</td>\n",
       "      <td>8999</td>\n",
       "      <td>None</td>\n",
       "      <td>None</td>\n",
       "      <td>reference</td>\n",
       "      <td>0.010103</td>\n",
       "      <td>1.443423</td>\n",
       "      <td>1.473732</td>\n",
       "      <td>1.413114</td>\n",
       "      <td>2.006475</td>\n",
       "      <td>1.156017</td>\n",
       "      <td>False</td>\n",
       "    </tr>\n",
       "    <tr>\n",
       "      <th>1</th>\n",
       "      <td>[9000:17999]</td>\n",
       "      <td>1</td>\n",
       "      <td>9000</td>\n",
       "      <td>17999</td>\n",
       "      <td>None</td>\n",
       "      <td>None</td>\n",
       "      <td>reference</td>\n",
       "      <td>0.010103</td>\n",
       "      <td>1.438336</td>\n",
       "      <td>1.468645</td>\n",
       "      <td>1.408027</td>\n",
       "      <td>2.006475</td>\n",
       "      <td>1.156017</td>\n",
       "      <td>False</td>\n",
       "    </tr>\n",
       "    <tr>\n",
       "      <th>2</th>\n",
       "      <td>[18000:26999]</td>\n",
       "      <td>2</td>\n",
       "      <td>18000</td>\n",
       "      <td>26999</td>\n",
       "      <td>None</td>\n",
       "      <td>None</td>\n",
       "      <td>reference</td>\n",
       "      <td>0.010103</td>\n",
       "      <td>1.450356</td>\n",
       "      <td>1.480665</td>\n",
       "      <td>1.420047</td>\n",
       "      <td>2.006475</td>\n",
       "      <td>1.156017</td>\n",
       "      <td>False</td>\n",
       "    </tr>\n",
       "    <tr>\n",
       "      <th>3</th>\n",
       "      <td>[27000:35999]</td>\n",
       "      <td>3</td>\n",
       "      <td>27000</td>\n",
       "      <td>35999</td>\n",
       "      <td>None</td>\n",
       "      <td>None</td>\n",
       "      <td>reference</td>\n",
       "      <td>0.010103</td>\n",
       "      <td>1.429797</td>\n",
       "      <td>1.460106</td>\n",
       "      <td>1.399488</td>\n",
       "      <td>2.006475</td>\n",
       "      <td>1.156017</td>\n",
       "      <td>False</td>\n",
       "    </tr>\n",
       "    <tr>\n",
       "      <th>4</th>\n",
       "      <td>[36000:44999]</td>\n",
       "      <td>4</td>\n",
       "      <td>36000</td>\n",
       "      <td>44999</td>\n",
       "      <td>None</td>\n",
       "      <td>None</td>\n",
       "      <td>reference</td>\n",
       "      <td>0.010103</td>\n",
       "      <td>1.445507</td>\n",
       "      <td>1.475816</td>\n",
       "      <td>1.415198</td>\n",
       "      <td>2.006475</td>\n",
       "      <td>1.156017</td>\n",
       "      <td>False</td>\n",
       "    </tr>\n",
       "    <tr>\n",
       "      <th>5</th>\n",
       "      <td>[45000:53999]</td>\n",
       "      <td>5</td>\n",
       "      <td>45000</td>\n",
       "      <td>53999</td>\n",
       "      <td>None</td>\n",
       "      <td>None</td>\n",
       "      <td>reference</td>\n",
       "      <td>0.010103</td>\n",
       "      <td>1.431852</td>\n",
       "      <td>1.462161</td>\n",
       "      <td>1.401543</td>\n",
       "      <td>2.006475</td>\n",
       "      <td>1.156017</td>\n",
       "      <td>False</td>\n",
       "    </tr>\n",
       "    <tr>\n",
       "      <th>6</th>\n",
       "      <td>[54000:62999]</td>\n",
       "      <td>6</td>\n",
       "      <td>54000</td>\n",
       "      <td>62999</td>\n",
       "      <td>None</td>\n",
       "      <td>None</td>\n",
       "      <td>reference</td>\n",
       "      <td>0.010103</td>\n",
       "      <td>1.438132</td>\n",
       "      <td>1.468441</td>\n",
       "      <td>1.407823</td>\n",
       "      <td>2.006475</td>\n",
       "      <td>1.156017</td>\n",
       "      <td>False</td>\n",
       "    </tr>\n",
       "    <tr>\n",
       "      <th>7</th>\n",
       "      <td>[63000:71999]</td>\n",
       "      <td>7</td>\n",
       "      <td>63000</td>\n",
       "      <td>71999</td>\n",
       "      <td>None</td>\n",
       "      <td>None</td>\n",
       "      <td>reference</td>\n",
       "      <td>0.010103</td>\n",
       "      <td>1.428843</td>\n",
       "      <td>1.459152</td>\n",
       "      <td>1.398534</td>\n",
       "      <td>2.006475</td>\n",
       "      <td>1.156017</td>\n",
       "      <td>False</td>\n",
       "    </tr>\n",
       "    <tr>\n",
       "      <th>8</th>\n",
       "      <td>[72000:80999]</td>\n",
       "      <td>8</td>\n",
       "      <td>72000</td>\n",
       "      <td>80999</td>\n",
       "      <td>None</td>\n",
       "      <td>None</td>\n",
       "      <td>reference</td>\n",
       "      <td>0.010103</td>\n",
       "      <td>1.450789</td>\n",
       "      <td>1.481098</td>\n",
       "      <td>1.420480</td>\n",
       "      <td>2.006475</td>\n",
       "      <td>1.156017</td>\n",
       "      <td>False</td>\n",
       "    </tr>\n",
       "    <tr>\n",
       "      <th>9</th>\n",
       "      <td>[81000:89999]</td>\n",
       "      <td>9</td>\n",
       "      <td>81000</td>\n",
       "      <td>89999</td>\n",
       "      <td>None</td>\n",
       "      <td>None</td>\n",
       "      <td>reference</td>\n",
       "      <td>0.010103</td>\n",
       "      <td>1.437968</td>\n",
       "      <td>1.468277</td>\n",
       "      <td>1.407659</td>\n",
       "      <td>2.006475</td>\n",
       "      <td>1.156017</td>\n",
       "      <td>False</td>\n",
       "    </tr>\n",
       "    <tr>\n",
       "      <th>10</th>\n",
       "      <td>[90000:98999]</td>\n",
       "      <td>10</td>\n",
       "      <td>90000</td>\n",
       "      <td>98999</td>\n",
       "      <td>None</td>\n",
       "      <td>None</td>\n",
       "      <td>reference</td>\n",
       "      <td>0.010103</td>\n",
       "      <td>1.449564</td>\n",
       "      <td>1.479873</td>\n",
       "      <td>1.419255</td>\n",
       "      <td>2.006475</td>\n",
       "      <td>1.156017</td>\n",
       "      <td>False</td>\n",
       "    </tr>\n",
       "    <tr>\n",
       "      <th>11</th>\n",
       "      <td>[99000:107999]</td>\n",
       "      <td>11</td>\n",
       "      <td>99000</td>\n",
       "      <td>107999</td>\n",
       "      <td>None</td>\n",
       "      <td>None</td>\n",
       "      <td>reference</td>\n",
       "      <td>0.010103</td>\n",
       "      <td>1.444619</td>\n",
       "      <td>1.474928</td>\n",
       "      <td>1.414310</td>\n",
       "      <td>2.006475</td>\n",
       "      <td>1.156017</td>\n",
       "      <td>False</td>\n",
       "    </tr>\n",
       "    <tr>\n",
       "      <th>12</th>\n",
       "      <td>[108000:116999]</td>\n",
       "      <td>12</td>\n",
       "      <td>108000</td>\n",
       "      <td>116999</td>\n",
       "      <td>None</td>\n",
       "      <td>None</td>\n",
       "      <td>reference</td>\n",
       "      <td>0.010103</td>\n",
       "      <td>1.421514</td>\n",
       "      <td>1.451824</td>\n",
       "      <td>1.391205</td>\n",
       "      <td>2.006475</td>\n",
       "      <td>1.156017</td>\n",
       "      <td>False</td>\n",
       "    </tr>\n",
       "    <tr>\n",
       "      <th>13</th>\n",
       "      <td>[117000:125999]</td>\n",
       "      <td>13</td>\n",
       "      <td>117000</td>\n",
       "      <td>125999</td>\n",
       "      <td>None</td>\n",
       "      <td>None</td>\n",
       "      <td>reference</td>\n",
       "      <td>0.010103</td>\n",
       "      <td>1.448684</td>\n",
       "      <td>1.478993</td>\n",
       "      <td>1.418375</td>\n",
       "      <td>2.006475</td>\n",
       "      <td>1.156017</td>\n",
       "      <td>False</td>\n",
       "    </tr>\n",
       "    <tr>\n",
       "      <th>14</th>\n",
       "      <td>[126000:134999]</td>\n",
       "      <td>14</td>\n",
       "      <td>126000</td>\n",
       "      <td>134999</td>\n",
       "      <td>None</td>\n",
       "      <td>None</td>\n",
       "      <td>reference</td>\n",
       "      <td>0.010103</td>\n",
       "      <td>1.438634</td>\n",
       "      <td>1.468943</td>\n",
       "      <td>1.408325</td>\n",
       "      <td>2.006475</td>\n",
       "      <td>1.156017</td>\n",
       "      <td>False</td>\n",
       "    </tr>\n",
       "    <tr>\n",
       "      <th>15</th>\n",
       "      <td>[135000:143999]</td>\n",
       "      <td>15</td>\n",
       "      <td>135000</td>\n",
       "      <td>143999</td>\n",
       "      <td>None</td>\n",
       "      <td>None</td>\n",
       "      <td>reference</td>\n",
       "      <td>0.010103</td>\n",
       "      <td>1.448155</td>\n",
       "      <td>1.478464</td>\n",
       "      <td>1.417846</td>\n",
       "      <td>2.006475</td>\n",
       "      <td>1.156017</td>\n",
       "      <td>False</td>\n",
       "    </tr>\n",
       "    <tr>\n",
       "      <th>16</th>\n",
       "      <td>[144000:152999]</td>\n",
       "      <td>16</td>\n",
       "      <td>144000</td>\n",
       "      <td>152999</td>\n",
       "      <td>None</td>\n",
       "      <td>None</td>\n",
       "      <td>reference</td>\n",
       "      <td>0.010103</td>\n",
       "      <td>1.433409</td>\n",
       "      <td>1.463718</td>\n",
       "      <td>1.403100</td>\n",
       "      <td>2.006475</td>\n",
       "      <td>1.156017</td>\n",
       "      <td>False</td>\n",
       "    </tr>\n",
       "    <tr>\n",
       "      <th>17</th>\n",
       "      <td>[153000:161999]</td>\n",
       "      <td>17</td>\n",
       "      <td>153000</td>\n",
       "      <td>161999</td>\n",
       "      <td>None</td>\n",
       "      <td>None</td>\n",
       "      <td>reference</td>\n",
       "      <td>0.010103</td>\n",
       "      <td>1.457168</td>\n",
       "      <td>1.487477</td>\n",
       "      <td>1.426859</td>\n",
       "      <td>2.006475</td>\n",
       "      <td>1.156017</td>\n",
       "      <td>False</td>\n",
       "    </tr>\n",
       "    <tr>\n",
       "      <th>18</th>\n",
       "      <td>[162000:170999]</td>\n",
       "      <td>18</td>\n",
       "      <td>162000</td>\n",
       "      <td>170999</td>\n",
       "      <td>None</td>\n",
       "      <td>None</td>\n",
       "      <td>reference</td>\n",
       "      <td>0.010103</td>\n",
       "      <td>1.436102</td>\n",
       "      <td>1.466411</td>\n",
       "      <td>1.405793</td>\n",
       "      <td>2.006475</td>\n",
       "      <td>1.156017</td>\n",
       "      <td>False</td>\n",
       "    </tr>\n",
       "    <tr>\n",
       "      <th>19</th>\n",
       "      <td>[171000:179999]</td>\n",
       "      <td>19</td>\n",
       "      <td>171000</td>\n",
       "      <td>179999</td>\n",
       "      <td>None</td>\n",
       "      <td>None</td>\n",
       "      <td>reference</td>\n",
       "      <td>0.010103</td>\n",
       "      <td>1.441579</td>\n",
       "      <td>1.471888</td>\n",
       "      <td>1.411270</td>\n",
       "      <td>2.006475</td>\n",
       "      <td>1.156017</td>\n",
       "      <td>False</td>\n",
       "    </tr>\n",
       "    <tr>\n",
       "      <th>20</th>\n",
       "      <td>[180000:188999]</td>\n",
       "      <td>20</td>\n",
       "      <td>180000</td>\n",
       "      <td>188999</td>\n",
       "      <td>None</td>\n",
       "      <td>None</td>\n",
       "      <td>reference</td>\n",
       "      <td>0.010103</td>\n",
       "      <td>1.452230</td>\n",
       "      <td>1.482539</td>\n",
       "      <td>1.421921</td>\n",
       "      <td>2.006475</td>\n",
       "      <td>1.156017</td>\n",
       "      <td>False</td>\n",
       "    </tr>\n",
       "    <tr>\n",
       "      <th>21</th>\n",
       "      <td>[189000:197999]</td>\n",
       "      <td>21</td>\n",
       "      <td>189000</td>\n",
       "      <td>197999</td>\n",
       "      <td>None</td>\n",
       "      <td>None</td>\n",
       "      <td>reference</td>\n",
       "      <td>0.010103</td>\n",
       "      <td>1.435598</td>\n",
       "      <td>1.465907</td>\n",
       "      <td>1.405289</td>\n",
       "      <td>2.006475</td>\n",
       "      <td>1.156017</td>\n",
       "      <td>False</td>\n",
       "    </tr>\n",
       "    <tr>\n",
       "      <th>22</th>\n",
       "      <td>[198000:206999]</td>\n",
       "      <td>22</td>\n",
       "      <td>198000</td>\n",
       "      <td>206999</td>\n",
       "      <td>None</td>\n",
       "      <td>None</td>\n",
       "      <td>reference</td>\n",
       "      <td>0.010103</td>\n",
       "      <td>1.458239</td>\n",
       "      <td>1.488548</td>\n",
       "      <td>1.427930</td>\n",
       "      <td>2.006475</td>\n",
       "      <td>1.156017</td>\n",
       "      <td>False</td>\n",
       "    </tr>\n",
       "    <tr>\n",
       "      <th>23</th>\n",
       "      <td>[207000:215999]</td>\n",
       "      <td>23</td>\n",
       "      <td>207000</td>\n",
       "      <td>215999</td>\n",
       "      <td>None</td>\n",
       "      <td>None</td>\n",
       "      <td>reference</td>\n",
       "      <td>0.010103</td>\n",
       "      <td>1.441344</td>\n",
       "      <td>1.471653</td>\n",
       "      <td>1.411035</td>\n",
       "      <td>2.006475</td>\n",
       "      <td>1.156017</td>\n",
       "      <td>False</td>\n",
       "    </tr>\n",
       "    <tr>\n",
       "      <th>24</th>\n",
       "      <td>[216000:224999]</td>\n",
       "      <td>24</td>\n",
       "      <td>216000</td>\n",
       "      <td>224999</td>\n",
       "      <td>None</td>\n",
       "      <td>None</td>\n",
       "      <td>reference</td>\n",
       "      <td>0.010103</td>\n",
       "      <td>1.453163</td>\n",
       "      <td>1.483472</td>\n",
       "      <td>1.422854</td>\n",
       "      <td>2.006475</td>\n",
       "      <td>1.156017</td>\n",
       "      <td>False</td>\n",
       "    </tr>\n",
       "    <tr>\n",
       "      <th>25</th>\n",
       "      <td>[225000:233999]</td>\n",
       "      <td>25</td>\n",
       "      <td>225000</td>\n",
       "      <td>233999</td>\n",
       "      <td>None</td>\n",
       "      <td>None</td>\n",
       "      <td>reference</td>\n",
       "      <td>0.010103</td>\n",
       "      <td>1.448180</td>\n",
       "      <td>1.478489</td>\n",
       "      <td>1.417871</td>\n",
       "      <td>2.006475</td>\n",
       "      <td>1.156017</td>\n",
       "      <td>False</td>\n",
       "    </tr>\n",
       "    <tr>\n",
       "      <th>26</th>\n",
       "      <td>[234000:242999]</td>\n",
       "      <td>26</td>\n",
       "      <td>234000</td>\n",
       "      <td>242999</td>\n",
       "      <td>None</td>\n",
       "      <td>None</td>\n",
       "      <td>reference</td>\n",
       "      <td>0.010103</td>\n",
       "      <td>1.564260</td>\n",
       "      <td>1.594569</td>\n",
       "      <td>1.533951</td>\n",
       "      <td>2.006475</td>\n",
       "      <td>1.156017</td>\n",
       "      <td>False</td>\n",
       "    </tr>\n",
       "    <tr>\n",
       "      <th>27</th>\n",
       "      <td>[243000:251999]</td>\n",
       "      <td>27</td>\n",
       "      <td>243000</td>\n",
       "      <td>251999</td>\n",
       "      <td>None</td>\n",
       "      <td>None</td>\n",
       "      <td>reference</td>\n",
       "      <td>0.010103</td>\n",
       "      <td>1.595557</td>\n",
       "      <td>1.625866</td>\n",
       "      <td>1.565248</td>\n",
       "      <td>2.006475</td>\n",
       "      <td>1.156017</td>\n",
       "      <td>False</td>\n",
       "    </tr>\n",
       "    <tr>\n",
       "      <th>28</th>\n",
       "      <td>[252000:260999]</td>\n",
       "      <td>28</td>\n",
       "      <td>252000</td>\n",
       "      <td>260999</td>\n",
       "      <td>None</td>\n",
       "      <td>None</td>\n",
       "      <td>reference</td>\n",
       "      <td>0.010103</td>\n",
       "      <td>1.590956</td>\n",
       "      <td>1.621265</td>\n",
       "      <td>1.560647</td>\n",
       "      <td>2.006475</td>\n",
       "      <td>1.156017</td>\n",
       "      <td>False</td>\n",
       "    </tr>\n",
       "    <tr>\n",
       "      <th>29</th>\n",
       "      <td>[261000:269999]</td>\n",
       "      <td>29</td>\n",
       "      <td>261000</td>\n",
       "      <td>269999</td>\n",
       "      <td>None</td>\n",
       "      <td>None</td>\n",
       "      <td>reference</td>\n",
       "      <td>0.010103</td>\n",
       "      <td>1.601629</td>\n",
       "      <td>1.631938</td>\n",
       "      <td>1.571320</td>\n",
       "      <td>2.006475</td>\n",
       "      <td>1.156017</td>\n",
       "      <td>False</td>\n",
       "    </tr>\n",
       "    <tr>\n",
       "      <th>30</th>\n",
       "      <td>[270000:278999]</td>\n",
       "      <td>30</td>\n",
       "      <td>270000</td>\n",
       "      <td>278999</td>\n",
       "      <td>None</td>\n",
       "      <td>None</td>\n",
       "      <td>reference</td>\n",
       "      <td>0.010103</td>\n",
       "      <td>1.598809</td>\n",
       "      <td>1.629118</td>\n",
       "      <td>1.568500</td>\n",
       "      <td>2.006475</td>\n",
       "      <td>1.156017</td>\n",
       "      <td>False</td>\n",
       "    </tr>\n",
       "    <tr>\n",
       "      <th>31</th>\n",
       "      <td>[279000:287999]</td>\n",
       "      <td>31</td>\n",
       "      <td>279000</td>\n",
       "      <td>287999</td>\n",
       "      <td>None</td>\n",
       "      <td>None</td>\n",
       "      <td>reference</td>\n",
       "      <td>0.010103</td>\n",
       "      <td>1.577732</td>\n",
       "      <td>1.608041</td>\n",
       "      <td>1.547423</td>\n",
       "      <td>2.006475</td>\n",
       "      <td>1.156017</td>\n",
       "      <td>False</td>\n",
       "    </tr>\n",
       "    <tr>\n",
       "      <th>32</th>\n",
       "      <td>[288000:296999]</td>\n",
       "      <td>32</td>\n",
       "      <td>288000</td>\n",
       "      <td>296999</td>\n",
       "      <td>None</td>\n",
       "      <td>None</td>\n",
       "      <td>reference</td>\n",
       "      <td>0.010103</td>\n",
       "      <td>1.589815</td>\n",
       "      <td>1.620124</td>\n",
       "      <td>1.559506</td>\n",
       "      <td>2.006475</td>\n",
       "      <td>1.156017</td>\n",
       "      <td>False</td>\n",
       "    </tr>\n",
       "    <tr>\n",
       "      <th>33</th>\n",
       "      <td>[297000:305999]</td>\n",
       "      <td>33</td>\n",
       "      <td>297000</td>\n",
       "      <td>305999</td>\n",
       "      <td>None</td>\n",
       "      <td>None</td>\n",
       "      <td>reference</td>\n",
       "      <td>0.010103</td>\n",
       "      <td>1.581942</td>\n",
       "      <td>1.612251</td>\n",
       "      <td>1.551633</td>\n",
       "      <td>2.006475</td>\n",
       "      <td>1.156017</td>\n",
       "      <td>False</td>\n",
       "    </tr>\n",
       "    <tr>\n",
       "      <th>34</th>\n",
       "      <td>[306000:314999]</td>\n",
       "      <td>34</td>\n",
       "      <td>306000</td>\n",
       "      <td>314999</td>\n",
       "      <td>None</td>\n",
       "      <td>None</td>\n",
       "      <td>reference</td>\n",
       "      <td>0.010103</td>\n",
       "      <td>1.574360</td>\n",
       "      <td>1.604669</td>\n",
       "      <td>1.544051</td>\n",
       "      <td>2.006475</td>\n",
       "      <td>1.156017</td>\n",
       "      <td>False</td>\n",
       "    </tr>\n",
       "    <tr>\n",
       "      <th>35</th>\n",
       "      <td>[315000:323999]</td>\n",
       "      <td>35</td>\n",
       "      <td>315000</td>\n",
       "      <td>323999</td>\n",
       "      <td>None</td>\n",
       "      <td>None</td>\n",
       "      <td>reference</td>\n",
       "      <td>0.010103</td>\n",
       "      <td>1.587194</td>\n",
       "      <td>1.617503</td>\n",
       "      <td>1.556885</td>\n",
       "      <td>2.006475</td>\n",
       "      <td>1.156017</td>\n",
       "      <td>False</td>\n",
       "    </tr>\n",
       "    <tr>\n",
       "      <th>36</th>\n",
       "      <td>[324000:332999]</td>\n",
       "      <td>36</td>\n",
       "      <td>324000</td>\n",
       "      <td>332999</td>\n",
       "      <td>None</td>\n",
       "      <td>None</td>\n",
       "      <td>reference</td>\n",
       "      <td>0.010103</td>\n",
       "      <td>1.593580</td>\n",
       "      <td>1.623889</td>\n",
       "      <td>1.563271</td>\n",
       "      <td>2.006475</td>\n",
       "      <td>1.156017</td>\n",
       "      <td>False</td>\n",
       "    </tr>\n",
       "    <tr>\n",
       "      <th>37</th>\n",
       "      <td>[333000:341999]</td>\n",
       "      <td>37</td>\n",
       "      <td>333000</td>\n",
       "      <td>341999</td>\n",
       "      <td>None</td>\n",
       "      <td>None</td>\n",
       "      <td>reference</td>\n",
       "      <td>0.010103</td>\n",
       "      <td>1.607129</td>\n",
       "      <td>1.637438</td>\n",
       "      <td>1.576820</td>\n",
       "      <td>2.006475</td>\n",
       "      <td>1.156017</td>\n",
       "      <td>False</td>\n",
       "    </tr>\n",
       "    <tr>\n",
       "      <th>38</th>\n",
       "      <td>[342000:350999]</td>\n",
       "      <td>38</td>\n",
       "      <td>342000</td>\n",
       "      <td>350999</td>\n",
       "      <td>None</td>\n",
       "      <td>None</td>\n",
       "      <td>reference</td>\n",
       "      <td>0.010103</td>\n",
       "      <td>1.592765</td>\n",
       "      <td>1.623074</td>\n",
       "      <td>1.562455</td>\n",
       "      <td>2.006475</td>\n",
       "      <td>1.156017</td>\n",
       "      <td>False</td>\n",
       "    </tr>\n",
       "    <tr>\n",
       "      <th>39</th>\n",
       "      <td>[351000:359999]</td>\n",
       "      <td>39</td>\n",
       "      <td>351000</td>\n",
       "      <td>359999</td>\n",
       "      <td>None</td>\n",
       "      <td>None</td>\n",
       "      <td>reference</td>\n",
       "      <td>0.010103</td>\n",
       "      <td>1.671198</td>\n",
       "      <td>1.701507</td>\n",
       "      <td>1.640889</td>\n",
       "      <td>2.006475</td>\n",
       "      <td>1.156017</td>\n",
       "      <td>False</td>\n",
       "    </tr>\n",
       "    <tr>\n",
       "      <th>40</th>\n",
       "      <td>[360000:368999]</td>\n",
       "      <td>40</td>\n",
       "      <td>360000</td>\n",
       "      <td>368999</td>\n",
       "      <td>None</td>\n",
       "      <td>None</td>\n",
       "      <td>reference</td>\n",
       "      <td>0.010103</td>\n",
       "      <td>1.771286</td>\n",
       "      <td>1.801595</td>\n",
       "      <td>1.740977</td>\n",
       "      <td>2.006475</td>\n",
       "      <td>1.156017</td>\n",
       "      <td>False</td>\n",
       "    </tr>\n",
       "    <tr>\n",
       "      <th>41</th>\n",
       "      <td>[369000:377999]</td>\n",
       "      <td>41</td>\n",
       "      <td>369000</td>\n",
       "      <td>377999</td>\n",
       "      <td>None</td>\n",
       "      <td>None</td>\n",
       "      <td>reference</td>\n",
       "      <td>0.010103</td>\n",
       "      <td>1.770753</td>\n",
       "      <td>1.801062</td>\n",
       "      <td>1.740444</td>\n",
       "      <td>2.006475</td>\n",
       "      <td>1.156017</td>\n",
       "      <td>False</td>\n",
       "    </tr>\n",
       "    <tr>\n",
       "      <th>42</th>\n",
       "      <td>[378000:386999]</td>\n",
       "      <td>42</td>\n",
       "      <td>378000</td>\n",
       "      <td>386999</td>\n",
       "      <td>None</td>\n",
       "      <td>None</td>\n",
       "      <td>reference</td>\n",
       "      <td>0.010103</td>\n",
       "      <td>1.755926</td>\n",
       "      <td>1.786235</td>\n",
       "      <td>1.725617</td>\n",
       "      <td>2.006475</td>\n",
       "      <td>1.156017</td>\n",
       "      <td>False</td>\n",
       "    </tr>\n",
       "    <tr>\n",
       "      <th>43</th>\n",
       "      <td>[387000:395999]</td>\n",
       "      <td>43</td>\n",
       "      <td>387000</td>\n",
       "      <td>395999</td>\n",
       "      <td>None</td>\n",
       "      <td>None</td>\n",
       "      <td>reference</td>\n",
       "      <td>0.010103</td>\n",
       "      <td>1.760981</td>\n",
       "      <td>1.791290</td>\n",
       "      <td>1.730672</td>\n",
       "      <td>2.006475</td>\n",
       "      <td>1.156017</td>\n",
       "      <td>False</td>\n",
       "    </tr>\n",
       "    <tr>\n",
       "      <th>44</th>\n",
       "      <td>[396000:404999]</td>\n",
       "      <td>44</td>\n",
       "      <td>396000</td>\n",
       "      <td>404999</td>\n",
       "      <td>None</td>\n",
       "      <td>None</td>\n",
       "      <td>reference</td>\n",
       "      <td>0.010103</td>\n",
       "      <td>1.781327</td>\n",
       "      <td>1.811636</td>\n",
       "      <td>1.751017</td>\n",
       "      <td>2.006475</td>\n",
       "      <td>1.156017</td>\n",
       "      <td>False</td>\n",
       "    </tr>\n",
       "    <tr>\n",
       "      <th>45</th>\n",
       "      <td>[405000:413999]</td>\n",
       "      <td>45</td>\n",
       "      <td>405000</td>\n",
       "      <td>413999</td>\n",
       "      <td>None</td>\n",
       "      <td>None</td>\n",
       "      <td>reference</td>\n",
       "      <td>0.010103</td>\n",
       "      <td>1.765468</td>\n",
       "      <td>1.795777</td>\n",
       "      <td>1.735159</td>\n",
       "      <td>2.006475</td>\n",
       "      <td>1.156017</td>\n",
       "      <td>False</td>\n",
       "    </tr>\n",
       "    <tr>\n",
       "      <th>46</th>\n",
       "      <td>[414000:422999]</td>\n",
       "      <td>46</td>\n",
       "      <td>414000</td>\n",
       "      <td>422999</td>\n",
       "      <td>None</td>\n",
       "      <td>None</td>\n",
       "      <td>reference</td>\n",
       "      <td>0.010103</td>\n",
       "      <td>1.762773</td>\n",
       "      <td>1.793082</td>\n",
       "      <td>1.732464</td>\n",
       "      <td>2.006475</td>\n",
       "      <td>1.156017</td>\n",
       "      <td>False</td>\n",
       "    </tr>\n",
       "    <tr>\n",
       "      <th>47</th>\n",
       "      <td>[423000:431999]</td>\n",
       "      <td>47</td>\n",
       "      <td>423000</td>\n",
       "      <td>431999</td>\n",
       "      <td>None</td>\n",
       "      <td>None</td>\n",
       "      <td>reference</td>\n",
       "      <td>0.010103</td>\n",
       "      <td>1.768955</td>\n",
       "      <td>1.799264</td>\n",
       "      <td>1.738646</td>\n",
       "      <td>2.006475</td>\n",
       "      <td>1.156017</td>\n",
       "      <td>False</td>\n",
       "    </tr>\n",
       "    <tr>\n",
       "      <th>48</th>\n",
       "      <td>[432000:440999]</td>\n",
       "      <td>48</td>\n",
       "      <td>432000</td>\n",
       "      <td>440999</td>\n",
       "      <td>None</td>\n",
       "      <td>None</td>\n",
       "      <td>reference</td>\n",
       "      <td>0.010103</td>\n",
       "      <td>1.768820</td>\n",
       "      <td>1.799129</td>\n",
       "      <td>1.738511</td>\n",
       "      <td>2.006475</td>\n",
       "      <td>1.156017</td>\n",
       "      <td>False</td>\n",
       "    </tr>\n",
       "    <tr>\n",
       "      <th>49</th>\n",
       "      <td>[441000:449999]</td>\n",
       "      <td>49</td>\n",
       "      <td>441000</td>\n",
       "      <td>449999</td>\n",
       "      <td>None</td>\n",
       "      <td>None</td>\n",
       "      <td>reference</td>\n",
       "      <td>0.010103</td>\n",
       "      <td>1.762641</td>\n",
       "      <td>1.792950</td>\n",
       "      <td>1.732332</td>\n",
       "      <td>2.006475</td>\n",
       "      <td>1.156017</td>\n",
       "      <td>False</td>\n",
       "    </tr>\n",
       "    <tr>\n",
       "      <th>50</th>\n",
       "      <td>[450000:458999]</td>\n",
       "      <td>50</td>\n",
       "      <td>450000</td>\n",
       "      <td>458999</td>\n",
       "      <td>None</td>\n",
       "      <td>None</td>\n",
       "      <td>reference</td>\n",
       "      <td>0.010103</td>\n",
       "      <td>1.770853</td>\n",
       "      <td>1.801162</td>\n",
       "      <td>1.740544</td>\n",
       "      <td>2.006475</td>\n",
       "      <td>1.156017</td>\n",
       "      <td>False</td>\n",
       "    </tr>\n",
       "    <tr>\n",
       "      <th>51</th>\n",
       "      <td>[459000:467999]</td>\n",
       "      <td>51</td>\n",
       "      <td>459000</td>\n",
       "      <td>467999</td>\n",
       "      <td>None</td>\n",
       "      <td>None</td>\n",
       "      <td>reference</td>\n",
       "      <td>0.010103</td>\n",
       "      <td>1.789950</td>\n",
       "      <td>1.820259</td>\n",
       "      <td>1.759641</td>\n",
       "      <td>2.006475</td>\n",
       "      <td>1.156017</td>\n",
       "      <td>False</td>\n",
       "    </tr>\n",
       "    <tr>\n",
       "      <th>52</th>\n",
       "      <td>[468000:476999]</td>\n",
       "      <td>52</td>\n",
       "      <td>468000</td>\n",
       "      <td>476999</td>\n",
       "      <td>None</td>\n",
       "      <td>None</td>\n",
       "      <td>reference</td>\n",
       "      <td>0.010103</td>\n",
       "      <td>1.779000</td>\n",
       "      <td>1.809309</td>\n",
       "      <td>1.748690</td>\n",
       "      <td>2.006475</td>\n",
       "      <td>1.156017</td>\n",
       "      <td>False</td>\n",
       "    </tr>\n",
       "    <tr>\n",
       "      <th>53</th>\n",
       "      <td>[477000:485999]</td>\n",
       "      <td>53</td>\n",
       "      <td>477000</td>\n",
       "      <td>485999</td>\n",
       "      <td>None</td>\n",
       "      <td>None</td>\n",
       "      <td>reference</td>\n",
       "      <td>0.010103</td>\n",
       "      <td>1.755647</td>\n",
       "      <td>1.785956</td>\n",
       "      <td>1.725338</td>\n",
       "      <td>2.006475</td>\n",
       "      <td>1.156017</td>\n",
       "      <td>False</td>\n",
       "    </tr>\n",
       "    <tr>\n",
       "      <th>54</th>\n",
       "      <td>[486000:494999]</td>\n",
       "      <td>54</td>\n",
       "      <td>486000</td>\n",
       "      <td>494999</td>\n",
       "      <td>None</td>\n",
       "      <td>None</td>\n",
       "      <td>reference</td>\n",
       "      <td>0.010103</td>\n",
       "      <td>1.789757</td>\n",
       "      <td>1.820066</td>\n",
       "      <td>1.759448</td>\n",
       "      <td>2.006475</td>\n",
       "      <td>1.156017</td>\n",
       "      <td>False</td>\n",
       "    </tr>\n",
       "    <tr>\n",
       "      <th>55</th>\n",
       "      <td>[495000:503999]</td>\n",
       "      <td>55</td>\n",
       "      <td>495000</td>\n",
       "      <td>503999</td>\n",
       "      <td>None</td>\n",
       "      <td>None</td>\n",
       "      <td>reference</td>\n",
       "      <td>0.010103</td>\n",
       "      <td>1.788685</td>\n",
       "      <td>1.818994</td>\n",
       "      <td>1.758376</td>\n",
       "      <td>2.006475</td>\n",
       "      <td>1.156017</td>\n",
       "      <td>False</td>\n",
       "    </tr>\n",
       "    <tr>\n",
       "      <th>56</th>\n",
       "      <td>[504000:512999]</td>\n",
       "      <td>56</td>\n",
       "      <td>504000</td>\n",
       "      <td>512999</td>\n",
       "      <td>None</td>\n",
       "      <td>None</td>\n",
       "      <td>reference</td>\n",
       "      <td>0.010103</td>\n",
       "      <td>1.769814</td>\n",
       "      <td>1.800123</td>\n",
       "      <td>1.739505</td>\n",
       "      <td>2.006475</td>\n",
       "      <td>1.156017</td>\n",
       "      <td>False</td>\n",
       "    </tr>\n",
       "    <tr>\n",
       "      <th>57</th>\n",
       "      <td>[513000:530705]</td>\n",
       "      <td>57</td>\n",
       "      <td>513000</td>\n",
       "      <td>530705</td>\n",
       "      <td>None</td>\n",
       "      <td>None</td>\n",
       "      <td>reference</td>\n",
       "      <td>0.007203</td>\n",
       "      <td>1.769494</td>\n",
       "      <td>1.791103</td>\n",
       "      <td>1.747885</td>\n",
       "      <td>2.006475</td>\n",
       "      <td>1.156017</td>\n",
       "      <td>False</td>\n",
       "    </tr>\n",
       "  </tbody>\n",
       "</table>\n",
       "</div>"
      ],
      "text/plain": [
       "              chunk                                                        \\\n",
       "                key chunk_index start_index end_index start_date end_date   \n",
       "0          [0:8999]           0           0      8999       None     None   \n",
       "1      [9000:17999]           1        9000     17999       None     None   \n",
       "2     [18000:26999]           2       18000     26999       None     None   \n",
       "3     [27000:35999]           3       27000     35999       None     None   \n",
       "4     [36000:44999]           4       36000     44999       None     None   \n",
       "5     [45000:53999]           5       45000     53999       None     None   \n",
       "6     [54000:62999]           6       54000     62999       None     None   \n",
       "7     [63000:71999]           7       63000     71999       None     None   \n",
       "8     [72000:80999]           8       72000     80999       None     None   \n",
       "9     [81000:89999]           9       81000     89999       None     None   \n",
       "10    [90000:98999]          10       90000     98999       None     None   \n",
       "11   [99000:107999]          11       99000    107999       None     None   \n",
       "12  [108000:116999]          12      108000    116999       None     None   \n",
       "13  [117000:125999]          13      117000    125999       None     None   \n",
       "14  [126000:134999]          14      126000    134999       None     None   \n",
       "15  [135000:143999]          15      135000    143999       None     None   \n",
       "16  [144000:152999]          16      144000    152999       None     None   \n",
       "17  [153000:161999]          17      153000    161999       None     None   \n",
       "18  [162000:170999]          18      162000    170999       None     None   \n",
       "19  [171000:179999]          19      171000    179999       None     None   \n",
       "20  [180000:188999]          20      180000    188999       None     None   \n",
       "21  [189000:197999]          21      189000    197999       None     None   \n",
       "22  [198000:206999]          22      198000    206999       None     None   \n",
       "23  [207000:215999]          23      207000    215999       None     None   \n",
       "24  [216000:224999]          24      216000    224999       None     None   \n",
       "25  [225000:233999]          25      225000    233999       None     None   \n",
       "26  [234000:242999]          26      234000    242999       None     None   \n",
       "27  [243000:251999]          27      243000    251999       None     None   \n",
       "28  [252000:260999]          28      252000    260999       None     None   \n",
       "29  [261000:269999]          29      261000    269999       None     None   \n",
       "30  [270000:278999]          30      270000    278999       None     None   \n",
       "31  [279000:287999]          31      279000    287999       None     None   \n",
       "32  [288000:296999]          32      288000    296999       None     None   \n",
       "33  [297000:305999]          33      297000    305999       None     None   \n",
       "34  [306000:314999]          34      306000    314999       None     None   \n",
       "35  [315000:323999]          35      315000    323999       None     None   \n",
       "36  [324000:332999]          36      324000    332999       None     None   \n",
       "37  [333000:341999]          37      333000    341999       None     None   \n",
       "38  [342000:350999]          38      342000    350999       None     None   \n",
       "39  [351000:359999]          39      351000    359999       None     None   \n",
       "40  [360000:368999]          40      360000    368999       None     None   \n",
       "41  [369000:377999]          41      369000    377999       None     None   \n",
       "42  [378000:386999]          42      378000    386999       None     None   \n",
       "43  [387000:395999]          43      387000    395999       None     None   \n",
       "44  [396000:404999]          44      396000    404999       None     None   \n",
       "45  [405000:413999]          45      405000    413999       None     None   \n",
       "46  [414000:422999]          46      414000    422999       None     None   \n",
       "47  [423000:431999]          47      423000    431999       None     None   \n",
       "48  [432000:440999]          48      432000    440999       None     None   \n",
       "49  [441000:449999]          49      441000    449999       None     None   \n",
       "50  [450000:458999]          50      450000    458999       None     None   \n",
       "51  [459000:467999]          51      459000    467999       None     None   \n",
       "52  [468000:476999]          52      468000    476999       None     None   \n",
       "53  [477000:485999]          53      477000    485999       None     None   \n",
       "54  [486000:494999]          54      486000    494999       None     None   \n",
       "55  [495000:503999]          55      495000    503999       None     None   \n",
       "56  [504000:512999]          56      504000    512999       None     None   \n",
       "57  [513000:530705]          57      513000    530705       None     None   \n",
       "\n",
       "              reconstruction_error                                      \\\n",
       "       period       sampling_error     value upper_confidence_boundary   \n",
       "0   reference             0.010103  1.443423                  1.473732   \n",
       "1   reference             0.010103  1.438336                  1.468645   \n",
       "2   reference             0.010103  1.450356                  1.480665   \n",
       "3   reference             0.010103  1.429797                  1.460106   \n",
       "4   reference             0.010103  1.445507                  1.475816   \n",
       "5   reference             0.010103  1.431852                  1.462161   \n",
       "6   reference             0.010103  1.438132                  1.468441   \n",
       "7   reference             0.010103  1.428843                  1.459152   \n",
       "8   reference             0.010103  1.450789                  1.481098   \n",
       "9   reference             0.010103  1.437968                  1.468277   \n",
       "10  reference             0.010103  1.449564                  1.479873   \n",
       "11  reference             0.010103  1.444619                  1.474928   \n",
       "12  reference             0.010103  1.421514                  1.451824   \n",
       "13  reference             0.010103  1.448684                  1.478993   \n",
       "14  reference             0.010103  1.438634                  1.468943   \n",
       "15  reference             0.010103  1.448155                  1.478464   \n",
       "16  reference             0.010103  1.433409                  1.463718   \n",
       "17  reference             0.010103  1.457168                  1.487477   \n",
       "18  reference             0.010103  1.436102                  1.466411   \n",
       "19  reference             0.010103  1.441579                  1.471888   \n",
       "20  reference             0.010103  1.452230                  1.482539   \n",
       "21  reference             0.010103  1.435598                  1.465907   \n",
       "22  reference             0.010103  1.458239                  1.488548   \n",
       "23  reference             0.010103  1.441344                  1.471653   \n",
       "24  reference             0.010103  1.453163                  1.483472   \n",
       "25  reference             0.010103  1.448180                  1.478489   \n",
       "26  reference             0.010103  1.564260                  1.594569   \n",
       "27  reference             0.010103  1.595557                  1.625866   \n",
       "28  reference             0.010103  1.590956                  1.621265   \n",
       "29  reference             0.010103  1.601629                  1.631938   \n",
       "30  reference             0.010103  1.598809                  1.629118   \n",
       "31  reference             0.010103  1.577732                  1.608041   \n",
       "32  reference             0.010103  1.589815                  1.620124   \n",
       "33  reference             0.010103  1.581942                  1.612251   \n",
       "34  reference             0.010103  1.574360                  1.604669   \n",
       "35  reference             0.010103  1.587194                  1.617503   \n",
       "36  reference             0.010103  1.593580                  1.623889   \n",
       "37  reference             0.010103  1.607129                  1.637438   \n",
       "38  reference             0.010103  1.592765                  1.623074   \n",
       "39  reference             0.010103  1.671198                  1.701507   \n",
       "40  reference             0.010103  1.771286                  1.801595   \n",
       "41  reference             0.010103  1.770753                  1.801062   \n",
       "42  reference             0.010103  1.755926                  1.786235   \n",
       "43  reference             0.010103  1.760981                  1.791290   \n",
       "44  reference             0.010103  1.781327                  1.811636   \n",
       "45  reference             0.010103  1.765468                  1.795777   \n",
       "46  reference             0.010103  1.762773                  1.793082   \n",
       "47  reference             0.010103  1.768955                  1.799264   \n",
       "48  reference             0.010103  1.768820                  1.799129   \n",
       "49  reference             0.010103  1.762641                  1.792950   \n",
       "50  reference             0.010103  1.770853                  1.801162   \n",
       "51  reference             0.010103  1.789950                  1.820259   \n",
       "52  reference             0.010103  1.779000                  1.809309   \n",
       "53  reference             0.010103  1.755647                  1.785956   \n",
       "54  reference             0.010103  1.789757                  1.820066   \n",
       "55  reference             0.010103  1.788685                  1.818994   \n",
       "56  reference             0.010103  1.769814                  1.800123   \n",
       "57  reference             0.007203  1.769494                  1.791103   \n",
       "\n",
       "                                                                     \n",
       "   lower_confidence_boundary upper_threshold lower_threshold  alert  \n",
       "0                   1.413114        2.006475        1.156017  False  \n",
       "1                   1.408027        2.006475        1.156017  False  \n",
       "2                   1.420047        2.006475        1.156017  False  \n",
       "3                   1.399488        2.006475        1.156017  False  \n",
       "4                   1.415198        2.006475        1.156017  False  \n",
       "5                   1.401543        2.006475        1.156017  False  \n",
       "6                   1.407823        2.006475        1.156017  False  \n",
       "7                   1.398534        2.006475        1.156017  False  \n",
       "8                   1.420480        2.006475        1.156017  False  \n",
       "9                   1.407659        2.006475        1.156017  False  \n",
       "10                  1.419255        2.006475        1.156017  False  \n",
       "11                  1.414310        2.006475        1.156017  False  \n",
       "12                  1.391205        2.006475        1.156017  False  \n",
       "13                  1.418375        2.006475        1.156017  False  \n",
       "14                  1.408325        2.006475        1.156017  False  \n",
       "15                  1.417846        2.006475        1.156017  False  \n",
       "16                  1.403100        2.006475        1.156017  False  \n",
       "17                  1.426859        2.006475        1.156017  False  \n",
       "18                  1.405793        2.006475        1.156017  False  \n",
       "19                  1.411270        2.006475        1.156017  False  \n",
       "20                  1.421921        2.006475        1.156017  False  \n",
       "21                  1.405289        2.006475        1.156017  False  \n",
       "22                  1.427930        2.006475        1.156017  False  \n",
       "23                  1.411035        2.006475        1.156017  False  \n",
       "24                  1.422854        2.006475        1.156017  False  \n",
       "25                  1.417871        2.006475        1.156017  False  \n",
       "26                  1.533951        2.006475        1.156017  False  \n",
       "27                  1.565248        2.006475        1.156017  False  \n",
       "28                  1.560647        2.006475        1.156017  False  \n",
       "29                  1.571320        2.006475        1.156017  False  \n",
       "30                  1.568500        2.006475        1.156017  False  \n",
       "31                  1.547423        2.006475        1.156017  False  \n",
       "32                  1.559506        2.006475        1.156017  False  \n",
       "33                  1.551633        2.006475        1.156017  False  \n",
       "34                  1.544051        2.006475        1.156017  False  \n",
       "35                  1.556885        2.006475        1.156017  False  \n",
       "36                  1.563271        2.006475        1.156017  False  \n",
       "37                  1.576820        2.006475        1.156017  False  \n",
       "38                  1.562455        2.006475        1.156017  False  \n",
       "39                  1.640889        2.006475        1.156017  False  \n",
       "40                  1.740977        2.006475        1.156017  False  \n",
       "41                  1.740444        2.006475        1.156017  False  \n",
       "42                  1.725617        2.006475        1.156017  False  \n",
       "43                  1.730672        2.006475        1.156017  False  \n",
       "44                  1.751017        2.006475        1.156017  False  \n",
       "45                  1.735159        2.006475        1.156017  False  \n",
       "46                  1.732464        2.006475        1.156017  False  \n",
       "47                  1.738646        2.006475        1.156017  False  \n",
       "48                  1.738511        2.006475        1.156017  False  \n",
       "49                  1.732332        2.006475        1.156017  False  \n",
       "50                  1.740544        2.006475        1.156017  False  \n",
       "51                  1.759641        2.006475        1.156017  False  \n",
       "52                  1.748690        2.006475        1.156017  False  \n",
       "53                  1.725338        2.006475        1.156017  False  \n",
       "54                  1.759448        2.006475        1.156017  False  \n",
       "55                  1.758376        2.006475        1.156017  False  \n",
       "56                  1.739505        2.006475        1.156017  False  \n",
       "57                  1.747885        2.006475        1.156017  False  "
      ]
     },
     "metadata": {},
     "output_type": "display_data"
    },
    {
     "data": {
      "text/html": [
       "<div>\n",
       "<style scoped>\n",
       "    .dataframe tbody tr th:only-of-type {\n",
       "        vertical-align: middle;\n",
       "    }\n",
       "\n",
       "    .dataframe tbody tr th {\n",
       "        vertical-align: top;\n",
       "    }\n",
       "\n",
       "    .dataframe thead tr th {\n",
       "        text-align: left;\n",
       "    }\n",
       "</style>\n",
       "<table border=\"1\" class=\"dataframe\">\n",
       "  <thead>\n",
       "    <tr>\n",
       "      <th></th>\n",
       "      <th colspan=\"7\" halign=\"left\">chunk</th>\n",
       "      <th colspan=\"7\" halign=\"left\">reconstruction_error</th>\n",
       "    </tr>\n",
       "    <tr>\n",
       "      <th></th>\n",
       "      <th>key</th>\n",
       "      <th>chunk_index</th>\n",
       "      <th>start_index</th>\n",
       "      <th>end_index</th>\n",
       "      <th>start_date</th>\n",
       "      <th>end_date</th>\n",
       "      <th>period</th>\n",
       "      <th>sampling_error</th>\n",
       "      <th>value</th>\n",
       "      <th>upper_confidence_boundary</th>\n",
       "      <th>lower_confidence_boundary</th>\n",
       "      <th>upper_threshold</th>\n",
       "      <th>lower_threshold</th>\n",
       "      <th>alert</th>\n",
       "    </tr>\n",
       "  </thead>\n",
       "  <tbody>\n",
       "    <tr>\n",
       "      <th>0</th>\n",
       "      <td>[0:8999]</td>\n",
       "      <td>0</td>\n",
       "      <td>0</td>\n",
       "      <td>8999</td>\n",
       "      <td>None</td>\n",
       "      <td>None</td>\n",
       "      <td>analysis</td>\n",
       "      <td>0.010103</td>\n",
       "      <td>1.477801</td>\n",
       "      <td>1.508111</td>\n",
       "      <td>1.447492</td>\n",
       "      <td>2.006475</td>\n",
       "      <td>1.156017</td>\n",
       "      <td>False</td>\n",
       "    </tr>\n",
       "    <tr>\n",
       "      <th>1</th>\n",
       "      <td>[9000:17999]</td>\n",
       "      <td>1</td>\n",
       "      <td>9000</td>\n",
       "      <td>17999</td>\n",
       "      <td>None</td>\n",
       "      <td>None</td>\n",
       "      <td>analysis</td>\n",
       "      <td>0.010103</td>\n",
       "      <td>1.729454</td>\n",
       "      <td>1.759763</td>\n",
       "      <td>1.699145</td>\n",
       "      <td>2.006475</td>\n",
       "      <td>1.156017</td>\n",
       "      <td>False</td>\n",
       "    </tr>\n",
       "    <tr>\n",
       "      <th>2</th>\n",
       "      <td>[18000:26999]</td>\n",
       "      <td>2</td>\n",
       "      <td>18000</td>\n",
       "      <td>26999</td>\n",
       "      <td>None</td>\n",
       "      <td>None</td>\n",
       "      <td>analysis</td>\n",
       "      <td>0.010103</td>\n",
       "      <td>2.215771</td>\n",
       "      <td>2.246080</td>\n",
       "      <td>2.185462</td>\n",
       "      <td>2.006475</td>\n",
       "      <td>1.156017</td>\n",
       "      <td>True</td>\n",
       "    </tr>\n",
       "    <tr>\n",
       "      <th>3</th>\n",
       "      <td>[27000:35999]</td>\n",
       "      <td>3</td>\n",
       "      <td>27000</td>\n",
       "      <td>35999</td>\n",
       "      <td>None</td>\n",
       "      <td>None</td>\n",
       "      <td>analysis</td>\n",
       "      <td>0.010103</td>\n",
       "      <td>2.220055</td>\n",
       "      <td>2.250364</td>\n",
       "      <td>2.189746</td>\n",
       "      <td>2.006475</td>\n",
       "      <td>1.156017</td>\n",
       "      <td>True</td>\n",
       "    </tr>\n",
       "    <tr>\n",
       "      <th>4</th>\n",
       "      <td>[36000:49175]</td>\n",
       "      <td>4</td>\n",
       "      <td>36000</td>\n",
       "      <td>49175</td>\n",
       "      <td>None</td>\n",
       "      <td>None</td>\n",
       "      <td>analysis</td>\n",
       "      <td>0.008350</td>\n",
       "      <td>8.619862</td>\n",
       "      <td>8.644912</td>\n",
       "      <td>8.594813</td>\n",
       "      <td>2.006475</td>\n",
       "      <td>1.156017</td>\n",
       "      <td>True</td>\n",
       "    </tr>\n",
       "  </tbody>\n",
       "</table>\n",
       "</div>"
      ],
      "text/plain": [
       "           chunk                                                        \\\n",
       "             key chunk_index start_index end_index start_date end_date   \n",
       "0       [0:8999]           0           0      8999       None     None   \n",
       "1   [9000:17999]           1        9000     17999       None     None   \n",
       "2  [18000:26999]           2       18000     26999       None     None   \n",
       "3  [27000:35999]           3       27000     35999       None     None   \n",
       "4  [36000:49175]           4       36000     49175       None     None   \n",
       "\n",
       "            reconstruction_error                                      \\\n",
       "     period       sampling_error     value upper_confidence_boundary   \n",
       "0  analysis             0.010103  1.477801                  1.508111   \n",
       "1  analysis             0.010103  1.729454                  1.759763   \n",
       "2  analysis             0.010103  2.215771                  2.246080   \n",
       "3  analysis             0.010103  2.220055                  2.250364   \n",
       "4  analysis             0.008350  8.619862                  8.644912   \n",
       "\n",
       "                                                                    \n",
       "  lower_confidence_boundary upper_threshold lower_threshold  alert  \n",
       "0                  1.447492        2.006475        1.156017  False  \n",
       "1                  1.699145        2.006475        1.156017  False  \n",
       "2                  2.185462        2.006475        1.156017   True  \n",
       "3                  2.189746        2.006475        1.156017   True  \n",
       "4                  8.594813        2.006475        1.156017   True  "
      ]
     },
     "metadata": {},
     "output_type": "display_data"
    },
    {
     "data": {
      "application/vnd.plotly.v1+json": {
       "config": {
        "plotlyServerURL": "https://plot.ly"
       },
       "data": [
        {
         "hoverinfo": "skip",
         "legendgroup": "metric_reference",
         "line": {
          "color": "#00c8e5",
          "shape": "hv",
          "width": 2
         },
         "mode": "lines",
         "name": "Metric",
         "showlegend": true,
         "type": "scatter",
         "x": [
          0,
          1,
          2,
          3,
          4,
          5,
          6,
          7,
          8,
          9,
          10,
          11,
          12,
          13,
          14,
          15,
          16,
          17,
          18,
          19,
          20,
          21,
          22,
          23,
          24,
          25,
          26,
          27,
          28,
          29,
          30,
          31,
          32,
          33,
          34,
          35,
          36,
          37,
          38,
          39,
          40,
          41,
          42,
          43,
          44,
          45,
          46,
          47,
          48,
          49,
          50,
          51,
          52,
          53,
          54,
          55,
          56,
          57,
          58
         ],
         "y": [
          1.4434228565115608,
          1.438335561293923,
          1.4503560981521295,
          1.4297971055121868,
          1.4455067152801884,
          1.4318518358574581,
          1.4381323964775907,
          1.4288430531076117,
          1.4507885591038112,
          1.4379681597705825,
          1.4495636734344544,
          1.4446191995489017,
          1.4215144788173932,
          1.4486837998382465,
          1.438634273530187,
          1.448154714347129,
          1.4334086359249478,
          1.4571683620601477,
          1.4361024382459169,
          1.4415788190819374,
          1.4522296603575346,
          1.4355982394438283,
          1.4582391141201057,
          1.4413438454344851,
          1.4531629684252507,
          1.4481801494609592,
          1.5642601077985139,
          1.595556551640425,
          1.5909559355318468,
          1.6016288949306474,
          1.5988093211509642,
          1.5777320658943847,
          1.589815430493013,
          1.5819421970415222,
          1.5743598093808187,
          1.5871936549478725,
          1.59358039227262,
          1.6071294223102182,
          1.5927645117439968,
          1.6711983368101326,
          1.771286316832111,
          1.7707534507841716,
          1.7559257405514899,
          1.760981423801051,
          1.7813265133858551,
          1.765468045809869,
          1.7627731906543802,
          1.7689552583545212,
          1.7688199528294184,
          1.7626412959005338,
          1.7708525680684766,
          1.789950334722738,
          1.778999525551575,
          1.7556473282347929,
          1.7897571021935228,
          1.7886854075694096,
          1.769814379457775,
          1.7694936083837653,
          1.7694936083837653
         ]
        },
        {
         "customdata": [
          [
           "Data reconstruction drift",
           "<b style=\"color:#00c8e5;line-height:60px\">Reference</b>",
           "",
           "[0:8999]",
           "Chunk index: <b>0</b>",
           1.4434,
           0.0303
          ],
          [
           "Data reconstruction drift",
           "<b style=\"color:#00c8e5;line-height:60px\">Reference</b>",
           "",
           "[9000:17999]",
           "Chunk index: <b>1</b>",
           1.4383,
           0.0303
          ],
          [
           "Data reconstruction drift",
           "<b style=\"color:#00c8e5;line-height:60px\">Reference</b>",
           "",
           "[18000:26999]",
           "Chunk index: <b>2</b>",
           1.4504,
           0.0303
          ],
          [
           "Data reconstruction drift",
           "<b style=\"color:#00c8e5;line-height:60px\">Reference</b>",
           "",
           "[27000:35999]",
           "Chunk index: <b>3</b>",
           1.4298,
           0.0303
          ],
          [
           "Data reconstruction drift",
           "<b style=\"color:#00c8e5;line-height:60px\">Reference</b>",
           "",
           "[36000:44999]",
           "Chunk index: <b>4</b>",
           1.4455,
           0.0303
          ],
          [
           "Data reconstruction drift",
           "<b style=\"color:#00c8e5;line-height:60px\">Reference</b>",
           "",
           "[45000:53999]",
           "Chunk index: <b>5</b>",
           1.4319,
           0.0303
          ],
          [
           "Data reconstruction drift",
           "<b style=\"color:#00c8e5;line-height:60px\">Reference</b>",
           "",
           "[54000:62999]",
           "Chunk index: <b>6</b>",
           1.4381,
           0.0303
          ],
          [
           "Data reconstruction drift",
           "<b style=\"color:#00c8e5;line-height:60px\">Reference</b>",
           "",
           "[63000:71999]",
           "Chunk index: <b>7</b>",
           1.4288,
           0.0303
          ],
          [
           "Data reconstruction drift",
           "<b style=\"color:#00c8e5;line-height:60px\">Reference</b>",
           "",
           "[72000:80999]",
           "Chunk index: <b>8</b>",
           1.4508,
           0.0303
          ],
          [
           "Data reconstruction drift",
           "<b style=\"color:#00c8e5;line-height:60px\">Reference</b>",
           "",
           "[81000:89999]",
           "Chunk index: <b>9</b>",
           1.438,
           0.0303
          ],
          [
           "Data reconstruction drift",
           "<b style=\"color:#00c8e5;line-height:60px\">Reference</b>",
           "",
           "[90000:98999]",
           "Chunk index: <b>10</b>",
           1.4496,
           0.0303
          ],
          [
           "Data reconstruction drift",
           "<b style=\"color:#00c8e5;line-height:60px\">Reference</b>",
           "",
           "[99000:107999]",
           "Chunk index: <b>11</b>",
           1.4446,
           0.0303
          ],
          [
           "Data reconstruction drift",
           "<b style=\"color:#00c8e5;line-height:60px\">Reference</b>",
           "",
           "[108000:116999]",
           "Chunk index: <b>12</b>",
           1.4215,
           0.0303
          ],
          [
           "Data reconstruction drift",
           "<b style=\"color:#00c8e5;line-height:60px\">Reference</b>",
           "",
           "[117000:125999]",
           "Chunk index: <b>13</b>",
           1.4487,
           0.0303
          ],
          [
           "Data reconstruction drift",
           "<b style=\"color:#00c8e5;line-height:60px\">Reference</b>",
           "",
           "[126000:134999]",
           "Chunk index: <b>14</b>",
           1.4386,
           0.0303
          ],
          [
           "Data reconstruction drift",
           "<b style=\"color:#00c8e5;line-height:60px\">Reference</b>",
           "",
           "[135000:143999]",
           "Chunk index: <b>15</b>",
           1.4482,
           0.0303
          ],
          [
           "Data reconstruction drift",
           "<b style=\"color:#00c8e5;line-height:60px\">Reference</b>",
           "",
           "[144000:152999]",
           "Chunk index: <b>16</b>",
           1.4334,
           0.0303
          ],
          [
           "Data reconstruction drift",
           "<b style=\"color:#00c8e5;line-height:60px\">Reference</b>",
           "",
           "[153000:161999]",
           "Chunk index: <b>17</b>",
           1.4572,
           0.0303
          ],
          [
           "Data reconstruction drift",
           "<b style=\"color:#00c8e5;line-height:60px\">Reference</b>",
           "",
           "[162000:170999]",
           "Chunk index: <b>18</b>",
           1.4361,
           0.0303
          ],
          [
           "Data reconstruction drift",
           "<b style=\"color:#00c8e5;line-height:60px\">Reference</b>",
           "",
           "[171000:179999]",
           "Chunk index: <b>19</b>",
           1.4416,
           0.0303
          ],
          [
           "Data reconstruction drift",
           "<b style=\"color:#00c8e5;line-height:60px\">Reference</b>",
           "",
           "[180000:188999]",
           "Chunk index: <b>20</b>",
           1.4522,
           0.0303
          ],
          [
           "Data reconstruction drift",
           "<b style=\"color:#00c8e5;line-height:60px\">Reference</b>",
           "",
           "[189000:197999]",
           "Chunk index: <b>21</b>",
           1.4356,
           0.0303
          ],
          [
           "Data reconstruction drift",
           "<b style=\"color:#00c8e5;line-height:60px\">Reference</b>",
           "",
           "[198000:206999]",
           "Chunk index: <b>22</b>",
           1.4582,
           0.0303
          ],
          [
           "Data reconstruction drift",
           "<b style=\"color:#00c8e5;line-height:60px\">Reference</b>",
           "",
           "[207000:215999]",
           "Chunk index: <b>23</b>",
           1.4413,
           0.0303
          ],
          [
           "Data reconstruction drift",
           "<b style=\"color:#00c8e5;line-height:60px\">Reference</b>",
           "",
           "[216000:224999]",
           "Chunk index: <b>24</b>",
           1.4532,
           0.0303
          ],
          [
           "Data reconstruction drift",
           "<b style=\"color:#00c8e5;line-height:60px\">Reference</b>",
           "",
           "[225000:233999]",
           "Chunk index: <b>25</b>",
           1.4482,
           0.0303
          ],
          [
           "Data reconstruction drift",
           "<b style=\"color:#00c8e5;line-height:60px\">Reference</b>",
           "",
           "[234000:242999]",
           "Chunk index: <b>26</b>",
           1.5643,
           0.0303
          ],
          [
           "Data reconstruction drift",
           "<b style=\"color:#00c8e5;line-height:60px\">Reference</b>",
           "",
           "[243000:251999]",
           "Chunk index: <b>27</b>",
           1.5956,
           0.0303
          ],
          [
           "Data reconstruction drift",
           "<b style=\"color:#00c8e5;line-height:60px\">Reference</b>",
           "",
           "[252000:260999]",
           "Chunk index: <b>28</b>",
           1.591,
           0.0303
          ],
          [
           "Data reconstruction drift",
           "<b style=\"color:#00c8e5;line-height:60px\">Reference</b>",
           "",
           "[261000:269999]",
           "Chunk index: <b>29</b>",
           1.6016,
           0.0303
          ],
          [
           "Data reconstruction drift",
           "<b style=\"color:#00c8e5;line-height:60px\">Reference</b>",
           "",
           "[270000:278999]",
           "Chunk index: <b>30</b>",
           1.5988,
           0.0303
          ],
          [
           "Data reconstruction drift",
           "<b style=\"color:#00c8e5;line-height:60px\">Reference</b>",
           "",
           "[279000:287999]",
           "Chunk index: <b>31</b>",
           1.5777,
           0.0303
          ],
          [
           "Data reconstruction drift",
           "<b style=\"color:#00c8e5;line-height:60px\">Reference</b>",
           "",
           "[288000:296999]",
           "Chunk index: <b>32</b>",
           1.5898,
           0.0303
          ],
          [
           "Data reconstruction drift",
           "<b style=\"color:#00c8e5;line-height:60px\">Reference</b>",
           "",
           "[297000:305999]",
           "Chunk index: <b>33</b>",
           1.5819,
           0.0303
          ],
          [
           "Data reconstruction drift",
           "<b style=\"color:#00c8e5;line-height:60px\">Reference</b>",
           "",
           "[306000:314999]",
           "Chunk index: <b>34</b>",
           1.5744,
           0.0303
          ],
          [
           "Data reconstruction drift",
           "<b style=\"color:#00c8e5;line-height:60px\">Reference</b>",
           "",
           "[315000:323999]",
           "Chunk index: <b>35</b>",
           1.5872,
           0.0303
          ],
          [
           "Data reconstruction drift",
           "<b style=\"color:#00c8e5;line-height:60px\">Reference</b>",
           "",
           "[324000:332999]",
           "Chunk index: <b>36</b>",
           1.5936,
           0.0303
          ],
          [
           "Data reconstruction drift",
           "<b style=\"color:#00c8e5;line-height:60px\">Reference</b>",
           "",
           "[333000:341999]",
           "Chunk index: <b>37</b>",
           1.6071,
           0.0303
          ],
          [
           "Data reconstruction drift",
           "<b style=\"color:#00c8e5;line-height:60px\">Reference</b>",
           "",
           "[342000:350999]",
           "Chunk index: <b>38</b>",
           1.5928,
           0.0303
          ],
          [
           "Data reconstruction drift",
           "<b style=\"color:#00c8e5;line-height:60px\">Reference</b>",
           "",
           "[351000:359999]",
           "Chunk index: <b>39</b>",
           1.6712,
           0.0303
          ],
          [
           "Data reconstruction drift",
           "<b style=\"color:#00c8e5;line-height:60px\">Reference</b>",
           "",
           "[360000:368999]",
           "Chunk index: <b>40</b>",
           1.7713,
           0.0303
          ],
          [
           "Data reconstruction drift",
           "<b style=\"color:#00c8e5;line-height:60px\">Reference</b>",
           "",
           "[369000:377999]",
           "Chunk index: <b>41</b>",
           1.7708,
           0.0303
          ],
          [
           "Data reconstruction drift",
           "<b style=\"color:#00c8e5;line-height:60px\">Reference</b>",
           "",
           "[378000:386999]",
           "Chunk index: <b>42</b>",
           1.7559,
           0.0303
          ],
          [
           "Data reconstruction drift",
           "<b style=\"color:#00c8e5;line-height:60px\">Reference</b>",
           "",
           "[387000:395999]",
           "Chunk index: <b>43</b>",
           1.761,
           0.0303
          ],
          [
           "Data reconstruction drift",
           "<b style=\"color:#00c8e5;line-height:60px\">Reference</b>",
           "",
           "[396000:404999]",
           "Chunk index: <b>44</b>",
           1.7813,
           0.0303
          ],
          [
           "Data reconstruction drift",
           "<b style=\"color:#00c8e5;line-height:60px\">Reference</b>",
           "",
           "[405000:413999]",
           "Chunk index: <b>45</b>",
           1.7655,
           0.0303
          ],
          [
           "Data reconstruction drift",
           "<b style=\"color:#00c8e5;line-height:60px\">Reference</b>",
           "",
           "[414000:422999]",
           "Chunk index: <b>46</b>",
           1.7628,
           0.0303
          ],
          [
           "Data reconstruction drift",
           "<b style=\"color:#00c8e5;line-height:60px\">Reference</b>",
           "",
           "[423000:431999]",
           "Chunk index: <b>47</b>",
           1.769,
           0.0303
          ],
          [
           "Data reconstruction drift",
           "<b style=\"color:#00c8e5;line-height:60px\">Reference</b>",
           "",
           "[432000:440999]",
           "Chunk index: <b>48</b>",
           1.7688,
           0.0303
          ],
          [
           "Data reconstruction drift",
           "<b style=\"color:#00c8e5;line-height:60px\">Reference</b>",
           "",
           "[441000:449999]",
           "Chunk index: <b>49</b>",
           1.7626,
           0.0303
          ],
          [
           "Data reconstruction drift",
           "<b style=\"color:#00c8e5;line-height:60px\">Reference</b>",
           "",
           "[450000:458999]",
           "Chunk index: <b>50</b>",
           1.7709,
           0.0303
          ],
          [
           "Data reconstruction drift",
           "<b style=\"color:#00c8e5;line-height:60px\">Reference</b>",
           "",
           "[459000:467999]",
           "Chunk index: <b>51</b>",
           1.79,
           0.0303
          ],
          [
           "Data reconstruction drift",
           "<b style=\"color:#00c8e5;line-height:60px\">Reference</b>",
           "",
           "[468000:476999]",
           "Chunk index: <b>52</b>",
           1.779,
           0.0303
          ],
          [
           "Data reconstruction drift",
           "<b style=\"color:#00c8e5;line-height:60px\">Reference</b>",
           "",
           "[477000:485999]",
           "Chunk index: <b>53</b>",
           1.7556,
           0.0303
          ],
          [
           "Data reconstruction drift",
           "<b style=\"color:#00c8e5;line-height:60px\">Reference</b>",
           "",
           "[486000:494999]",
           "Chunk index: <b>54</b>",
           1.7898,
           0.0303
          ],
          [
           "Data reconstruction drift",
           "<b style=\"color:#00c8e5;line-height:60px\">Reference</b>",
           "",
           "[495000:503999]",
           "Chunk index: <b>55</b>",
           1.7887,
           0.0303
          ],
          [
           "Data reconstruction drift",
           "<b style=\"color:#00c8e5;line-height:60px\">Reference</b>",
           "",
           "[504000:512999]",
           "Chunk index: <b>56</b>",
           1.7698,
           0.0303
          ],
          [
           "Data reconstruction drift",
           "<b style=\"color:#00c8e5;line-height:60px\">Reference</b>",
           "",
           "[513000:530705]",
           "Chunk index: <b>57</b>",
           1.7695,
           0.0216
          ]
         ],
         "hovertemplate": "%{customdata[1]} &nbsp; &nbsp; %{customdata[2]} <br />Chunk: <b>%{customdata[3]}</b> &nbsp; &nbsp; %{customdata[4]} <br />%{customdata[0]}: <b>%{customdata[5]}</b><br />Confidence band: +/- <b>%{customdata[6]}</b><br /><extra></extra>",
         "legendgroup": "metric_reference",
         "marker": {
          "color": "#00c8e5",
          "size": 5,
          "symbol": "circle"
         },
         "mode": "markers",
         "name": "Metric",
         "showlegend": false,
         "type": "scatter",
         "x": [
          0.5,
          1.5,
          2.5,
          3.5,
          4.5,
          5.5,
          6.5,
          7.5,
          8.5,
          9.5,
          10.5,
          11.5,
          12.5,
          13.5,
          14.5,
          15.5,
          16.5,
          17.5,
          18.5,
          19.5,
          20.5,
          21.5,
          22.5,
          23.5,
          24.5,
          25.5,
          26.5,
          27.5,
          28.5,
          29.5,
          30.5,
          31.5,
          32.5,
          33.5,
          34.5,
          35.5,
          36.5,
          37.5,
          38.5,
          39.5,
          40.5,
          41.5,
          42.5,
          43.5,
          44.5,
          45.5,
          46.5,
          47.5,
          48.5,
          49.5,
          50.5,
          51.5,
          52.5,
          53.5,
          54.5,
          55.5,
          56.5,
          57.5
         ],
         "y": [
          1.4434228565115608,
          1.438335561293923,
          1.4503560981521295,
          1.4297971055121868,
          1.4455067152801884,
          1.4318518358574581,
          1.4381323964775907,
          1.4288430531076117,
          1.4507885591038112,
          1.4379681597705825,
          1.4495636734344544,
          1.4446191995489017,
          1.4215144788173932,
          1.4486837998382465,
          1.438634273530187,
          1.448154714347129,
          1.4334086359249478,
          1.4571683620601477,
          1.4361024382459169,
          1.4415788190819374,
          1.4522296603575346,
          1.4355982394438283,
          1.4582391141201057,
          1.4413438454344851,
          1.4531629684252507,
          1.4481801494609592,
          1.5642601077985139,
          1.595556551640425,
          1.5909559355318468,
          1.6016288949306474,
          1.5988093211509642,
          1.5777320658943847,
          1.589815430493013,
          1.5819421970415222,
          1.5743598093808187,
          1.5871936549478725,
          1.59358039227262,
          1.6071294223102182,
          1.5927645117439968,
          1.6711983368101326,
          1.771286316832111,
          1.7707534507841716,
          1.7559257405514899,
          1.760981423801051,
          1.7813265133858551,
          1.765468045809869,
          1.7627731906543802,
          1.7689552583545212,
          1.7688199528294184,
          1.7626412959005338,
          1.7708525680684766,
          1.789950334722738,
          1.778999525551575,
          1.7556473282347929,
          1.7897571021935228,
          1.7886854075694096,
          1.769814379457775,
          1.7694936083837653,
          1.7694936083837653
         ]
        },
        {
         "hoverinfo": "skip",
         "legendgroup": "metric_analysis",
         "line": {
          "color": "#00c8e5",
          "shape": "hv",
          "width": 2
         },
         "mode": "lines",
         "name": "Metric",
         "showlegend": false,
         "type": "scatter",
         "x": [
          58,
          59,
          60,
          61,
          62,
          63
         ],
         "y": [
          1.477801472115292,
          1.7294536197774326,
          2.2157711001522644,
          2.220055082227164,
          8.619862346095374,
          8.619862346095374
         ]
        },
        {
         "customdata": [
          [
           "Data reconstruction drift",
           "<b style=\"color:#3b0280;line-height:60px\">Analysis</b>",
           "",
           "[0:8999]",
           "Chunk index: <b>0</b>",
           1.4778,
           0.0303
          ],
          [
           "Data reconstruction drift",
           "<b style=\"color:#3b0280;line-height:60px\">Analysis</b>",
           "",
           "[9000:17999]",
           "Chunk index: <b>1</b>",
           1.7295,
           0.0303
          ],
          [
           "Data reconstruction drift",
           "<b style=\"color:#3b0280;line-height:60px\">Analysis</b>",
           "<span style=\"color:#AD0000\">⚠ <b>Drift detected</b></span>",
           "[18000:26999]",
           "Chunk index: <b>2</b>",
           2.2158,
           0.0303
          ],
          [
           "Data reconstruction drift",
           "<b style=\"color:#3b0280;line-height:60px\">Analysis</b>",
           "<span style=\"color:#AD0000\">⚠ <b>Drift detected</b></span>",
           "[27000:35999]",
           "Chunk index: <b>3</b>",
           2.2201,
           0.0303
          ],
          [
           "Data reconstruction drift",
           "<b style=\"color:#3b0280;line-height:60px\">Analysis</b>",
           "<span style=\"color:#AD0000\">⚠ <b>Drift detected</b></span>",
           "[36000:49175]",
           "Chunk index: <b>4</b>",
           8.6199,
           0.025
          ]
         ],
         "hovertemplate": "%{customdata[1]} &nbsp; &nbsp; %{customdata[2]} <br />Chunk: <b>%{customdata[3]}</b> &nbsp; &nbsp; %{customdata[4]} <br />%{customdata[0]}: <b>%{customdata[5]}</b><br />Confidence band: +/- <b>%{customdata[6]}</b><br /><extra></extra>",
         "legendgroup": "metric_analysis",
         "marker": {
          "color": "#00c8e5",
          "size": 5,
          "symbol": "circle"
         },
         "mode": "markers",
         "name": "Metric",
         "showlegend": false,
         "type": "scatter",
         "x": [
          58.5,
          59.5,
          60.5,
          61.5,
          62.5
         ],
         "y": [
          1.477801472115292,
          1.7294536197774326,
          2.2157711001522644,
          2.220055082227164,
          8.619862346095374,
          8.619862346095374
         ]
        },
        {
         "hoverinfo": "skip",
         "legendgroup": "alert",
         "marker": {
          "color": "#DD4040",
          "size": 8,
          "symbol": "diamond"
         },
         "mode": "markers",
         "name": "Alert",
         "showlegend": true,
         "type": "scatter",
         "x": [
          60.5,
          61.5,
          62.5
         ],
         "y": [
          2.2157711001522644,
          2.220055082227164,
          8.619862346095374
         ]
        },
        {
         "hoverinfo": "skip",
         "legendgroup": "thresh",
         "line": {
          "color": "#DD4040",
          "dash": "dash",
          "width": 2
         },
         "mode": "lines",
         "name": "Threshold",
         "showlegend": false,
         "type": "scatter",
         "x": [
          0,
          1,
          2,
          3,
          4,
          5,
          6,
          7,
          8,
          9,
          10,
          11,
          12,
          13,
          14,
          15,
          16,
          17,
          18,
          19,
          20,
          21,
          22,
          23,
          24,
          25,
          26,
          27,
          28,
          29,
          30,
          31,
          32,
          33,
          34,
          35,
          36,
          37,
          38,
          39,
          40,
          41,
          42,
          43,
          44,
          45,
          46,
          47,
          48,
          49,
          50,
          51,
          52,
          53,
          54,
          55,
          56,
          57,
          58
         ],
         "y": [
          2.006474576913227,
          2.006474576913227,
          2.006474576913227,
          2.006474576913227,
          2.006474576913227,
          2.006474576913227,
          2.006474576913227,
          2.006474576913227,
          2.006474576913227,
          2.006474576913227,
          2.006474576913227,
          2.006474576913227,
          2.006474576913227,
          2.006474576913227,
          2.006474576913227,
          2.006474576913227,
          2.006474576913227,
          2.006474576913227,
          2.006474576913227,
          2.006474576913227,
          2.006474576913227,
          2.006474576913227,
          2.006474576913227,
          2.006474576913227,
          2.006474576913227,
          2.006474576913227,
          2.006474576913227,
          2.006474576913227,
          2.006474576913227,
          2.006474576913227,
          2.006474576913227,
          2.006474576913227,
          2.006474576913227,
          2.006474576913227,
          2.006474576913227,
          2.006474576913227,
          2.006474576913227,
          2.006474576913227,
          2.006474576913227,
          2.006474576913227,
          2.006474576913227,
          2.006474576913227,
          2.006474576913227,
          2.006474576913227,
          2.006474576913227,
          2.006474576913227,
          2.006474576913227,
          2.006474576913227,
          2.006474576913227,
          2.006474576913227,
          2.006474576913227,
          2.006474576913227,
          2.006474576913227,
          2.006474576913227,
          2.006474576913227,
          2.006474576913227,
          2.006474576913227,
          2.006474576913227,
          2.006474576913227
         ]
        },
        {
         "hoverinfo": "skip",
         "legendgroup": "thresh",
         "line": {
          "color": "#DD4040",
          "dash": "dash",
          "width": 2
         },
         "mode": "lines",
         "name": "Threshold",
         "showlegend": false,
         "type": "scatter",
         "x": [
          0,
          1,
          2,
          3,
          4,
          5,
          6,
          7,
          8,
          9,
          10,
          11,
          12,
          13,
          14,
          15,
          16,
          17,
          18,
          19,
          20,
          21,
          22,
          23,
          24,
          25,
          26,
          27,
          28,
          29,
          30,
          31,
          32,
          33,
          34,
          35,
          36,
          37,
          38,
          39,
          40,
          41,
          42,
          43,
          44,
          45,
          46,
          47,
          48,
          49,
          50,
          51,
          52,
          53,
          54,
          55,
          56,
          57,
          58
         ],
         "y": [
          1.156016553713356,
          1.156016553713356,
          1.156016553713356,
          1.156016553713356,
          1.156016553713356,
          1.156016553713356,
          1.156016553713356,
          1.156016553713356,
          1.156016553713356,
          1.156016553713356,
          1.156016553713356,
          1.156016553713356,
          1.156016553713356,
          1.156016553713356,
          1.156016553713356,
          1.156016553713356,
          1.156016553713356,
          1.156016553713356,
          1.156016553713356,
          1.156016553713356,
          1.156016553713356,
          1.156016553713356,
          1.156016553713356,
          1.156016553713356,
          1.156016553713356,
          1.156016553713356,
          1.156016553713356,
          1.156016553713356,
          1.156016553713356,
          1.156016553713356,
          1.156016553713356,
          1.156016553713356,
          1.156016553713356,
          1.156016553713356,
          1.156016553713356,
          1.156016553713356,
          1.156016553713356,
          1.156016553713356,
          1.156016553713356,
          1.156016553713356,
          1.156016553713356,
          1.156016553713356,
          1.156016553713356,
          1.156016553713356,
          1.156016553713356,
          1.156016553713356,
          1.156016553713356,
          1.156016553713356,
          1.156016553713356,
          1.156016553713356,
          1.156016553713356,
          1.156016553713356,
          1.156016553713356,
          1.156016553713356,
          1.156016553713356,
          1.156016553713356,
          1.156016553713356,
          1.156016553713356,
          1.156016553713356
         ]
        },
        {
         "hoverinfo": "skip",
         "legendgroup": "thresh",
         "line": {
          "color": "#DD4040",
          "dash": "dash",
          "width": 2
         },
         "mode": "lines",
         "name": "Threshold",
         "showlegend": false,
         "type": "scatter",
         "x": [
          58,
          59,
          60,
          61,
          62,
          63
         ],
         "y": [
          2.006474576913227,
          2.006474576913227,
          2.006474576913227,
          2.006474576913227,
          2.006474576913227,
          2.006474576913227
         ]
        },
        {
         "hoverinfo": "skip",
         "legendgroup": "thresh",
         "line": {
          "color": "#DD4040",
          "dash": "dash",
          "width": 2
         },
         "mode": "lines",
         "name": "Threshold",
         "showlegend": false,
         "type": "scatter",
         "x": [
          58,
          59,
          60,
          61,
          62,
          63
         ],
         "y": [
          1.156016553713356,
          1.156016553713356,
          1.156016553713356,
          1.156016553713356,
          1.156016553713356,
          1.156016553713356
         ]
        },
        {
         "hoverinfo": "skip",
         "line": {
          "color": "rgba(0, 0, 0, 0)",
          "shape": "hv"
         },
         "mode": "lines",
         "name": "Confidence band",
         "showlegend": false,
         "type": "scatter",
         "x": [
          0,
          1,
          2,
          3,
          4,
          5,
          6,
          7,
          8,
          9,
          10,
          11,
          12,
          13,
          14,
          15,
          16,
          17,
          18,
          19,
          20,
          21,
          22,
          23,
          24,
          25,
          26,
          27,
          28,
          29,
          30,
          31,
          32,
          33,
          34,
          35,
          36,
          37,
          38,
          39,
          40,
          41,
          42,
          43,
          44,
          45,
          46,
          47,
          48,
          49,
          50,
          51,
          52,
          53,
          54,
          55,
          56,
          57,
          58
         ],
         "y": [
          1.4737318961992332,
          1.4686446009815954,
          1.480665137839802,
          1.4601061451998592,
          1.4758157549678608,
          1.4621608755451305,
          1.4684414361652631,
          1.4591520927952841,
          1.4810975987914836,
          1.4682771994582549,
          1.4798727131221268,
          1.4749282392365741,
          1.4518235185050656,
          1.4789928395259189,
          1.4689433132178593,
          1.4784637540348013,
          1.4637176756126202,
          1.48747740174782,
          1.4664114779335893,
          1.4718878587696098,
          1.482538700045207,
          1.4659072791315007,
          1.488548153807778,
          1.4716528851221575,
          1.4834720081129231,
          1.4784891891486316,
          1.5945691474861863,
          1.6258655913280975,
          1.6212649752195192,
          1.6319379346183198,
          1.6291183608386366,
          1.6080411055820572,
          1.6201244701806854,
          1.6122512367291946,
          1.604668849068491,
          1.6175026946355449,
          1.6238894319602923,
          1.6374384619978906,
          1.6230735514316692,
          1.701507376497805,
          1.8015953565197833,
          1.801062490471844,
          1.7862347802391623,
          1.7912904634887235,
          1.8116355530735275,
          1.7957770854975414,
          1.7930822303420526,
          1.7992642980421936,
          1.7991289925170908,
          1.7929503355882062,
          1.801161607756149,
          1.8202593744104103,
          1.8093085652392473,
          1.7859563679224653,
          1.8200661418811952,
          1.818994447257082,
          1.8001234191454474,
          1.791102535324863,
          1.791102535324863
         ]
        },
        {
         "fill": "tonexty",
         "fillcolor": "rgba(0, 200, 229, 0.2)",
         "hoverinfo": "skip",
         "line": {
          "color": "rgba(0, 0, 0, 0)",
          "shape": "hv"
         },
         "mode": "lines",
         "name": "Confidence band",
         "showlegend": true,
         "type": "scatter",
         "x": [
          0,
          1,
          2,
          3,
          4,
          5,
          6,
          7,
          8,
          9,
          10,
          11,
          12,
          13,
          14,
          15,
          16,
          17,
          18,
          19,
          20,
          21,
          22,
          23,
          24,
          25,
          26,
          27,
          28,
          29,
          30,
          31,
          32,
          33,
          34,
          35,
          36,
          37,
          38,
          39,
          40,
          41,
          42,
          43,
          44,
          45,
          46,
          47,
          48,
          49,
          50,
          51,
          52,
          53,
          54,
          55,
          56,
          57,
          58
         ],
         "y": [
          1.4131138168238884,
          1.4080265216062506,
          1.4200470584644571,
          1.3994880658245143,
          1.415197675592516,
          1.4015427961697857,
          1.4078233567899183,
          1.3985340134199393,
          1.4204795194161388,
          1.40765912008291,
          1.419254633746782,
          1.4143101598612293,
          1.3912054391297208,
          1.418374760150574,
          1.4083252338425145,
          1.4178456746594565,
          1.4030995962372754,
          1.4268593223724753,
          1.4057933985582445,
          1.411269779394265,
          1.4219206206698622,
          1.4052891997561558,
          1.4279300744324332,
          1.4110348057468127,
          1.4228539287375783,
          1.4178711097732868,
          1.5339510681108415,
          1.5652475119527527,
          1.5606468958441744,
          1.571319855242975,
          1.5685002814632918,
          1.5474230262067123,
          1.5595063908053406,
          1.5516331573538498,
          1.5440507696931463,
          1.5568846152602,
          1.5632713525849475,
          1.5768203826225458,
          1.5624554720563244,
          1.6408892971224602,
          1.7409772771444385,
          1.7404444110964992,
          1.7256167008638175,
          1.7306723841133786,
          1.7510174736981827,
          1.7351590061221966,
          1.7324641509667078,
          1.7386462186668488,
          1.738510913141746,
          1.7323322562128614,
          1.7405435283808042,
          1.7596412950350655,
          1.7486904858639025,
          1.7253382885471205,
          1.7594480625058504,
          1.7583763678817372,
          1.7395053397701026,
          1.7478846814426676,
          1.7478846814426676
         ]
        },
        {
         "hoverinfo": "skip",
         "line": {
          "color": "rgba(0, 0, 0, 0)",
          "shape": "hv"
         },
         "mode": "lines",
         "name": "Confidence band",
         "showlegend": false,
         "type": "scatter",
         "x": [
          58,
          59,
          60,
          61,
          62,
          63
         ],
         "y": [
          1.5081105118029643,
          1.759762659465105,
          2.246080139839937,
          2.2503641219148367,
          8.644911994702642,
          8.644911994702642
         ]
        },
        {
         "fill": "tonexty",
         "fillcolor": "rgba(0, 200, 229, 0.2)",
         "hoverinfo": "skip",
         "line": {
          "color": "rgba(0, 0, 0, 0)",
          "shape": "hv"
         },
         "mode": "lines",
         "name": "Confidence band",
         "showlegend": false,
         "type": "scatter",
         "x": [
          58,
          59,
          60,
          61,
          62,
          63
         ],
         "y": [
          1.4474924324276195,
          1.6991445800897602,
          2.185462060464592,
          2.1897460425394915,
          8.594812697488106,
          8.594812697488106
         ]
        }
       ],
       "layout": {
        "annotations": [
         {
          "showarrow": false,
          "text": "Reference",
          "x": 28.5,
          "xshift": 10,
          "y": 1.01,
          "yref": "y domain"
         },
         {
          "showarrow": false,
          "text": "Analysis",
          "x": 60,
          "xshift": 15,
          "y": 1.01,
          "yref": "y domain"
         }
        ],
        "autosize": true,
        "hoverlabel": {
         "bgcolor": "white",
         "font": {
          "size": 14
         }
        },
        "legend": {
         "itemclick": false,
         "itemdoubleclick": false,
         "traceorder": "grouped"
        },
        "paper_bgcolor": "rgba(255,255,255,1)",
        "plot_bgcolor": "rgba(255,255,255,1)",
        "shapes": [
         {
          "layer": "below",
          "line": {
           "color": "#666666",
           "width": 1
          },
          "type": "line",
          "x0": 58,
          "x1": 58,
          "xref": "x",
          "y0": 0,
          "y1": 1,
          "yref": "y domain"
         }
        ],
        "template": {
         "data": {
          "bar": [
           {
            "error_x": {
             "color": "#2a3f5f"
            },
            "error_y": {
             "color": "#2a3f5f"
            },
            "marker": {
             "line": {
              "color": "#E5ECF6",
              "width": 0.5
             },
             "pattern": {
              "fillmode": "overlay",
              "size": 10,
              "solidity": 0.2
             }
            },
            "type": "bar"
           }
          ],
          "barpolar": [
           {
            "marker": {
             "line": {
              "color": "#E5ECF6",
              "width": 0.5
             },
             "pattern": {
              "fillmode": "overlay",
              "size": 10,
              "solidity": 0.2
             }
            },
            "type": "barpolar"
           }
          ],
          "carpet": [
           {
            "aaxis": {
             "endlinecolor": "#2a3f5f",
             "gridcolor": "white",
             "linecolor": "white",
             "minorgridcolor": "white",
             "startlinecolor": "#2a3f5f"
            },
            "baxis": {
             "endlinecolor": "#2a3f5f",
             "gridcolor": "white",
             "linecolor": "white",
             "minorgridcolor": "white",
             "startlinecolor": "#2a3f5f"
            },
            "type": "carpet"
           }
          ],
          "choropleth": [
           {
            "colorbar": {
             "outlinewidth": 0,
             "ticks": ""
            },
            "type": "choropleth"
           }
          ],
          "contour": [
           {
            "colorbar": {
             "outlinewidth": 0,
             "ticks": ""
            },
            "colorscale": [
             [
              0,
              "#0d0887"
             ],
             [
              0.1111111111111111,
              "#46039f"
             ],
             [
              0.2222222222222222,
              "#7201a8"
             ],
             [
              0.3333333333333333,
              "#9c179e"
             ],
             [
              0.4444444444444444,
              "#bd3786"
             ],
             [
              0.5555555555555556,
              "#d8576b"
             ],
             [
              0.6666666666666666,
              "#ed7953"
             ],
             [
              0.7777777777777778,
              "#fb9f3a"
             ],
             [
              0.8888888888888888,
              "#fdca26"
             ],
             [
              1,
              "#f0f921"
             ]
            ],
            "type": "contour"
           }
          ],
          "contourcarpet": [
           {
            "colorbar": {
             "outlinewidth": 0,
             "ticks": ""
            },
            "type": "contourcarpet"
           }
          ],
          "heatmap": [
           {
            "colorbar": {
             "outlinewidth": 0,
             "ticks": ""
            },
            "colorscale": [
             [
              0,
              "#0d0887"
             ],
             [
              0.1111111111111111,
              "#46039f"
             ],
             [
              0.2222222222222222,
              "#7201a8"
             ],
             [
              0.3333333333333333,
              "#9c179e"
             ],
             [
              0.4444444444444444,
              "#bd3786"
             ],
             [
              0.5555555555555556,
              "#d8576b"
             ],
             [
              0.6666666666666666,
              "#ed7953"
             ],
             [
              0.7777777777777778,
              "#fb9f3a"
             ],
             [
              0.8888888888888888,
              "#fdca26"
             ],
             [
              1,
              "#f0f921"
             ]
            ],
            "type": "heatmap"
           }
          ],
          "heatmapgl": [
           {
            "colorbar": {
             "outlinewidth": 0,
             "ticks": ""
            },
            "colorscale": [
             [
              0,
              "#0d0887"
             ],
             [
              0.1111111111111111,
              "#46039f"
             ],
             [
              0.2222222222222222,
              "#7201a8"
             ],
             [
              0.3333333333333333,
              "#9c179e"
             ],
             [
              0.4444444444444444,
              "#bd3786"
             ],
             [
              0.5555555555555556,
              "#d8576b"
             ],
             [
              0.6666666666666666,
              "#ed7953"
             ],
             [
              0.7777777777777778,
              "#fb9f3a"
             ],
             [
              0.8888888888888888,
              "#fdca26"
             ],
             [
              1,
              "#f0f921"
             ]
            ],
            "type": "heatmapgl"
           }
          ],
          "histogram": [
           {
            "marker": {
             "pattern": {
              "fillmode": "overlay",
              "size": 10,
              "solidity": 0.2
             }
            },
            "type": "histogram"
           }
          ],
          "histogram2d": [
           {
            "colorbar": {
             "outlinewidth": 0,
             "ticks": ""
            },
            "colorscale": [
             [
              0,
              "#0d0887"
             ],
             [
              0.1111111111111111,
              "#46039f"
             ],
             [
              0.2222222222222222,
              "#7201a8"
             ],
             [
              0.3333333333333333,
              "#9c179e"
             ],
             [
              0.4444444444444444,
              "#bd3786"
             ],
             [
              0.5555555555555556,
              "#d8576b"
             ],
             [
              0.6666666666666666,
              "#ed7953"
             ],
             [
              0.7777777777777778,
              "#fb9f3a"
             ],
             [
              0.8888888888888888,
              "#fdca26"
             ],
             [
              1,
              "#f0f921"
             ]
            ],
            "type": "histogram2d"
           }
          ],
          "histogram2dcontour": [
           {
            "colorbar": {
             "outlinewidth": 0,
             "ticks": ""
            },
            "colorscale": [
             [
              0,
              "#0d0887"
             ],
             [
              0.1111111111111111,
              "#46039f"
             ],
             [
              0.2222222222222222,
              "#7201a8"
             ],
             [
              0.3333333333333333,
              "#9c179e"
             ],
             [
              0.4444444444444444,
              "#bd3786"
             ],
             [
              0.5555555555555556,
              "#d8576b"
             ],
             [
              0.6666666666666666,
              "#ed7953"
             ],
             [
              0.7777777777777778,
              "#fb9f3a"
             ],
             [
              0.8888888888888888,
              "#fdca26"
             ],
             [
              1,
              "#f0f921"
             ]
            ],
            "type": "histogram2dcontour"
           }
          ],
          "mesh3d": [
           {
            "colorbar": {
             "outlinewidth": 0,
             "ticks": ""
            },
            "type": "mesh3d"
           }
          ],
          "parcoords": [
           {
            "line": {
             "colorbar": {
              "outlinewidth": 0,
              "ticks": ""
             }
            },
            "type": "parcoords"
           }
          ],
          "pie": [
           {
            "automargin": true,
            "type": "pie"
           }
          ],
          "scatter": [
           {
            "fillpattern": {
             "fillmode": "overlay",
             "size": 10,
             "solidity": 0.2
            },
            "type": "scatter"
           }
          ],
          "scatter3d": [
           {
            "line": {
             "colorbar": {
              "outlinewidth": 0,
              "ticks": ""
             }
            },
            "marker": {
             "colorbar": {
              "outlinewidth": 0,
              "ticks": ""
             }
            },
            "type": "scatter3d"
           }
          ],
          "scattercarpet": [
           {
            "marker": {
             "colorbar": {
              "outlinewidth": 0,
              "ticks": ""
             }
            },
            "type": "scattercarpet"
           }
          ],
          "scattergeo": [
           {
            "marker": {
             "colorbar": {
              "outlinewidth": 0,
              "ticks": ""
             }
            },
            "type": "scattergeo"
           }
          ],
          "scattergl": [
           {
            "marker": {
             "colorbar": {
              "outlinewidth": 0,
              "ticks": ""
             }
            },
            "type": "scattergl"
           }
          ],
          "scattermapbox": [
           {
            "marker": {
             "colorbar": {
              "outlinewidth": 0,
              "ticks": ""
             }
            },
            "type": "scattermapbox"
           }
          ],
          "scatterpolar": [
           {
            "marker": {
             "colorbar": {
              "outlinewidth": 0,
              "ticks": ""
             }
            },
            "type": "scatterpolar"
           }
          ],
          "scatterpolargl": [
           {
            "marker": {
             "colorbar": {
              "outlinewidth": 0,
              "ticks": ""
             }
            },
            "type": "scatterpolargl"
           }
          ],
          "scatterternary": [
           {
            "marker": {
             "colorbar": {
              "outlinewidth": 0,
              "ticks": ""
             }
            },
            "type": "scatterternary"
           }
          ],
          "surface": [
           {
            "colorbar": {
             "outlinewidth": 0,
             "ticks": ""
            },
            "colorscale": [
             [
              0,
              "#0d0887"
             ],
             [
              0.1111111111111111,
              "#46039f"
             ],
             [
              0.2222222222222222,
              "#7201a8"
             ],
             [
              0.3333333333333333,
              "#9c179e"
             ],
             [
              0.4444444444444444,
              "#bd3786"
             ],
             [
              0.5555555555555556,
              "#d8576b"
             ],
             [
              0.6666666666666666,
              "#ed7953"
             ],
             [
              0.7777777777777778,
              "#fb9f3a"
             ],
             [
              0.8888888888888888,
              "#fdca26"
             ],
             [
              1,
              "#f0f921"
             ]
            ],
            "type": "surface"
           }
          ],
          "table": [
           {
            "cells": {
             "fill": {
              "color": "#EBF0F8"
             },
             "line": {
              "color": "white"
             }
            },
            "header": {
             "fill": {
              "color": "#C8D4E3"
             },
             "line": {
              "color": "white"
             }
            },
            "type": "table"
           }
          ]
         },
         "layout": {
          "annotationdefaults": {
           "arrowcolor": "#2a3f5f",
           "arrowhead": 0,
           "arrowwidth": 1
          },
          "autotypenumbers": "strict",
          "coloraxis": {
           "colorbar": {
            "outlinewidth": 0,
            "ticks": ""
           }
          },
          "colorscale": {
           "diverging": [
            [
             0,
             "#8e0152"
            ],
            [
             0.1,
             "#c51b7d"
            ],
            [
             0.2,
             "#de77ae"
            ],
            [
             0.3,
             "#f1b6da"
            ],
            [
             0.4,
             "#fde0ef"
            ],
            [
             0.5,
             "#f7f7f7"
            ],
            [
             0.6,
             "#e6f5d0"
            ],
            [
             0.7,
             "#b8e186"
            ],
            [
             0.8,
             "#7fbc41"
            ],
            [
             0.9,
             "#4d9221"
            ],
            [
             1,
             "#276419"
            ]
           ],
           "sequential": [
            [
             0,
             "#0d0887"
            ],
            [
             0.1111111111111111,
             "#46039f"
            ],
            [
             0.2222222222222222,
             "#7201a8"
            ],
            [
             0.3333333333333333,
             "#9c179e"
            ],
            [
             0.4444444444444444,
             "#bd3786"
            ],
            [
             0.5555555555555556,
             "#d8576b"
            ],
            [
             0.6666666666666666,
             "#ed7953"
            ],
            [
             0.7777777777777778,
             "#fb9f3a"
            ],
            [
             0.8888888888888888,
             "#fdca26"
            ],
            [
             1,
             "#f0f921"
            ]
           ],
           "sequentialminus": [
            [
             0,
             "#0d0887"
            ],
            [
             0.1111111111111111,
             "#46039f"
            ],
            [
             0.2222222222222222,
             "#7201a8"
            ],
            [
             0.3333333333333333,
             "#9c179e"
            ],
            [
             0.4444444444444444,
             "#bd3786"
            ],
            [
             0.5555555555555556,
             "#d8576b"
            ],
            [
             0.6666666666666666,
             "#ed7953"
            ],
            [
             0.7777777777777778,
             "#fb9f3a"
            ],
            [
             0.8888888888888888,
             "#fdca26"
            ],
            [
             1,
             "#f0f921"
            ]
           ]
          },
          "colorway": [
           "#636efa",
           "#EF553B",
           "#00cc96",
           "#ab63fa",
           "#FFA15A",
           "#19d3f3",
           "#FF6692",
           "#B6E880",
           "#FF97FF",
           "#FECB52"
          ],
          "font": {
           "color": "#2a3f5f"
          },
          "geo": {
           "bgcolor": "white",
           "lakecolor": "white",
           "landcolor": "#E5ECF6",
           "showlakes": true,
           "showland": true,
           "subunitcolor": "white"
          },
          "hoverlabel": {
           "align": "left"
          },
          "hovermode": "closest",
          "mapbox": {
           "style": "light"
          },
          "paper_bgcolor": "white",
          "plot_bgcolor": "#E5ECF6",
          "polar": {
           "angularaxis": {
            "gridcolor": "white",
            "linecolor": "white",
            "ticks": ""
           },
           "bgcolor": "#E5ECF6",
           "radialaxis": {
            "gridcolor": "white",
            "linecolor": "white",
            "ticks": ""
           }
          },
          "scene": {
           "xaxis": {
            "backgroundcolor": "#E5ECF6",
            "gridcolor": "white",
            "gridwidth": 2,
            "linecolor": "white",
            "showbackground": true,
            "ticks": "",
            "zerolinecolor": "white"
           },
           "yaxis": {
            "backgroundcolor": "#E5ECF6",
            "gridcolor": "white",
            "gridwidth": 2,
            "linecolor": "white",
            "showbackground": true,
            "ticks": "",
            "zerolinecolor": "white"
           },
           "zaxis": {
            "backgroundcolor": "#E5ECF6",
            "gridcolor": "white",
            "gridwidth": 2,
            "linecolor": "white",
            "showbackground": true,
            "ticks": "",
            "zerolinecolor": "white"
           }
          },
          "shapedefaults": {
           "line": {
            "color": "#2a3f5f"
           }
          },
          "ternary": {
           "aaxis": {
            "gridcolor": "white",
            "linecolor": "white",
            "ticks": ""
           },
           "baxis": {
            "gridcolor": "white",
            "linecolor": "white",
            "ticks": ""
           },
           "bgcolor": "#E5ECF6",
           "caxis": {
            "gridcolor": "white",
            "linecolor": "white",
            "ticks": ""
           }
          },
          "title": {
           "x": 0.05
          },
          "xaxis": {
           "automargin": true,
           "gridcolor": "white",
           "linecolor": "white",
           "ticks": "",
           "title": {
            "standoff": 15
           },
           "zerolinecolor": "white",
           "zerolinewidth": 2
          },
          "yaxis": {
           "automargin": true,
           "gridcolor": "white",
           "linecolor": "white",
           "ticks": "",
           "title": {
            "standoff": 15
           },
           "zerolinecolor": "white",
           "zerolinewidth": 2
          }
         }
        },
        "title": {
         "text": "Multivariate drift (PCA reconstruction error)"
        },
        "xaxis": {
         "autorange": true,
         "linecolor": "#3b0280",
         "matches": "x",
         "mirror": true,
         "range": [
          -3.2405762745818167,
          66.39582985543053
         ],
         "showgrid": false,
         "title": {
          "text": "Chunk"
         },
         "type": "linear",
         "zeroline": false
        },
        "yaxis": {
         "autorange": true,
         "linecolor": "#3b0280",
         "mirror": true,
         "range": [
          0.7281527821755334,
          9.285428212931986
         ],
         "showgrid": false,
         "title": {
          "text": "Data reconstruction drift"
         },
         "type": "linear",
         "zeroline": false
        }
       }
      },
      "image/png": "[encoded data removed]",
      "text/html": [
       "<div>                            <div id=\"a22cd2b5-d8e9-49e0-a1da-32c33ba0693a\" class=\"plotly-graph-div\" style=\"height:525px; width:100%;\"></div>            <script type=\"text/javascript\">                require([\"plotly\"], function(Plotly) {                    window.PLOTLYENV=window.PLOTLYENV || {};                                    if (document.getElementById(\"a22cd2b5-d8e9-49e0-a1da-32c33ba0693a\")) {                    Plotly.newPlot(                        \"a22cd2b5-d8e9-49e0-a1da-32c33ba0693a\",                        [{\"hoverinfo\":\"skip\",\"legendgroup\":\"metric_reference\",\"line\":{\"color\":\"#00c8e5\",\"shape\":\"hv\",\"width\":2},\"mode\":\"lines\",\"name\":\"Metric\",\"showlegend\":true,\"x\":[0,1,2,3,4,5,6,7,8,9,10,11,12,13,14,15,16,17,18,19,20,21,22,23,24,25,26,27,28,29,30,31,32,33,34,35,36,37,38,39,40,41,42,43,44,45,46,47,48,49,50,51,52,53,54,55,56,57,58],\"y\":[1.4434228565115608,1.438335561293923,1.4503560981521295,1.4297971055121868,1.4455067152801884,1.4318518358574581,1.4381323964775907,1.4288430531076117,1.4507885591038112,1.4379681597705825,1.4495636734344544,1.4446191995489017,1.4215144788173932,1.4486837998382465,1.438634273530187,1.448154714347129,1.4334086359249478,1.4571683620601477,1.4361024382459169,1.4415788190819374,1.4522296603575346,1.4355982394438283,1.4582391141201057,1.4413438454344851,1.4531629684252507,1.4481801494609592,1.5642601077985139,1.595556551640425,1.5909559355318468,1.6016288949306474,1.5988093211509642,1.5777320658943847,1.589815430493013,1.5819421970415222,1.5743598093808187,1.5871936549478725,1.59358039227262,1.6071294223102182,1.5927645117439968,1.6711983368101326,1.771286316832111,1.7707534507841716,1.7559257405514899,1.760981423801051,1.7813265133858551,1.765468045809869,1.7627731906543802,1.7689552583545212,1.7688199528294184,1.7626412959005338,1.7708525680684766,1.789950334722738,1.778999525551575,1.7556473282347929,1.7897571021935228,1.7886854075694096,1.769814379457775,1.7694936083837653,1.7694936083837653],\"type\":\"scatter\"},{\"customdata\":[[\"Data reconstruction drift\",\"\\u003cb style=\\\"color:#00c8e5;line-height:60px\\\"\\u003eReference\\u003c\\u002fb\\u003e\",\"\",\"[0:8999]\",\"Chunk index: \\u003cb\\u003e0\\u003c\\u002fb\\u003e\",1.4434,0.0303],[\"Data reconstruction drift\",\"\\u003cb style=\\\"color:#00c8e5;line-height:60px\\\"\\u003eReference\\u003c\\u002fb\\u003e\",\"\",\"[9000:17999]\",\"Chunk index: \\u003cb\\u003e1\\u003c\\u002fb\\u003e\",1.4383,0.0303],[\"Data reconstruction drift\",\"\\u003cb style=\\\"color:#00c8e5;line-height:60px\\\"\\u003eReference\\u003c\\u002fb\\u003e\",\"\",\"[18000:26999]\",\"Chunk index: \\u003cb\\u003e2\\u003c\\u002fb\\u003e\",1.4504,0.0303],[\"Data reconstruction drift\",\"\\u003cb style=\\\"color:#00c8e5;line-height:60px\\\"\\u003eReference\\u003c\\u002fb\\u003e\",\"\",\"[27000:35999]\",\"Chunk index: \\u003cb\\u003e3\\u003c\\u002fb\\u003e\",1.4298,0.0303],[\"Data reconstruction drift\",\"\\u003cb style=\\\"color:#00c8e5;line-height:60px\\\"\\u003eReference\\u003c\\u002fb\\u003e\",\"\",\"[36000:44999]\",\"Chunk index: \\u003cb\\u003e4\\u003c\\u002fb\\u003e\",1.4455,0.0303],[\"Data reconstruction drift\",\"\\u003cb style=\\\"color:#00c8e5;line-height:60px\\\"\\u003eReference\\u003c\\u002fb\\u003e\",\"\",\"[45000:53999]\",\"Chunk index: \\u003cb\\u003e5\\u003c\\u002fb\\u003e\",1.4319,0.0303],[\"Data reconstruction drift\",\"\\u003cb style=\\\"color:#00c8e5;line-height:60px\\\"\\u003eReference\\u003c\\u002fb\\u003e\",\"\",\"[54000:62999]\",\"Chunk index: \\u003cb\\u003e6\\u003c\\u002fb\\u003e\",1.4381,0.0303],[\"Data reconstruction drift\",\"\\u003cb style=\\\"color:#00c8e5;line-height:60px\\\"\\u003eReference\\u003c\\u002fb\\u003e\",\"\",\"[63000:71999]\",\"Chunk index: \\u003cb\\u003e7\\u003c\\u002fb\\u003e\",1.4288,0.0303],[\"Data reconstruction drift\",\"\\u003cb style=\\\"color:#00c8e5;line-height:60px\\\"\\u003eReference\\u003c\\u002fb\\u003e\",\"\",\"[72000:80999]\",\"Chunk index: \\u003cb\\u003e8\\u003c\\u002fb\\u003e\",1.4508,0.0303],[\"Data reconstruction drift\",\"\\u003cb style=\\\"color:#00c8e5;line-height:60px\\\"\\u003eReference\\u003c\\u002fb\\u003e\",\"\",\"[81000:89999]\",\"Chunk index: \\u003cb\\u003e9\\u003c\\u002fb\\u003e\",1.438,0.0303],[\"Data reconstruction drift\",\"\\u003cb style=\\\"color:#00c8e5;line-height:60px\\\"\\u003eReference\\u003c\\u002fb\\u003e\",\"\",\"[90000:98999]\",\"Chunk index: \\u003cb\\u003e10\\u003c\\u002fb\\u003e\",1.4496,0.0303],[\"Data reconstruction drift\",\"\\u003cb style=\\\"color:#00c8e5;line-height:60px\\\"\\u003eReference\\u003c\\u002fb\\u003e\",\"\",\"[99000:107999]\",\"Chunk index: \\u003cb\\u003e11\\u003c\\u002fb\\u003e\",1.4446,0.0303],[\"Data reconstruction drift\",\"\\u003cb style=\\\"color:#00c8e5;line-height:60px\\\"\\u003eReference\\u003c\\u002fb\\u003e\",\"\",\"[108000:116999]\",\"Chunk index: \\u003cb\\u003e12\\u003c\\u002fb\\u003e\",1.4215,0.0303],[\"Data reconstruction drift\",\"\\u003cb style=\\\"color:#00c8e5;line-height:60px\\\"\\u003eReference\\u003c\\u002fb\\u003e\",\"\",\"[117000:125999]\",\"Chunk index: \\u003cb\\u003e13\\u003c\\u002fb\\u003e\",1.4487,0.0303],[\"Data reconstruction drift\",\"\\u003cb style=\\\"color:#00c8e5;line-height:60px\\\"\\u003eReference\\u003c\\u002fb\\u003e\",\"\",\"[126000:134999]\",\"Chunk index: \\u003cb\\u003e14\\u003c\\u002fb\\u003e\",1.4386,0.0303],[\"Data reconstruction drift\",\"\\u003cb style=\\\"color:#00c8e5;line-height:60px\\\"\\u003eReference\\u003c\\u002fb\\u003e\",\"\",\"[135000:143999]\",\"Chunk index: \\u003cb\\u003e15\\u003c\\u002fb\\u003e\",1.4482,0.0303],[\"Data reconstruction drift\",\"\\u003cb style=\\\"color:#00c8e5;line-height:60px\\\"\\u003eReference\\u003c\\u002fb\\u003e\",\"\",\"[144000:152999]\",\"Chunk index: \\u003cb\\u003e16\\u003c\\u002fb\\u003e\",1.4334,0.0303],[\"Data reconstruction drift\",\"\\u003cb style=\\\"color:#00c8e5;line-height:60px\\\"\\u003eReference\\u003c\\u002fb\\u003e\",\"\",\"[153000:161999]\",\"Chunk index: \\u003cb\\u003e17\\u003c\\u002fb\\u003e\",1.4572,0.0303],[\"Data reconstruction drift\",\"\\u003cb style=\\\"color:#00c8e5;line-height:60px\\\"\\u003eReference\\u003c\\u002fb\\u003e\",\"\",\"[162000:170999]\",\"Chunk index: \\u003cb\\u003e18\\u003c\\u002fb\\u003e\",1.4361,0.0303],[\"Data reconstruction drift\",\"\\u003cb style=\\\"color:#00c8e5;line-height:60px\\\"\\u003eReference\\u003c\\u002fb\\u003e\",\"\",\"[171000:179999]\",\"Chunk index: \\u003cb\\u003e19\\u003c\\u002fb\\u003e\",1.4416,0.0303],[\"Data reconstruction drift\",\"\\u003cb style=\\\"color:#00c8e5;line-height:60px\\\"\\u003eReference\\u003c\\u002fb\\u003e\",\"\",\"[180000:188999]\",\"Chunk index: \\u003cb\\u003e20\\u003c\\u002fb\\u003e\",1.4522,0.0303],[\"Data reconstruction drift\",\"\\u003cb style=\\\"color:#00c8e5;line-height:60px\\\"\\u003eReference\\u003c\\u002fb\\u003e\",\"\",\"[189000:197999]\",\"Chunk index: \\u003cb\\u003e21\\u003c\\u002fb\\u003e\",1.4356,0.0303],[\"Data reconstruction drift\",\"\\u003cb style=\\\"color:#00c8e5;line-height:60px\\\"\\u003eReference\\u003c\\u002fb\\u003e\",\"\",\"[198000:206999]\",\"Chunk index: \\u003cb\\u003e22\\u003c\\u002fb\\u003e\",1.4582,0.0303],[\"Data reconstruction drift\",\"\\u003cb style=\\\"color:#00c8e5;line-height:60px\\\"\\u003eReference\\u003c\\u002fb\\u003e\",\"\",\"[207000:215999]\",\"Chunk index: \\u003cb\\u003e23\\u003c\\u002fb\\u003e\",1.4413,0.0303],[\"Data reconstruction drift\",\"\\u003cb style=\\\"color:#00c8e5;line-height:60px\\\"\\u003eReference\\u003c\\u002fb\\u003e\",\"\",\"[216000:224999]\",\"Chunk index: \\u003cb\\u003e24\\u003c\\u002fb\\u003e\",1.4532,0.0303],[\"Data reconstruction drift\",\"\\u003cb style=\\\"color:#00c8e5;line-height:60px\\\"\\u003eReference\\u003c\\u002fb\\u003e\",\"\",\"[225000:233999]\",\"Chunk index: \\u003cb\\u003e25\\u003c\\u002fb\\u003e\",1.4482,0.0303],[\"Data reconstruction drift\",\"\\u003cb style=\\\"color:#00c8e5;line-height:60px\\\"\\u003eReference\\u003c\\u002fb\\u003e\",\"\",\"[234000:242999]\",\"Chunk index: \\u003cb\\u003e26\\u003c\\u002fb\\u003e\",1.5643,0.0303],[\"Data reconstruction drift\",\"\\u003cb style=\\\"color:#00c8e5;line-height:60px\\\"\\u003eReference\\u003c\\u002fb\\u003e\",\"\",\"[243000:251999]\",\"Chunk index: \\u003cb\\u003e27\\u003c\\u002fb\\u003e\",1.5956,0.0303],[\"Data reconstruction drift\",\"\\u003cb style=\\\"color:#00c8e5;line-height:60px\\\"\\u003eReference\\u003c\\u002fb\\u003e\",\"\",\"[252000:260999]\",\"Chunk index: \\u003cb\\u003e28\\u003c\\u002fb\\u003e\",1.591,0.0303],[\"Data reconstruction drift\",\"\\u003cb style=\\\"color:#00c8e5;line-height:60px\\\"\\u003eReference\\u003c\\u002fb\\u003e\",\"\",\"[261000:269999]\",\"Chunk index: \\u003cb\\u003e29\\u003c\\u002fb\\u003e\",1.6016,0.0303],[\"Data reconstruction drift\",\"\\u003cb style=\\\"color:#00c8e5;line-height:60px\\\"\\u003eReference\\u003c\\u002fb\\u003e\",\"\",\"[270000:278999]\",\"Chunk index: \\u003cb\\u003e30\\u003c\\u002fb\\u003e\",1.5988,0.0303],[\"Data reconstruction drift\",\"\\u003cb style=\\\"color:#00c8e5;line-height:60px\\\"\\u003eReference\\u003c\\u002fb\\u003e\",\"\",\"[279000:287999]\",\"Chunk index: \\u003cb\\u003e31\\u003c\\u002fb\\u003e\",1.5777,0.0303],[\"Data reconstruction drift\",\"\\u003cb style=\\\"color:#00c8e5;line-height:60px\\\"\\u003eReference\\u003c\\u002fb\\u003e\",\"\",\"[288000:296999]\",\"Chunk index: \\u003cb\\u003e32\\u003c\\u002fb\\u003e\",1.5898,0.0303],[\"Data reconstruction drift\",\"\\u003cb style=\\\"color:#00c8e5;line-height:60px\\\"\\u003eReference\\u003c\\u002fb\\u003e\",\"\",\"[297000:305999]\",\"Chunk index: \\u003cb\\u003e33\\u003c\\u002fb\\u003e\",1.5819,0.0303],[\"Data reconstruction drift\",\"\\u003cb style=\\\"color:#00c8e5;line-height:60px\\\"\\u003eReference\\u003c\\u002fb\\u003e\",\"\",\"[306000:314999]\",\"Chunk index: \\u003cb\\u003e34\\u003c\\u002fb\\u003e\",1.5744,0.0303],[\"Data reconstruction drift\",\"\\u003cb style=\\\"color:#00c8e5;line-height:60px\\\"\\u003eReference\\u003c\\u002fb\\u003e\",\"\",\"[315000:323999]\",\"Chunk index: \\u003cb\\u003e35\\u003c\\u002fb\\u003e\",1.5872,0.0303],[\"Data reconstruction drift\",\"\\u003cb style=\\\"color:#00c8e5;line-height:60px\\\"\\u003eReference\\u003c\\u002fb\\u003e\",\"\",\"[324000:332999]\",\"Chunk index: \\u003cb\\u003e36\\u003c\\u002fb\\u003e\",1.5936,0.0303],[\"Data reconstruction drift\",\"\\u003cb style=\\\"color:#00c8e5;line-height:60px\\\"\\u003eReference\\u003c\\u002fb\\u003e\",\"\",\"[333000:341999]\",\"Chunk index: \\u003cb\\u003e37\\u003c\\u002fb\\u003e\",1.6071,0.0303],[\"Data reconstruction drift\",\"\\u003cb style=\\\"color:#00c8e5;line-height:60px\\\"\\u003eReference\\u003c\\u002fb\\u003e\",\"\",\"[342000:350999]\",\"Chunk index: \\u003cb\\u003e38\\u003c\\u002fb\\u003e\",1.5928,0.0303],[\"Data reconstruction drift\",\"\\u003cb style=\\\"color:#00c8e5;line-height:60px\\\"\\u003eReference\\u003c\\u002fb\\u003e\",\"\",\"[351000:359999]\",\"Chunk index: \\u003cb\\u003e39\\u003c\\u002fb\\u003e\",1.6712,0.0303],[\"Data reconstruction drift\",\"\\u003cb style=\\\"color:#00c8e5;line-height:60px\\\"\\u003eReference\\u003c\\u002fb\\u003e\",\"\",\"[360000:368999]\",\"Chunk index: \\u003cb\\u003e40\\u003c\\u002fb\\u003e\",1.7713,0.0303],[\"Data reconstruction drift\",\"\\u003cb style=\\\"color:#00c8e5;line-height:60px\\\"\\u003eReference\\u003c\\u002fb\\u003e\",\"\",\"[369000:377999]\",\"Chunk index: \\u003cb\\u003e41\\u003c\\u002fb\\u003e\",1.7708,0.0303],[\"Data reconstruction drift\",\"\\u003cb style=\\\"color:#00c8e5;line-height:60px\\\"\\u003eReference\\u003c\\u002fb\\u003e\",\"\",\"[378000:386999]\",\"Chunk index: \\u003cb\\u003e42\\u003c\\u002fb\\u003e\",1.7559,0.0303],[\"Data reconstruction drift\",\"\\u003cb style=\\\"color:#00c8e5;line-height:60px\\\"\\u003eReference\\u003c\\u002fb\\u003e\",\"\",\"[387000:395999]\",\"Chunk index: \\u003cb\\u003e43\\u003c\\u002fb\\u003e\",1.761,0.0303],[\"Data reconstruction drift\",\"\\u003cb style=\\\"color:#00c8e5;line-height:60px\\\"\\u003eReference\\u003c\\u002fb\\u003e\",\"\",\"[396000:404999]\",\"Chunk index: \\u003cb\\u003e44\\u003c\\u002fb\\u003e\",1.7813,0.0303],[\"Data reconstruction drift\",\"\\u003cb style=\\\"color:#00c8e5;line-height:60px\\\"\\u003eReference\\u003c\\u002fb\\u003e\",\"\",\"[405000:413999]\",\"Chunk index: \\u003cb\\u003e45\\u003c\\u002fb\\u003e\",1.7655,0.0303],[\"Data reconstruction drift\",\"\\u003cb style=\\\"color:#00c8e5;line-height:60px\\\"\\u003eReference\\u003c\\u002fb\\u003e\",\"\",\"[414000:422999]\",\"Chunk index: \\u003cb\\u003e46\\u003c\\u002fb\\u003e\",1.7628,0.0303],[\"Data reconstruction drift\",\"\\u003cb style=\\\"color:#00c8e5;line-height:60px\\\"\\u003eReference\\u003c\\u002fb\\u003e\",\"\",\"[423000:431999]\",\"Chunk index: \\u003cb\\u003e47\\u003c\\u002fb\\u003e\",1.769,0.0303],[\"Data reconstruction drift\",\"\\u003cb style=\\\"color:#00c8e5;line-height:60px\\\"\\u003eReference\\u003c\\u002fb\\u003e\",\"\",\"[432000:440999]\",\"Chunk index: \\u003cb\\u003e48\\u003c\\u002fb\\u003e\",1.7688,0.0303],[\"Data reconstruction drift\",\"\\u003cb style=\\\"color:#00c8e5;line-height:60px\\\"\\u003eReference\\u003c\\u002fb\\u003e\",\"\",\"[441000:449999]\",\"Chunk index: \\u003cb\\u003e49\\u003c\\u002fb\\u003e\",1.7626,0.0303],[\"Data reconstruction drift\",\"\\u003cb style=\\\"color:#00c8e5;line-height:60px\\\"\\u003eReference\\u003c\\u002fb\\u003e\",\"\",\"[450000:458999]\",\"Chunk index: \\u003cb\\u003e50\\u003c\\u002fb\\u003e\",1.7709,0.0303],[\"Data reconstruction drift\",\"\\u003cb style=\\\"color:#00c8e5;line-height:60px\\\"\\u003eReference\\u003c\\u002fb\\u003e\",\"\",\"[459000:467999]\",\"Chunk index: \\u003cb\\u003e51\\u003c\\u002fb\\u003e\",1.79,0.0303],[\"Data reconstruction drift\",\"\\u003cb style=\\\"color:#00c8e5;line-height:60px\\\"\\u003eReference\\u003c\\u002fb\\u003e\",\"\",\"[468000:476999]\",\"Chunk index: \\u003cb\\u003e52\\u003c\\u002fb\\u003e\",1.779,0.0303],[\"Data reconstruction drift\",\"\\u003cb style=\\\"color:#00c8e5;line-height:60px\\\"\\u003eReference\\u003c\\u002fb\\u003e\",\"\",\"[477000:485999]\",\"Chunk index: \\u003cb\\u003e53\\u003c\\u002fb\\u003e\",1.7556,0.0303],[\"Data reconstruction drift\",\"\\u003cb style=\\\"color:#00c8e5;line-height:60px\\\"\\u003eReference\\u003c\\u002fb\\u003e\",\"\",\"[486000:494999]\",\"Chunk index: \\u003cb\\u003e54\\u003c\\u002fb\\u003e\",1.7898,0.0303],[\"Data reconstruction drift\",\"\\u003cb style=\\\"color:#00c8e5;line-height:60px\\\"\\u003eReference\\u003c\\u002fb\\u003e\",\"\",\"[495000:503999]\",\"Chunk index: \\u003cb\\u003e55\\u003c\\u002fb\\u003e\",1.7887,0.0303],[\"Data reconstruction drift\",\"\\u003cb style=\\\"color:#00c8e5;line-height:60px\\\"\\u003eReference\\u003c\\u002fb\\u003e\",\"\",\"[504000:512999]\",\"Chunk index: \\u003cb\\u003e56\\u003c\\u002fb\\u003e\",1.7698,0.0303],[\"Data reconstruction drift\",\"\\u003cb style=\\\"color:#00c8e5;line-height:60px\\\"\\u003eReference\\u003c\\u002fb\\u003e\",\"\",\"[513000:530705]\",\"Chunk index: \\u003cb\\u003e57\\u003c\\u002fb\\u003e\",1.7695,0.0216]],\"hovertemplate\":\"%{customdata[1]} &nbsp; &nbsp; %{customdata[2]} \\u003cbr \\u002f\\u003eChunk: \\u003cb\\u003e%{customdata[3]}\\u003c\\u002fb\\u003e &nbsp; &nbsp; %{customdata[4]} \\u003cbr \\u002f\\u003e%{customdata[0]}: \\u003cb\\u003e%{customdata[5]}\\u003c\\u002fb\\u003e\\u003cbr \\u002f\\u003eConfidence band: +\\u002f- \\u003cb\\u003e%{customdata[6]}\\u003c\\u002fb\\u003e\\u003cbr \\u002f\\u003e\\u003cextra\\u003e\\u003c\\u002fextra\\u003e\",\"legendgroup\":\"metric_reference\",\"marker\":{\"color\":\"#00c8e5\",\"size\":5,\"symbol\":\"circle\"},\"mode\":\"markers\",\"name\":\"Metric\",\"showlegend\":false,\"x\":[0.5,1.5,2.5,3.5,4.5,5.5,6.5,7.5,8.5,9.5,10.5,11.5,12.5,13.5,14.5,15.5,16.5,17.5,18.5,19.5,20.5,21.5,22.5,23.5,24.5,25.5,26.5,27.5,28.5,29.5,30.5,31.5,32.5,33.5,34.5,35.5,36.5,37.5,38.5,39.5,40.5,41.5,42.5,43.5,44.5,45.5,46.5,47.5,48.5,49.5,50.5,51.5,52.5,53.5,54.5,55.5,56.5,57.5],\"y\":[1.4434228565115608,1.438335561293923,1.4503560981521295,1.4297971055121868,1.4455067152801884,1.4318518358574581,1.4381323964775907,1.4288430531076117,1.4507885591038112,1.4379681597705825,1.4495636734344544,1.4446191995489017,1.4215144788173932,1.4486837998382465,1.438634273530187,1.448154714347129,1.4334086359249478,1.4571683620601477,1.4361024382459169,1.4415788190819374,1.4522296603575346,1.4355982394438283,1.4582391141201057,1.4413438454344851,1.4531629684252507,1.4481801494609592,1.5642601077985139,1.595556551640425,1.5909559355318468,1.6016288949306474,1.5988093211509642,1.5777320658943847,1.589815430493013,1.5819421970415222,1.5743598093808187,1.5871936549478725,1.59358039227262,1.6071294223102182,1.5927645117439968,1.6711983368101326,1.771286316832111,1.7707534507841716,1.7559257405514899,1.760981423801051,1.7813265133858551,1.765468045809869,1.7627731906543802,1.7689552583545212,1.7688199528294184,1.7626412959005338,1.7708525680684766,1.789950334722738,1.778999525551575,1.7556473282347929,1.7897571021935228,1.7886854075694096,1.769814379457775,1.7694936083837653,1.7694936083837653],\"type\":\"scatter\"},{\"hoverinfo\":\"skip\",\"legendgroup\":\"metric_analysis\",\"line\":{\"color\":\"#00c8e5\",\"shape\":\"hv\",\"width\":2},\"mode\":\"lines\",\"name\":\"Metric\",\"showlegend\":false,\"x\":[58,59,60,61,62,63],\"y\":[1.477801472115292,1.7294536197774326,2.2157711001522644,2.220055082227164,8.619862346095374,8.619862346095374],\"type\":\"scatter\"},{\"customdata\":[[\"Data reconstruction drift\",\"\\u003cb style=\\\"color:#3b0280;line-height:60px\\\"\\u003eAnalysis\\u003c\\u002fb\\u003e\",\"\",\"[0:8999]\",\"Chunk index: \\u003cb\\u003e0\\u003c\\u002fb\\u003e\",1.4778,0.0303],[\"Data reconstruction drift\",\"\\u003cb style=\\\"color:#3b0280;line-height:60px\\\"\\u003eAnalysis\\u003c\\u002fb\\u003e\",\"\",\"[9000:17999]\",\"Chunk index: \\u003cb\\u003e1\\u003c\\u002fb\\u003e\",1.7295,0.0303],[\"Data reconstruction drift\",\"\\u003cb style=\\\"color:#3b0280;line-height:60px\\\"\\u003eAnalysis\\u003c\\u002fb\\u003e\",\"\\u003cspan style=\\\"color:#AD0000\\\"\\u003e\\u26a0 \\u003cb\\u003eDrift detected\\u003c\\u002fb\\u003e\\u003c\\u002fspan\\u003e\",\"[18000:26999]\",\"Chunk index: \\u003cb\\u003e2\\u003c\\u002fb\\u003e\",2.2158,0.0303],[\"Data reconstruction drift\",\"\\u003cb style=\\\"color:#3b0280;line-height:60px\\\"\\u003eAnalysis\\u003c\\u002fb\\u003e\",\"\\u003cspan style=\\\"color:#AD0000\\\"\\u003e\\u26a0 \\u003cb\\u003eDrift detected\\u003c\\u002fb\\u003e\\u003c\\u002fspan\\u003e\",\"[27000:35999]\",\"Chunk index: \\u003cb\\u003e3\\u003c\\u002fb\\u003e\",2.2201,0.0303],[\"Data reconstruction drift\",\"\\u003cb style=\\\"color:#3b0280;line-height:60px\\\"\\u003eAnalysis\\u003c\\u002fb\\u003e\",\"\\u003cspan style=\\\"color:#AD0000\\\"\\u003e\\u26a0 \\u003cb\\u003eDrift detected\\u003c\\u002fb\\u003e\\u003c\\u002fspan\\u003e\",\"[36000:49175]\",\"Chunk index: \\u003cb\\u003e4\\u003c\\u002fb\\u003e\",8.6199,0.025]],\"hovertemplate\":\"%{customdata[1]} &nbsp; &nbsp; %{customdata[2]} \\u003cbr \\u002f\\u003eChunk: \\u003cb\\u003e%{customdata[3]}\\u003c\\u002fb\\u003e &nbsp; &nbsp; %{customdata[4]} \\u003cbr \\u002f\\u003e%{customdata[0]}: \\u003cb\\u003e%{customdata[5]}\\u003c\\u002fb\\u003e\\u003cbr \\u002f\\u003eConfidence band: +\\u002f- \\u003cb\\u003e%{customdata[6]}\\u003c\\u002fb\\u003e\\u003cbr \\u002f\\u003e\\u003cextra\\u003e\\u003c\\u002fextra\\u003e\",\"legendgroup\":\"metric_analysis\",\"marker\":{\"color\":\"#00c8e5\",\"size\":5,\"symbol\":\"circle\"},\"mode\":\"markers\",\"name\":\"Metric\",\"showlegend\":false,\"x\":[58.5,59.5,60.5,61.5,62.5],\"y\":[1.477801472115292,1.7294536197774326,2.2157711001522644,2.220055082227164,8.619862346095374,8.619862346095374],\"type\":\"scatter\"},{\"hoverinfo\":\"skip\",\"legendgroup\":\"alert\",\"marker\":{\"color\":\"#DD4040\",\"size\":8,\"symbol\":\"diamond\"},\"mode\":\"markers\",\"name\":\"Alert\",\"showlegend\":true,\"x\":[60.5,61.5,62.5],\"y\":[2.2157711001522644,2.220055082227164,8.619862346095374],\"type\":\"scatter\"},{\"hoverinfo\":\"skip\",\"legendgroup\":\"thresh\",\"line\":{\"color\":\"#DD4040\",\"dash\":\"dash\",\"width\":2},\"mode\":\"lines\",\"name\":\"Threshold\",\"showlegend\":false,\"x\":[0,1,2,3,4,5,6,7,8,9,10,11,12,13,14,15,16,17,18,19,20,21,22,23,24,25,26,27,28,29,30,31,32,33,34,35,36,37,38,39,40,41,42,43,44,45,46,47,48,49,50,51,52,53,54,55,56,57,58],\"y\":[2.006474576913227,2.006474576913227,2.006474576913227,2.006474576913227,2.006474576913227,2.006474576913227,2.006474576913227,2.006474576913227,2.006474576913227,2.006474576913227,2.006474576913227,2.006474576913227,2.006474576913227,2.006474576913227,2.006474576913227,2.006474576913227,2.006474576913227,2.006474576913227,2.006474576913227,2.006474576913227,2.006474576913227,2.006474576913227,2.006474576913227,2.006474576913227,2.006474576913227,2.006474576913227,2.006474576913227,2.006474576913227,2.006474576913227,2.006474576913227,2.006474576913227,2.006474576913227,2.006474576913227,2.006474576913227,2.006474576913227,2.006474576913227,2.006474576913227,2.006474576913227,2.006474576913227,2.006474576913227,2.006474576913227,2.006474576913227,2.006474576913227,2.006474576913227,2.006474576913227,2.006474576913227,2.006474576913227,2.006474576913227,2.006474576913227,2.006474576913227,2.006474576913227,2.006474576913227,2.006474576913227,2.006474576913227,2.006474576913227,2.006474576913227,2.006474576913227,2.006474576913227,2.006474576913227],\"type\":\"scatter\"},{\"hoverinfo\":\"skip\",\"legendgroup\":\"thresh\",\"line\":{\"color\":\"#DD4040\",\"dash\":\"dash\",\"width\":2},\"mode\":\"lines\",\"name\":\"Threshold\",\"showlegend\":false,\"x\":[0,1,2,3,4,5,6,7,8,9,10,11,12,13,14,15,16,17,18,19,20,21,22,23,24,25,26,27,28,29,30,31,32,33,34,35,36,37,38,39,40,41,42,43,44,45,46,47,48,49,50,51,52,53,54,55,56,57,58],\"y\":[1.156016553713356,1.156016553713356,1.156016553713356,1.156016553713356,1.156016553713356,1.156016553713356,1.156016553713356,1.156016553713356,1.156016553713356,1.156016553713356,1.156016553713356,1.156016553713356,1.156016553713356,1.156016553713356,1.156016553713356,1.156016553713356,1.156016553713356,1.156016553713356,1.156016553713356,1.156016553713356,1.156016553713356,1.156016553713356,1.156016553713356,1.156016553713356,1.156016553713356,1.156016553713356,1.156016553713356,1.156016553713356,1.156016553713356,1.156016553713356,1.156016553713356,1.156016553713356,1.156016553713356,1.156016553713356,1.156016553713356,1.156016553713356,1.156016553713356,1.156016553713356,1.156016553713356,1.156016553713356,1.156016553713356,1.156016553713356,1.156016553713356,1.156016553713356,1.156016553713356,1.156016553713356,1.156016553713356,1.156016553713356,1.156016553713356,1.156016553713356,1.156016553713356,1.156016553713356,1.156016553713356,1.156016553713356,1.156016553713356,1.156016553713356,1.156016553713356,1.156016553713356,1.156016553713356],\"type\":\"scatter\"},{\"hoverinfo\":\"skip\",\"legendgroup\":\"thresh\",\"line\":{\"color\":\"#DD4040\",\"dash\":\"dash\",\"width\":2},\"mode\":\"lines\",\"name\":\"Threshold\",\"showlegend\":false,\"x\":[58,59,60,61,62,63],\"y\":[2.006474576913227,2.006474576913227,2.006474576913227,2.006474576913227,2.006474576913227,2.006474576913227],\"type\":\"scatter\"},{\"hoverinfo\":\"skip\",\"legendgroup\":\"thresh\",\"line\":{\"color\":\"#DD4040\",\"dash\":\"dash\",\"width\":2},\"mode\":\"lines\",\"name\":\"Threshold\",\"showlegend\":false,\"x\":[58,59,60,61,62,63],\"y\":[1.156016553713356,1.156016553713356,1.156016553713356,1.156016553713356,1.156016553713356,1.156016553713356],\"type\":\"scatter\"},{\"hoverinfo\":\"skip\",\"line\":{\"color\":\"rgba(0,0,0,0)\",\"shape\":\"hv\"},\"mode\":\"lines\",\"name\":\"Confidence band\",\"showlegend\":false,\"x\":[0,1,2,3,4,5,6,7,8,9,10,11,12,13,14,15,16,17,18,19,20,21,22,23,24,25,26,27,28,29,30,31,32,33,34,35,36,37,38,39,40,41,42,43,44,45,46,47,48,49,50,51,52,53,54,55,56,57,58],\"y\":[1.4737318961992332,1.4686446009815954,1.480665137839802,1.4601061451998592,1.4758157549678608,1.4621608755451305,1.4684414361652631,1.4591520927952841,1.4810975987914836,1.4682771994582549,1.4798727131221268,1.4749282392365741,1.4518235185050656,1.4789928395259189,1.4689433132178593,1.4784637540348013,1.4637176756126202,1.48747740174782,1.4664114779335893,1.4718878587696098,1.482538700045207,1.4659072791315007,1.488548153807778,1.4716528851221575,1.4834720081129231,1.4784891891486316,1.5945691474861863,1.6258655913280975,1.6212649752195192,1.6319379346183198,1.6291183608386366,1.6080411055820572,1.6201244701806854,1.6122512367291946,1.604668849068491,1.6175026946355449,1.6238894319602923,1.6374384619978906,1.6230735514316692,1.701507376497805,1.8015953565197833,1.801062490471844,1.7862347802391623,1.7912904634887235,1.8116355530735275,1.7957770854975414,1.7930822303420526,1.7992642980421936,1.7991289925170908,1.7929503355882062,1.801161607756149,1.8202593744104103,1.8093085652392473,1.7859563679224653,1.8200661418811952,1.818994447257082,1.8001234191454474,1.791102535324863,1.791102535324863],\"type\":\"scatter\"},{\"fill\":\"tonexty\",\"fillcolor\":\"rgba(0.0, 0.7843137254901961, 0.8980392156862745, 0.2)\",\"hoverinfo\":\"skip\",\"line\":{\"color\":\"rgba(0,0,0,0)\",\"shape\":\"hv\"},\"mode\":\"lines\",\"name\":\"Confidence band\",\"showlegend\":true,\"x\":[0,1,2,3,4,5,6,7,8,9,10,11,12,13,14,15,16,17,18,19,20,21,22,23,24,25,26,27,28,29,30,31,32,33,34,35,36,37,38,39,40,41,42,43,44,45,46,47,48,49,50,51,52,53,54,55,56,57,58],\"y\":[1.4131138168238884,1.4080265216062506,1.4200470584644571,1.3994880658245143,1.415197675592516,1.4015427961697857,1.4078233567899183,1.3985340134199393,1.4204795194161388,1.40765912008291,1.419254633746782,1.4143101598612293,1.3912054391297208,1.418374760150574,1.4083252338425145,1.4178456746594565,1.4030995962372754,1.4268593223724753,1.4057933985582445,1.411269779394265,1.4219206206698622,1.4052891997561558,1.4279300744324332,1.4110348057468127,1.4228539287375783,1.4178711097732868,1.5339510681108415,1.5652475119527527,1.5606468958441744,1.571319855242975,1.5685002814632918,1.5474230262067123,1.5595063908053406,1.5516331573538498,1.5440507696931463,1.5568846152602,1.5632713525849475,1.5768203826225458,1.5624554720563244,1.6408892971224602,1.7409772771444385,1.7404444110964992,1.7256167008638175,1.7306723841133786,1.7510174736981827,1.7351590061221966,1.7324641509667078,1.7386462186668488,1.738510913141746,1.7323322562128614,1.7405435283808042,1.7596412950350655,1.7486904858639025,1.7253382885471205,1.7594480625058504,1.7583763678817372,1.7395053397701026,1.7478846814426676,1.7478846814426676],\"type\":\"scatter\"},{\"hoverinfo\":\"skip\",\"line\":{\"color\":\"rgba(0,0,0,0)\",\"shape\":\"hv\"},\"mode\":\"lines\",\"name\":\"Confidence band\",\"showlegend\":false,\"x\":[58,59,60,61,62,63],\"y\":[1.5081105118029643,1.759762659465105,2.246080139839937,2.2503641219148367,8.644911994702642,8.644911994702642],\"type\":\"scatter\"},{\"fill\":\"tonexty\",\"fillcolor\":\"rgba(0.0, 0.7843137254901961, 0.8980392156862745, 0.2)\",\"hoverinfo\":\"skip\",\"line\":{\"color\":\"rgba(0,0,0,0)\",\"shape\":\"hv\"},\"mode\":\"lines\",\"name\":\"Confidence band\",\"showlegend\":false,\"x\":[58,59,60,61,62,63],\"y\":[1.4474924324276195,1.6991445800897602,2.185462060464592,2.1897460425394915,8.594812697488106,8.594812697488106],\"type\":\"scatter\"}],                        {\"hoverlabel\":{\"bgcolor\":\"white\",\"font\":{\"size\":14}},\"legend\":{\"itemclick\":false,\"itemdoubleclick\":false,\"traceorder\":\"grouped\"},\"paper_bgcolor\":\"rgba(255,255,255,1)\",\"plot_bgcolor\":\"rgba(255,255,255,1)\",\"title\":{\"text\":\"Multivariate drift (PCA reconstruction error)\"},\"xaxis\":{\"linecolor\":\"#3b0280\",\"mirror\":true,\"showgrid\":false,\"title\":{\"text\":\"Chunk\"},\"zeroline\":false,\"matches\":\"x\"},\"yaxis\":{\"linecolor\":\"#3b0280\",\"mirror\":true,\"showgrid\":false,\"title\":{\"text\":\"Data reconstruction drift\"},\"zeroline\":false},\"template\":{\"data\":{\"histogram2dcontour\":[{\"type\":\"histogram2dcontour\",\"colorbar\":{\"outlinewidth\":0,\"ticks\":\"\"},\"colorscale\":[[0.0,\"#0d0887\"],[0.1111111111111111,\"#46039f\"],[0.2222222222222222,\"#7201a8\"],[0.3333333333333333,\"#9c179e\"],[0.4444444444444444,\"#bd3786\"],[0.5555555555555556,\"#d8576b\"],[0.6666666666666666,\"#ed7953\"],[0.7777777777777778,\"#fb9f3a\"],[0.8888888888888888,\"#fdca26\"],[1.0,\"#f0f921\"]]}],\"choropleth\":[{\"type\":\"choropleth\",\"colorbar\":{\"outlinewidth\":0,\"ticks\":\"\"}}],\"histogram2d\":[{\"type\":\"histogram2d\",\"colorbar\":{\"outlinewidth\":0,\"ticks\":\"\"},\"colorscale\":[[0.0,\"#0d0887\"],[0.1111111111111111,\"#46039f\"],[0.2222222222222222,\"#7201a8\"],[0.3333333333333333,\"#9c179e\"],[0.4444444444444444,\"#bd3786\"],[0.5555555555555556,\"#d8576b\"],[0.6666666666666666,\"#ed7953\"],[0.7777777777777778,\"#fb9f3a\"],[0.8888888888888888,\"#fdca26\"],[1.0,\"#f0f921\"]]}],\"heatmap\":[{\"type\":\"heatmap\",\"colorbar\":{\"outlinewidth\":0,\"ticks\":\"\"},\"colorscale\":[[0.0,\"#0d0887\"],[0.1111111111111111,\"#46039f\"],[0.2222222222222222,\"#7201a8\"],[0.3333333333333333,\"#9c179e\"],[0.4444444444444444,\"#bd3786\"],[0.5555555555555556,\"#d8576b\"],[0.6666666666666666,\"#ed7953\"],[0.7777777777777778,\"#fb9f3a\"],[0.8888888888888888,\"#fdca26\"],[1.0,\"#f0f921\"]]}],\"heatmapgl\":[{\"type\":\"heatmapgl\",\"colorbar\":{\"outlinewidth\":0,\"ticks\":\"\"},\"colorscale\":[[0.0,\"#0d0887\"],[0.1111111111111111,\"#46039f\"],[0.2222222222222222,\"#7201a8\"],[0.3333333333333333,\"#9c179e\"],[0.4444444444444444,\"#bd3786\"],[0.5555555555555556,\"#d8576b\"],[0.6666666666666666,\"#ed7953\"],[0.7777777777777778,\"#fb9f3a\"],[0.8888888888888888,\"#fdca26\"],[1.0,\"#f0f921\"]]}],\"contourcarpet\":[{\"type\":\"contourcarpet\",\"colorbar\":{\"outlinewidth\":0,\"ticks\":\"\"}}],\"contour\":[{\"type\":\"contour\",\"colorbar\":{\"outlinewidth\":0,\"ticks\":\"\"},\"colorscale\":[[0.0,\"#0d0887\"],[0.1111111111111111,\"#46039f\"],[0.2222222222222222,\"#7201a8\"],[0.3333333333333333,\"#9c179e\"],[0.4444444444444444,\"#bd3786\"],[0.5555555555555556,\"#d8576b\"],[0.6666666666666666,\"#ed7953\"],[0.7777777777777778,\"#fb9f3a\"],[0.8888888888888888,\"#fdca26\"],[1.0,\"#f0f921\"]]}],\"surface\":[{\"type\":\"surface\",\"colorbar\":{\"outlinewidth\":0,\"ticks\":\"\"},\"colorscale\":[[0.0,\"#0d0887\"],[0.1111111111111111,\"#46039f\"],[0.2222222222222222,\"#7201a8\"],[0.3333333333333333,\"#9c179e\"],[0.4444444444444444,\"#bd3786\"],[0.5555555555555556,\"#d8576b\"],[0.6666666666666666,\"#ed7953\"],[0.7777777777777778,\"#fb9f3a\"],[0.8888888888888888,\"#fdca26\"],[1.0,\"#f0f921\"]]}],\"mesh3d\":[{\"type\":\"mesh3d\",\"colorbar\":{\"outlinewidth\":0,\"ticks\":\"\"}}],\"scatter\":[{\"fillpattern\":{\"fillmode\":\"overlay\",\"size\":10,\"solidity\":0.2},\"type\":\"scatter\"}],\"parcoords\":[{\"type\":\"parcoords\",\"line\":{\"colorbar\":{\"outlinewidth\":0,\"ticks\":\"\"}}}],\"scatterpolargl\":[{\"type\":\"scatterpolargl\",\"marker\":{\"colorbar\":{\"outlinewidth\":0,\"ticks\":\"\"}}}],\"bar\":[{\"error_x\":{\"color\":\"#2a3f5f\"},\"error_y\":{\"color\":\"#2a3f5f\"},\"marker\":{\"line\":{\"color\":\"#E5ECF6\",\"width\":0.5},\"pattern\":{\"fillmode\":\"overlay\",\"size\":10,\"solidity\":0.2}},\"type\":\"bar\"}],\"scattergeo\":[{\"type\":\"scattergeo\",\"marker\":{\"colorbar\":{\"outlinewidth\":0,\"ticks\":\"\"}}}],\"scatterpolar\":[{\"type\":\"scatterpolar\",\"marker\":{\"colorbar\":{\"outlinewidth\":0,\"ticks\":\"\"}}}],\"histogram\":[{\"marker\":{\"pattern\":{\"fillmode\":\"overlay\",\"size\":10,\"solidity\":0.2}},\"type\":\"histogram\"}],\"scattergl\":[{\"type\":\"scattergl\",\"marker\":{\"colorbar\":{\"outlinewidth\":0,\"ticks\":\"\"}}}],\"scatter3d\":[{\"type\":\"scatter3d\",\"line\":{\"colorbar\":{\"outlinewidth\":0,\"ticks\":\"\"}},\"marker\":{\"colorbar\":{\"outlinewidth\":0,\"ticks\":\"\"}}}],\"scattermapbox\":[{\"type\":\"scattermapbox\",\"marker\":{\"colorbar\":{\"outlinewidth\":0,\"ticks\":\"\"}}}],\"scatterternary\":[{\"type\":\"scatterternary\",\"marker\":{\"colorbar\":{\"outlinewidth\":0,\"ticks\":\"\"}}}],\"scattercarpet\":[{\"type\":\"scattercarpet\",\"marker\":{\"colorbar\":{\"outlinewidth\":0,\"ticks\":\"\"}}}],\"carpet\":[{\"aaxis\":{\"endlinecolor\":\"#2a3f5f\",\"gridcolor\":\"white\",\"linecolor\":\"white\",\"minorgridcolor\":\"white\",\"startlinecolor\":\"#2a3f5f\"},\"baxis\":{\"endlinecolor\":\"#2a3f5f\",\"gridcolor\":\"white\",\"linecolor\":\"white\",\"minorgridcolor\":\"white\",\"startlinecolor\":\"#2a3f5f\"},\"type\":\"carpet\"}],\"table\":[{\"cells\":{\"fill\":{\"color\":\"#EBF0F8\"},\"line\":{\"color\":\"white\"}},\"header\":{\"fill\":{\"color\":\"#C8D4E3\"},\"line\":{\"color\":\"white\"}},\"type\":\"table\"}],\"barpolar\":[{\"marker\":{\"line\":{\"color\":\"#E5ECF6\",\"width\":0.5},\"pattern\":{\"fillmode\":\"overlay\",\"size\":10,\"solidity\":0.2}},\"type\":\"barpolar\"}],\"pie\":[{\"automargin\":true,\"type\":\"pie\"}]},\"layout\":{\"autotypenumbers\":\"strict\",\"colorway\":[\"#636efa\",\"#EF553B\",\"#00cc96\",\"#ab63fa\",\"#FFA15A\",\"#19d3f3\",\"#FF6692\",\"#B6E880\",\"#FF97FF\",\"#FECB52\"],\"font\":{\"color\":\"#2a3f5f\"},\"hovermode\":\"closest\",\"hoverlabel\":{\"align\":\"left\"},\"paper_bgcolor\":\"white\",\"plot_bgcolor\":\"#E5ECF6\",\"polar\":{\"bgcolor\":\"#E5ECF6\",\"angularaxis\":{\"gridcolor\":\"white\",\"linecolor\":\"white\",\"ticks\":\"\"},\"radialaxis\":{\"gridcolor\":\"white\",\"linecolor\":\"white\",\"ticks\":\"\"}},\"ternary\":{\"bgcolor\":\"#E5ECF6\",\"aaxis\":{\"gridcolor\":\"white\",\"linecolor\":\"white\",\"ticks\":\"\"},\"baxis\":{\"gridcolor\":\"white\",\"linecolor\":\"white\",\"ticks\":\"\"},\"caxis\":{\"gridcolor\":\"white\",\"linecolor\":\"white\",\"ticks\":\"\"}},\"coloraxis\":{\"colorbar\":{\"outlinewidth\":0,\"ticks\":\"\"}},\"colorscale\":{\"sequential\":[[0.0,\"#0d0887\"],[0.1111111111111111,\"#46039f\"],[0.2222222222222222,\"#7201a8\"],[0.3333333333333333,\"#9c179e\"],[0.4444444444444444,\"#bd3786\"],[0.5555555555555556,\"#d8576b\"],[0.6666666666666666,\"#ed7953\"],[0.7777777777777778,\"#fb9f3a\"],[0.8888888888888888,\"#fdca26\"],[1.0,\"#f0f921\"]],\"sequentialminus\":[[0.0,\"#0d0887\"],[0.1111111111111111,\"#46039f\"],[0.2222222222222222,\"#7201a8\"],[0.3333333333333333,\"#9c179e\"],[0.4444444444444444,\"#bd3786\"],[0.5555555555555556,\"#d8576b\"],[0.6666666666666666,\"#ed7953\"],[0.7777777777777778,\"#fb9f3a\"],[0.8888888888888888,\"#fdca26\"],[1.0,\"#f0f921\"]],\"diverging\":[[0,\"#8e0152\"],[0.1,\"#c51b7d\"],[0.2,\"#de77ae\"],[0.3,\"#f1b6da\"],[0.4,\"#fde0ef\"],[0.5,\"#f7f7f7\"],[0.6,\"#e6f5d0\"],[0.7,\"#b8e186\"],[0.8,\"#7fbc41\"],[0.9,\"#4d9221\"],[1,\"#276419\"]]},\"xaxis\":{\"gridcolor\":\"white\",\"linecolor\":\"white\",\"ticks\":\"\",\"title\":{\"standoff\":15},\"zerolinecolor\":\"white\",\"automargin\":true,\"zerolinewidth\":2},\"yaxis\":{\"gridcolor\":\"white\",\"linecolor\":\"white\",\"ticks\":\"\",\"title\":{\"standoff\":15},\"zerolinecolor\":\"white\",\"automargin\":true,\"zerolinewidth\":2},\"scene\":{\"xaxis\":{\"backgroundcolor\":\"#E5ECF6\",\"gridcolor\":\"white\",\"linecolor\":\"white\",\"showbackground\":true,\"ticks\":\"\",\"zerolinecolor\":\"white\",\"gridwidth\":2},\"yaxis\":{\"backgroundcolor\":\"#E5ECF6\",\"gridcolor\":\"white\",\"linecolor\":\"white\",\"showbackground\":true,\"ticks\":\"\",\"zerolinecolor\":\"white\",\"gridwidth\":2},\"zaxis\":{\"backgroundcolor\":\"#E5ECF6\",\"gridcolor\":\"white\",\"linecolor\":\"white\",\"showbackground\":true,\"ticks\":\"\",\"zerolinecolor\":\"white\",\"gridwidth\":2}},\"shapedefaults\":{\"line\":{\"color\":\"#2a3f5f\"}},\"annotationdefaults\":{\"arrowcolor\":\"#2a3f5f\",\"arrowhead\":0,\"arrowwidth\":1},\"geo\":{\"bgcolor\":\"white\",\"landcolor\":\"#E5ECF6\",\"subunitcolor\":\"white\",\"showland\":true,\"showlakes\":true,\"lakecolor\":\"white\"},\"title\":{\"x\":0.05},\"mapbox\":{\"style\":\"light\"}}},\"shapes\":[{\"layer\":\"below\",\"line\":{\"color\":\"#666666\",\"width\":1},\"type\":\"line\",\"x0\":58,\"x1\":58,\"xref\":\"x\",\"y0\":0,\"y1\":1,\"yref\":\"y domain\"}],\"annotations\":[{\"showarrow\":false,\"text\":\"Reference\",\"x\":28.5,\"xshift\":10,\"y\":1.01,\"yref\":\"y domain\"},{\"showarrow\":false,\"text\":\"Analysis\",\"x\":60.0,\"xshift\":15,\"y\":1.01,\"yref\":\"y domain\"}]},                        {\"responsive\": true}                    ).then(function(){\n",
       "                            \n",
       "var gd = document.getElementById('a22cd2b5-d8e9-49e0-a1da-32c33ba0693a');\n",
       "var x = new MutationObserver(function (mutations, observer) {{\n",
       "        var display = window.getComputedStyle(gd).display;\n",
       "        if (!display || display === 'none') {{\n",
       "            console.log([gd, 'removed!']);\n",
       "            Plotly.purge(gd);\n",
       "            observer.disconnect();\n",
       "        }}\n",
       "}});\n",
       "\n",
       "// Listen for the removal of the full notebook cells\n",
       "var notebookContainer = gd.closest('#notebook-container');\n",
       "if (notebookContainer) {{\n",
       "    x.observe(notebookContainer, {childList: true});\n",
       "}}\n",
       "\n",
       "// Listen for the clearing of the current output cell\n",
       "var outputEl = gd.closest('.output');\n",
       "if (outputEl) {{\n",
       "    x.observe(outputEl, {childList: true});\n",
       "}}\n",
       "\n",
       "                        })                };                });            </script>        </div>"
      ]
     },
     "metadata": {},
     "output_type": "display_data"
    }
   ],
   "source": [
    "display(results.filter(period='reference').to_df())\n",
    "display(results.filter(period='analysis').to_df())\n",
    "\n",
    "figure = results.plot()\n",
    "figure.show()"
   ]
  },
  {
   "cell_type": "code",
   "execution_count": null,
   "id": "b9e9666f-09c8-40cf-8676-c421098bd901",
   "metadata": {},
   "outputs": [],
   "source": []
  },
  {
   "cell_type": "code",
   "execution_count": null,
   "id": "d09a385e-8e2d-47ed-9249-20bb32bfb01c",
   "metadata": {},
   "outputs": [],
   "source": []
  }
 ],
 "metadata": {
  "kernelspec": {
   "display_name": "Python 3 (ipykernel)",
   "language": "python",
   "name": "python3"
  },
  "language_info": {
   "codemirror_mode": {
    "name": "ipython",
    "version": 3
   },
   "file_extension": ".py",
   "mimetype": "text/x-python",
   "name": "python",
   "nbconvert_exporter": "python",
   "pygments_lexer": "ipython3",
   "version": "3.10.12"
  },
  "widgets": {
   "application/vnd.jupyter.widget-state+json": {
    "state": {},
    "version_major": 2,
    "version_minor": 0
   }
  }
 },
 "nbformat": 4,
 "nbformat_minor": 5
}
